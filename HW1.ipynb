{
 "cells": [
  {
   "cell_type": "code",
   "execution_count": 87,
   "metadata": {
    "collapsed": true
   },
   "outputs": [],
   "source": [
    "import pandas as pd\n",
    "import numpy as np\n",
    "import matplotlib.pyplot as plt"
   ]
  },
  {
   "cell_type": "markdown",
   "metadata": {},
   "source": [
    "Problem 1: Data Acquisition and Analysis"
   ]
  },
  {
   "cell_type": "code",
   "execution_count": null,
   "metadata": {
    "collapsed": true
   },
   "outputs": [],
   "source": [
    "### 1.1 Merge Data"
   ]
  },
  {
   "cell_type": "code",
   "execution_count": 88,
   "metadata": {
    "collapsed": false
   },
   "outputs": [],
   "source": [
    "potholes = pd.read_csv('311-potholes-2016.csv')\n",
    "graffiti = pd.read_csv('311-graffiti-2016.csv')\n",
    "vacant = pd.read_csv('311-vacant-2016.csv')\n",
    "sanitation = pd.read_csv('311-sanitation-2016.csv')"
   ]
  },
  {
   "cell_type": "code",
   "execution_count": 89,
   "metadata": {
    "collapsed": false
   },
   "outputs": [],
   "source": [
    "graffiti.columns = [x.lower() for x in graffiti.columns]\n",
    "vacant.columns = [x.lower() for x in vacant.columns]\n",
    "potholes.columns = [x.lower() for x in potholes.columns]\n",
    "sanitation.columns = [x.lower() for x in sanitation.columns]"
   ]
  },
  {
   "cell_type": "code",
   "execution_count": 163,
   "metadata": {
    "collapsed": false
   },
   "outputs": [],
   "source": [
    "vacant['completion date']=''\n",
    "vacant['street address'] = vacant['address street number'].map(str) +' '+ vacant['address street direction']\\\n",
    "+' '+ vacant['address street name'] +' '+ vacant['address street suffix']"
   ]
  },
  {
   "cell_type": "code",
   "execution_count": 92,
   "metadata": {
    "collapsed": false
   },
   "outputs": [],
   "source": [
    "graffiti['time to complete'] = pd.to_datetime(graffiti['completion date'])-pd.to_datetime(graffiti['creation date'])\n",
    "potholes['time to complete'] = (pd.to_datetime(potholes['completion date'])-pd.to_datetime(potholes['creation date']))\n",
    "sanitation['time to complete'] = (pd.to_datetime(sanitation['completion date'])-pd.to_datetime(sanitation['creation date']))\n",
    "vacant['time to complete'] = ''"
   ]
  },
  {
   "cell_type": "code",
   "execution_count": 96,
   "metadata": {
    "collapsed": false
   },
   "outputs": [],
   "source": [
    "g_sub = graffiti[['creation date', 'completion date','time to complete', 'type of service request', \\\n",
    "                  'what type of surface is the graffiti on?', 'community area', 'zip code', 'street address', \\\n",
    "                  'latitude', 'longitude', 'location']]\n",
    "\n",
    "v_sub = vacant[['date service request was received','completion date', 'time to complete','service request type', \\\n",
    "                  'location of building on the lot (if garage, change type code to bgd).', 'community area', 'zip code', 'street address', \\\n",
    "                  'latitude', 'longitude', 'location']]\n",
    "p_sub = potholes[['creation date',  'completion date', 'time to complete','type of service request', \\\n",
    "                  'most recent action', 'community area', 'zip', 'street address', \\\n",
    "                  'latitude', 'longitude', 'location']]\n",
    "s_sub = sanitation[['creation date',  'completion date','time to complete', 'type of service request', \\\n",
    "                  'what is the nature of this code violation?', 'community area', 'zip code', 'street address', \\\n",
    "                  'latitude', 'longitude', 'location']]"
   ]
  },
  {
   "cell_type": "code",
   "execution_count": 105,
   "metadata": {
    "collapsed": false
   },
   "outputs": [],
   "source": [
    "header = ['creation date',  'completion date', 'time to complete', 'service request type', 'subtype', 'community area', \\\n",
    "          'zip code', 'street address', 'latitude', 'longitude', 'location']\n",
    "g_sub.columns = header\n",
    "v_sub.columns = header\n",
    "p_sub.columns = header\n",
    "s_sub.columns = header"
   ]
  },
  {
   "cell_type": "code",
   "execution_count": 107,
   "metadata": {
    "collapsed": false
   },
   "outputs": [],
   "source": [
    "df = pd.concat([g_sub, v_sub, p_sub, s_sub])\n"
   ]
  },
  {
   "cell_type": "code",
   "execution_count": null,
   "metadata": {
    "collapsed": true
   },
   "outputs": [],
   "source": [
    "### 1.2 Statistics Summary"
   ]
  },
  {
   "cell_type": "code",
   "execution_count": 109,
   "metadata": {
    "collapsed": false
   },
   "outputs": [
    {
     "data": {
      "text/html": [
       "<div>\n",
       "<table border=\"1\" class=\"dataframe\">\n",
       "  <thead>\n",
       "    <tr style=\"text-align: right;\">\n",
       "      <th></th>\n",
       "      <th>service request type</th>\n",
       "    </tr>\n",
       "  </thead>\n",
       "  <tbody>\n",
       "    <tr>\n",
       "      <th>Graffiti Removal</th>\n",
       "      <td>120461</td>\n",
       "    </tr>\n",
       "    <tr>\n",
       "      <th>Pothole in Street</th>\n",
       "      <td>51507</td>\n",
       "    </tr>\n",
       "    <tr>\n",
       "      <th>Sanitation Code Violation</th>\n",
       "      <td>21139</td>\n",
       "    </tr>\n",
       "    <tr>\n",
       "      <th>Vacant/Abandoned Building</th>\n",
       "      <td>4472</td>\n",
       "    </tr>\n",
       "  </tbody>\n",
       "</table>\n",
       "</div>"
      ],
      "text/plain": [
       "                           service request type\n",
       "Graffiti Removal                         120461\n",
       "Pothole in Street                         51507\n",
       "Sanitation Code Violation                 21139\n",
       "Vacant/Abandoned Building                  4472"
      ]
     },
     "execution_count": 109,
     "metadata": {},
     "output_type": "execute_result"
    }
   ],
   "source": [
    "1.2.1\n",
    "# Table and Graph Summary for Each Service Request Type\n",
    "pd.DataFrame(df['service request type'].value_counts())"
   ]
  },
  {
   "cell_type": "code",
   "execution_count": 156,
   "metadata": {
    "collapsed": false
   },
   "outputs": [
    {
     "data": {
      "image/png": "[encoded data removed]",
      "text/plain": [
       "<matplotlib.figure.Figure at 0x12354d978>"
      ]
     },
     "metadata": {},
     "output_type": "display_data"
    },
    {
     "data": {
      "text/plain": [
       "<matplotlib.figure.Figure at 0x12354d400>"
      ]
     },
     "metadata": {},
     "output_type": "display_data"
    }
   ],
   "source": [
    "df['service request type'].value_counts().plot('bar',color = 'orange')\n",
    "plt.figure()\n",
    "plt.show()"
   ]
  },
  {
   "cell_type": "code",
   "execution_count": 178,
   "metadata": {
    "collapsed": false
   },
   "outputs": [
    {
     "data": {
      "text/plain": [
       "24.0    11832\n",
       "22.0     9862\n",
       "58.0     6997\n",
       "21.0     6469\n",
       "31.0     5980\n",
       "Name: community area, dtype: int64"
      ]
     },
     "execution_count": 178,
     "metadata": {},
     "output_type": "execute_result"
    }
   ],
   "source": [
    "1.2.2\n",
    "# Total Complaints for the Top 5 Neighborhoods\n",
    "df['community area'].value_counts().head(5)"
   ]
  },
  {
   "cell_type": "code",
   "execution_count": 179,
   "metadata": {
    "collapsed": false
   },
   "outputs": [
    {
     "data": {
      "text/plain": [
       "24.0    9489\n",
       "22.0    8125\n",
       "58.0    6181\n",
       "21.0    5577\n",
       "31.0    5016\n",
       "Name: community area, dtype: int64"
      ]
     },
     "execution_count": 179,
     "metadata": {},
     "output_type": "execute_result"
    }
   ],
   "source": [
    "# Pothole in Street Complaints for the Top 5 Neighborhoods\n",
    "g_sub['community area'].value_counts().head(5)"
   ]
  },
  {
   "cell_type": "code",
   "execution_count": 180,
   "metadata": {
    "collapsed": false
   },
   "outputs": [
    {
     "data": {
      "text/plain": [
       "2.0     1603\n",
       "24.0    1534\n",
       "10.0    1495\n",
       "15.0    1341\n",
       "8.0     1310\n",
       "Name: community area, dtype: int64"
      ]
     },
     "execution_count": 180,
     "metadata": {},
     "output_type": "execute_result"
    }
   ],
   "source": [
    "# Sanitation Code Violation Complaints for the Top 5 Neighborhoods\n",
    "p_sub['community area'].value_counts().head(5)"
   ]
  },
  {
   "cell_type": "code",
   "execution_count": 181,
   "metadata": {
    "collapsed": false
   },
   "outputs": [
    {
     "data": {
      "text/plain": [
       "7     809\n",
       "25    788\n",
       "24    773\n",
       "22    731\n",
       "49    659\n",
       "Name: community area, dtype: int64"
      ]
     },
     "execution_count": 181,
     "metadata": {},
     "output_type": "execute_result"
    }
   ],
   "source": [
    "# Graffiti Removal Complaints for the Top 5 Neighborhoods\n",
    "s_sub['community area'].value_counts().head(5)"
   ]
  },
  {
   "cell_type": "code",
   "execution_count": 182,
   "metadata": {
    "collapsed": false
   },
   "outputs": [
    {
     "data": {
      "text/plain": [
       "67.0    453\n",
       "68.0    316\n",
       "49.0    297\n",
       "71.0    280\n",
       "61.0    249\n",
       "Name: community area, dtype: int64"
      ]
     },
     "execution_count": 182,
     "metadata": {},
     "output_type": "execute_result"
    }
   ],
   "source": [
    "# Vacant/Abandoned Building Complaints for the Top 5 Neighborhoods\n",
    "v_sub['community area'].value_counts().head(5)"
   ]
  },
  {
   "cell_type": "code",
   "execution_count": 157,
   "metadata": {
    "collapsed": false
   },
   "outputs": [
    {
     "data": {
      "image/png": "[encoded data removed]",
      "text/plain": [
       "<matplotlib.figure.Figure at 0x126140748>"
      ]
     },
     "metadata": {},
     "output_type": "display_data"
    },
    {
     "data": {
      "text/plain": [
       "<matplotlib.figure.Figure at 0x124a6a978>"
      ]
     },
     "metadata": {},
     "output_type": "display_data"
    }
   ],
   "source": [
    "1.2.3\n",
    "# Response time for Graffiti Removal\n",
    "g_sub.groupby('time to complete').size().plot('bar', color = 'orange')\n",
    "plt.figure()\n",
    "plt.show()"
   ]
  },
  {
   "cell_type": "code",
   "execution_count": 158,
   "metadata": {
    "collapsed": false
   },
   "outputs": [
    {
     "data": {
      "image/png": "[encoded data removed]",
      "text/plain": [
       "<matplotlib.figure.Figure at 0x127e3c1d0>"
      ]
     },
     "metadata": {},
     "output_type": "display_data"
    }
   ],
   "source": [
    "# Response time for Pothole in Street\n",
    "p_sub.groupby('time to complete').size().to_frame().rename(columns={0:'Response Time'}).plot(rot=100,color = 'orange')\n",
    "plt.show()"
   ]
  },
  {
   "cell_type": "code",
   "execution_count": 159,
   "metadata": {
    "collapsed": false
   },
   "outputs": [
    {
     "data": {
      "image/png": "[encoded data removed]",
      "text/plain": [
       "<matplotlib.figure.Figure at 0x12a1328d0>"
      ]
     },
     "metadata": {},
     "output_type": "display_data"
    }
   ],
   "source": [
    "# Response time for Sanitation Code Violation\n",
    "s_sub.groupby('time to complete').size().to_frame().rename(columns={0:'Response Time'}).plot(rot=100,color = 'orange')\n",
    "plt.show()"
   ]
  },
  {
   "cell_type": "code",
   "execution_count": 174,
   "metadata": {
    "collapsed": false
   },
   "outputs": [
    {
     "data": {
      "text/html": [
       "<div>\n",
       "<table border=\"1\" class=\"dataframe\">\n",
       "  <thead>\n",
       "    <tr style=\"text-align: right;\">\n",
       "      <th></th>\n",
       "      <th>subtype</th>\n",
       "    </tr>\n",
       "  </thead>\n",
       "  <tbody>\n",
       "    <tr>\n",
       "      <th>Metal - Painted</th>\n",
       "      <td>38311</td>\n",
       "    </tr>\n",
       "    <tr>\n",
       "      <th>Brick - Unpainted</th>\n",
       "      <td>22138</td>\n",
       "    </tr>\n",
       "    <tr>\n",
       "      <th>Brick - Painted</th>\n",
       "      <td>20365</td>\n",
       "    </tr>\n",
       "    <tr>\n",
       "      <th>Cement (Sidewalk, Alley, Wall, Curb)</th>\n",
       "      <td>9257</td>\n",
       "    </tr>\n",
       "    <tr>\n",
       "      <th>Wood - Painted</th>\n",
       "      <td>7248</td>\n",
       "    </tr>\n",
       "    <tr>\n",
       "      <th>Metal - Unpainted</th>\n",
       "      <td>6119</td>\n",
       "    </tr>\n",
       "    <tr>\n",
       "      <th>Aluminum Siding</th>\n",
       "      <td>5040</td>\n",
       "    </tr>\n",
       "    <tr>\n",
       "      <th>Glass</th>\n",
       "      <td>2676</td>\n",
       "    </tr>\n",
       "    <tr>\n",
       "      <th>Other/Unknown Surface</th>\n",
       "      <td>2250</td>\n",
       "    </tr>\n",
       "    <tr>\n",
       "      <th>Vinyl Siding</th>\n",
       "      <td>2011</td>\n",
       "    </tr>\n",
       "    <tr>\n",
       "      <th>Other / Unknown Surface</th>\n",
       "      <td>1776</td>\n",
       "    </tr>\n",
       "    <tr>\n",
       "      <th>Wood - Unpainted</th>\n",
       "      <td>1658</td>\n",
       "    </tr>\n",
       "    <tr>\n",
       "      <th>Limestone</th>\n",
       "      <td>480</td>\n",
       "    </tr>\n",
       "    <tr>\n",
       "      <th>Stucco</th>\n",
       "      <td>333</td>\n",
       "    </tr>\n",
       "    <tr>\n",
       "      <th>Marble/Granite</th>\n",
       "      <td>159</td>\n",
       "    </tr>\n",
       "    <tr>\n",
       "      <th>Asphalt</th>\n",
       "      <td>108</td>\n",
       "    </tr>\n",
       "    <tr>\n",
       "      <th>Tree</th>\n",
       "      <td>107</td>\n",
       "    </tr>\n",
       "  </tbody>\n",
       "</table>\n",
       "</div>"
      ],
      "text/plain": [
       "                                      subtype\n",
       "Metal - Painted                         38311\n",
       "Brick - Unpainted                       22138\n",
       "Brick - Painted                         20365\n",
       "Cement (Sidewalk, Alley, Wall, Curb)     9257\n",
       "Wood - Painted                           7248\n",
       "Metal - Unpainted                        6119\n",
       "Aluminum Siding                          5040\n",
       "Glass                                    2676\n",
       "Other/Unknown Surface                    2250\n",
       "Vinyl Siding                             2011\n",
       "Other / Unknown Surface                  1776\n",
       "Wood - Unpainted                         1658\n",
       "Limestone                                 480\n",
       "Stucco                                    333\n",
       "Marble/Granite                            159\n",
       "Asphalt                                   108\n",
       "Tree                                      107"
      ]
     },
     "execution_count": 174,
     "metadata": {},
     "output_type": "execute_result"
    }
   ],
   "source": [
    "1.2.4\n",
    "# Summary for subtype of Graffiti Removal - 'what type of surface is the graffiti on?'\n",
    "pd.DataFrame(g_sub['subtype'].value_counts())"
   ]
  },
  {
   "cell_type": "code",
   "execution_count": 162,
   "metadata": {
    "collapsed": false
   },
   "outputs": [
    {
     "data": {
      "text/html": [
       "<div>\n",
       "<table border=\"1\" class=\"dataframe\">\n",
       "  <thead>\n",
       "    <tr style=\"text-align: right;\">\n",
       "      <th></th>\n",
       "      <th>subtype</th>\n",
       "    </tr>\n",
       "  </thead>\n",
       "  <tbody>\n",
       "    <tr>\n",
       "      <th>Pothole Patched</th>\n",
       "      <td>31125</td>\n",
       "    </tr>\n",
       "    <tr>\n",
       "      <th>No Potholes Found</th>\n",
       "      <td>3530</td>\n",
       "    </tr>\n",
       "    <tr>\n",
       "      <th>Completed Upon Arrival</th>\n",
       "      <td>1479</td>\n",
       "    </tr>\n",
       "    <tr>\n",
       "      <th>Street Resurfaced</th>\n",
       "      <td>652</td>\n",
       "    </tr>\n",
       "    <tr>\n",
       "      <th>CDOT Pavement Cave-In Survey Transfer Outcome</th>\n",
       "      <td>317</td>\n",
       "    </tr>\n",
       "    <tr>\n",
       "      <th>WM Sewer Cave In Inspection Transfer Outcome</th>\n",
       "      <td>264</td>\n",
       "    </tr>\n",
       "    <tr>\n",
       "      <th>CDOT Alley Pot Hole Transfer Outcome</th>\n",
       "      <td>214</td>\n",
       "    </tr>\n",
       "    <tr>\n",
       "      <th>CDOT Inspect Public Way Survey Transfer Outcome</th>\n",
       "      <td>120</td>\n",
       "    </tr>\n",
       "    <tr>\n",
       "      <th>No Action - See Remarks in Description</th>\n",
       "      <td>114</td>\n",
       "    </tr>\n",
       "    <tr>\n",
       "      <th>No Such Address Found</th>\n",
       "      <td>43</td>\n",
       "    </tr>\n",
       "    <tr>\n",
       "      <th>Not Within CDOT Jurisdiction</th>\n",
       "      <td>41</td>\n",
       "    </tr>\n",
       "    <tr>\n",
       "      <th>Follow-on Pot Hole in Street Created</th>\n",
       "      <td>34</td>\n",
       "    </tr>\n",
       "    <tr>\n",
       "      <th>CDOT Pavement Buckle or Speed Hump Transfer Outcome</th>\n",
       "      <td>18</td>\n",
       "    </tr>\n",
       "    <tr>\n",
       "      <th>CDOT Alley Grading - Unimproved Transfer Outcome</th>\n",
       "      <td>17</td>\n",
       "    </tr>\n",
       "    <tr>\n",
       "      <th>Private Property - Owner's Responsibility</th>\n",
       "      <td>11</td>\n",
       "    </tr>\n",
       "    <tr>\n",
       "      <th>WM CDOT Recommended Restoration Transfer Outcome</th>\n",
       "      <td>9</td>\n",
       "    </tr>\n",
       "    <tr>\n",
       "      <th>CDOT Asphalt Top Off Restoration Transfer Outcome</th>\n",
       "      <td>7</td>\n",
       "    </tr>\n",
       "    <tr>\n",
       "      <th>Create Work Order</th>\n",
       "      <td>4</td>\n",
       "    </tr>\n",
       "    <tr>\n",
       "      <th>CDOT Street Cut Complaints Transfer Outcome</th>\n",
       "      <td>3</td>\n",
       "    </tr>\n",
       "    <tr>\n",
       "      <th>CDOT Electrical Operations Construction Complaints Transfer Outcome</th>\n",
       "      <td>1</td>\n",
       "    </tr>\n",
       "  </tbody>\n",
       "</table>\n",
       "</div>"
      ],
      "text/plain": [
       "                                                    subtype\n",
       "Pothole Patched                                       31125\n",
       "No Potholes Found                                      3530\n",
       "Completed Upon Arrival                                 1479\n",
       "Street Resurfaced                                       652\n",
       "CDOT Pavement Cave-In Survey Transfer Outcome           317\n",
       "WM Sewer Cave In Inspection Transfer Outcome            264\n",
       "CDOT Alley Pot Hole Transfer Outcome                    214\n",
       "CDOT Inspect Public Way Survey Transfer Outcome         120\n",
       "No Action - See Remarks in Description                  114\n",
       "No Such Address Found                                    43\n",
       "Not Within CDOT Jurisdiction                             41\n",
       "Follow-on Pot Hole in Street Created                     34\n",
       "CDOT Pavement Buckle or Speed Hump Transfer Out...       18\n",
       "CDOT Alley Grading - Unimproved Transfer Outcome         17\n",
       "Private Property - Owner's Responsibility                11\n",
       "WM CDOT Recommended Restoration Transfer Outcome          9\n",
       "CDOT Asphalt Top Off Restoration Transfer Outcome         7\n",
       "Create Work Order                                         4\n",
       "CDOT Street Cut Complaints Transfer Outcome               3\n",
       "CDOT Electrical Operations Construction Complai...        1"
      ]
     },
     "execution_count": 162,
     "metadata": {},
     "output_type": "execute_result"
    }
   ],
   "source": [
    "# Summary for subtype of Pothole in Street - 'most recent action'\n",
    "pd.DataFrame(p_sub['subtype'].value_counts())"
   ]
  },
  {
   "cell_type": "code",
   "execution_count": 164,
   "metadata": {
    "collapsed": false
   },
   "outputs": [
    {
     "data": {
      "text/html": [
       "<div>\n",
       "<table border=\"1\" class=\"dataframe\">\n",
       "  <thead>\n",
       "    <tr style=\"text-align: right;\">\n",
       "      <th></th>\n",
       "      <th>subtype</th>\n",
       "    </tr>\n",
       "  </thead>\n",
       "  <tbody>\n",
       "    <tr>\n",
       "      <th>Other</th>\n",
       "      <td>8327</td>\n",
       "    </tr>\n",
       "    <tr>\n",
       "      <th>Garbage in yard</th>\n",
       "      <td>3812</td>\n",
       "    </tr>\n",
       "    <tr>\n",
       "      <th>Garbage in alley</th>\n",
       "      <td>2995</td>\n",
       "    </tr>\n",
       "    <tr>\n",
       "      <th>Overflowing carts</th>\n",
       "      <td>1627</td>\n",
       "    </tr>\n",
       "    <tr>\n",
       "      <th>Dumpster not being emptied</th>\n",
       "      <td>1574</td>\n",
       "    </tr>\n",
       "    <tr>\n",
       "      <th>Dog feces in yard</th>\n",
       "      <td>1150</td>\n",
       "    </tr>\n",
       "    <tr>\n",
       "      <th>Construction Site Cleanliness/Fence</th>\n",
       "      <td>859</td>\n",
       "    </tr>\n",
       "    <tr>\n",
       "      <th>Standing water</th>\n",
       "      <td>299</td>\n",
       "    </tr>\n",
       "    <tr>\n",
       "      <th>Graffiti Commercial Vehicle</th>\n",
       "      <td>26</td>\n",
       "    </tr>\n",
       "  </tbody>\n",
       "</table>\n",
       "</div>"
      ],
      "text/plain": [
       "                                     subtype\n",
       "Other                                   8327\n",
       "Garbage in yard                         3812\n",
       "Garbage in alley                        2995\n",
       "Overflowing carts                       1627\n",
       "Dumpster not being emptied              1574\n",
       "Dog feces in yard                       1150\n",
       "Construction Site Cleanliness/Fence      859\n",
       "Standing water                           299\n",
       "Graffiti Commercial Vehicle               26"
      ]
     },
     "execution_count": 164,
     "metadata": {},
     "output_type": "execute_result"
    }
   ],
   "source": [
    "# Summary for subtype of Sanitation Code Violation - 'what is the nature of this code violation?'\n",
    "pd.DataFrame(s_sub['subtype'].value_counts())"
   ]
  },
  {
   "cell_type": "code",
   "execution_count": 165,
   "metadata": {
    "collapsed": false
   },
   "outputs": [
    {
     "data": {
      "text/html": [
       "<div>\n",
       "<table border=\"1\" class=\"dataframe\">\n",
       "  <thead>\n",
       "    <tr style=\"text-align: right;\">\n",
       "      <th></th>\n",
       "      <th>subtype</th>\n",
       "    </tr>\n",
       "  </thead>\n",
       "  <tbody>\n",
       "    <tr>\n",
       "      <th>Front</th>\n",
       "      <td>3076</td>\n",
       "    </tr>\n",
       "    <tr>\n",
       "      <th>Rear</th>\n",
       "      <td>691</td>\n",
       "    </tr>\n",
       "    <tr>\n",
       "      <th>Garage</th>\n",
       "      <td>97</td>\n",
       "    </tr>\n",
       "  </tbody>\n",
       "</table>\n",
       "</div>"
      ],
      "text/plain": [
       "        subtype\n",
       "Front      3076\n",
       "Rear        691\n",
       "Garage       97"
      ]
     },
     "execution_count": 165,
     "metadata": {},
     "output_type": "execute_result"
    }
   ],
   "source": [
    "# Summary for subtype of Vacant/Abandoned Building - 'location of building on the lot'\n",
    "pd.DataFrame(v_sub['subtype'].value_counts())"
   ]
  },
  {
   "cell_type": "code",
   "execution_count": null,
   "metadata": {
    "collapsed": true
   },
   "outputs": [],
   "source": [
    "### 1.3 Five Interesting Things Learnt from the Data\n",
    "'''\n",
    "(1) For the four types of complaints, community area 24 appears four times among the top 5 areas receiving most complaints, which is West Town.\n",
    "    \n",
    "(2) The completion time for the graffiti removal complaint is pretty short, nearly within 5 days. However, for the sanitation and pitholes complaints it could take months.\n",
    "    \n",
    "(3) In Chicago, people like drawing graffiti on the material of metal and brick.\n",
    "\n",
    "(4) The number of graffiti complaints is larger than the sum of the other three types of complaints.\n",
    "\n",
    "(5) There are a lot of vacant or abandoned buildings in the community area 67, 68 and 71, which are West Englewood, Englewood and Auburn Gresham.\n",
    "'''"
   ]
  },
  {
   "cell_type": "markdown",
   "metadata": {},
   "source": [
    "Problem 2: Data Augmentation and APIs"
   ]
  },
  {
   "cell_type": "code",
   "execution_count": 2,
   "metadata": {
    "collapsed": true
   },
   "outputs": [],
   "source": [
    "# Request FIPS from FCC API - https://www.fcc.gov/general/census-block-conversions-api"
   ]
  },
  {
   "cell_type": "code",
   "execution_count": null,
   "metadata": {
    "collapsed": true
   },
   "outputs": [],
   "source": [
    "import request"
   ]
  },
  {
   "cell_type": "code",
   "execution_count": 3,
   "metadata": {
    "collapsed": true
   },
   "outputs": [],
   "source": [
    "def find_blockID (lat, long):\n",
    "    '''\n",
    "    Given a coordiate, through FCC API, return corresponding digit numbers of the blockgroup and the tract\n",
    "    \n",
    "    Inputs:\n",
    "        lat, long: float\n",
    "        \n",
    "    Outputs:\n",
    "        (blockgroup, track): tuple\n",
    "    '''\n",
    "    fcc_url=\"http://data.fcc.gov/api/block/find?latitude=\"+str(lat)+\"&longitude=\"+str(long)+\"&showall=false&format=json\"\n",
    "    r = requests.get(fcc_url).json()\n",
    "    code = r['Block']['FIPS']\n",
    "    tract = code[5:-4]\n",
    "    blockgroup = code[-4:-3]\n",
    "    \n",
    "    return (blockgroup, tract)"
   ]
  },
  {
   "cell_type": "code",
   "execution_count": null,
   "metadata": {
    "collapsed": true
   },
   "outputs": [],
   "source": [
    "# Get demographics information from census api - http://api.census.gov/data/2015/acs5/examples.html\n",
    "# based on the blockgroup and tract\n",
    "# demographics of interest - https://uscensusbureau.github.io/citysdk/developers/queryBuilder/\n",
    "'''\n",
    "    Family income in the past 12 months: B19101_001E\n",
    "    Black population: B02009_001E\n",
    "    White population: B02008_001E\n",
    "    Asian population: B02011_001E\n",
    "    Average household size = B25010_001E\n",
    "'''\n",
    "url = \"http://api.census.gov/data/2015/acs5?get=NAME,B19101_001E,B02009_001E,B02008_001E,B25010_001E&for=block+group:*&in=state:17+county:031&in=tract:\\\n",
    "*&key=98479600102fe947c7b411e55d5c421f29f3bbf2\"\n",
    "j = requests.get(url).json()"
   ]
  },
  {
   "cell_type": "code",
   "execution_count": null,
   "metadata": {
    "collapsed": true
   },
   "outputs": [],
   "source": [
    "'''\n",
    "For the limited data I have tried to access with the demographics attributes of family income, race and family size, \n",
    "here are the answers I come up for the Problem 2.\n",
    "(1)For blocks with Vacant and Abandoned Buildings complaints, the family income is lower and the black population is a little\n",
    "bit higer.\n",
    "(2) \n",
    "(3) It does not change over the time with the limited data I collected within a short time.\n",
    "(4) Blocks with Vacant and Abandoned Buildings complaints have a larger black population and a lower family income.\n",
    "'''"
   ]
  }
 ],
 "metadata": {
  "kernelspec": {
   "display_name": "Python 3",
   "language": "python",
   "name": "python3"
  },
  "language_info": {
   "codemirror_mode": {
    "name": "ipython",
    "version": 3
   },
   "file_extension": ".py",
   "mimetype": "text/x-python",
   "name": "python",
   "nbconvert_exporter": "python",
   "pygments_lexer": "ipython3",
   "version": "3.6.0"
  }
 },
 "nbformat": 4,
 "nbformat_minor": 2
}
