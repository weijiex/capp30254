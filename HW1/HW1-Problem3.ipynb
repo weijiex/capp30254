{
 "cells": [
  {
   "cell_type": "code",
   "execution_count": 5,
   "metadata": {
    "collapsed": true
   },
   "outputs": [],
   "source": [
    "import pandas as pd\n",
    "import numpy as np\n",
    "import matplotlib.pyplot as plt\n",
    "potholes = pd.read_csv('311-potholes-2016.csv')\n",
    "graffiti = pd.read_csv('311-graffiti-2016.csv')\n",
    "vacant = pd.read_csv('311-vacant-2016.csv')\n",
    "sanitation = pd.read_csv('311-sanitation-2016.csv')\n",
    "graffiti.columns = [x.lower() for x in graffiti.columns]\n",
    "vacant.columns = [x.lower() for x in vacant.columns]\n",
    "potholes.columns = [x.lower() for x in potholes.columns]\n",
    "sanitation.columns = [x.lower() for x in sanitation.columns]\n",
    "vacant['completion date']=''\n",
    "vacant['street address'] = vacant['address street number'].map(str) +' '+ vacant['address street direction']\\\n",
    "+' '+ vacant['address street name'] +' '+ vacant['address street suffix']\n",
    "graffiti['time to complete'] = pd.to_datetime(graffiti['completion date'])-pd.to_datetime(graffiti['creation date'])\n",
    "potholes['time to complete'] = (pd.to_datetime(potholes['completion date'])-pd.to_datetime(potholes['creation date']))\n",
    "sanitation['time to complete'] = (pd.to_datetime(sanitation['completion date'])-pd.to_datetime(sanitation['creation date']))\n",
    "vacant['time to complete'] = ''\n",
    "g_sub = graffiti[['creation date', 'completion date','time to complete', 'type of service request', \\\n",
    "                  'what type of surface is the graffiti on?', 'community area', 'zip code', 'street address', \\\n",
    "                  'latitude', 'longitude', 'location']]\n",
    "\n",
    "v_sub = vacant[['date service request was received','completion date', 'time to complete','service request type', \\\n",
    "                  'location of building on the lot (if garage, change type code to bgd).', 'community area', 'zip code', 'street address', \\\n",
    "                  'latitude', 'longitude', 'location']]\n",
    "p_sub = potholes[['creation date',  'completion date', 'time to complete','type of service request', \\\n",
    "                  'most recent action', 'community area', 'zip', 'street address', \\\n",
    "                  'latitude', 'longitude', 'location']]\n",
    "s_sub = sanitation[['creation date',  'completion date','time to complete', 'type of service request', \\\n",
    "                  'what is the nature of this code violation?', 'community area', 'zip code', 'street address', \\\n",
    "                  'latitude', 'longitude', 'location']]\n",
    "header = ['creation date',  'completion date', 'time to complete', 'service request type', 'subtype', 'community area', \\\n",
    "          'zip code', 'street address', 'latitude', 'longitude', 'location']\n",
    "g_sub.columns = header\n",
    "v_sub.columns = header\n",
    "p_sub.columns = header\n",
    "s_sub.columns = header\n",
    "df = pd.concat([g_sub, v_sub, p_sub, s_sub])"
   ]
  },
  {
   "cell_type": "markdown",
   "metadata": {},
   "source": [
    "Problem 3"
   ]
  },
  {
   "cell_type": "code",
   "execution_count": 6,
   "metadata": {
    "collapsed": false
   },
   "outputs": [
    {
     "name": "stdout",
     "output_type": "stream",
     "text": [
      "g: 0.09973867595818815\n",
      "p: 0.4969512195121951\n",
      "s: 0.2813588850174216\n",
      "v: 0.12195121951219512\n"
     ]
    }
   ],
   "source": [
    "### Question A\n",
    "# 7500 S Wolcott Ave belongs to Auburn Gresham, Community Area 71\n",
    "CA71 = df.loc[df['community area'] == 71]\n",
    "(total, column) = CA71.shape\n",
    "g_CA71 = g_sub.loc[g_sub['community area'] == 71]\n",
    "(g, column1) = g_CA71.shape\n",
    "p_CA71 = p_sub.loc[p_sub['community area'] == 71]\n",
    "(p, column2) = p_CA71.shape\n",
    "s_CA71 = s_sub.loc[s_sub['community area'] == 71]\n",
    "(s, column3) = s_CA71.shape\n",
    "v_CA71 = v_sub.loc[v_sub['community area'] == 71]\n",
    "(v, column4) = v_CA71.shape\n",
    "print (\"g:\" ,g/total)\n",
    "print (\"p:\" ,p/total)\n",
    "print (\"s:\" ,s/total)\n",
    "print (\"v:\" ,v/total)\n",
    "\n",
    "'''\n",
    "It is most likely to be potholes request, with 49.70%. The probability of the request for graffiti removal, sanitation \n",
    "and vacant bulidings are 9.97%, 28.14% and 12.20% respectively.\n",
    "\n",
    "'''"
   ]
  },
  {
   "cell_type": "code",
   "execution_count": 10,
   "metadata": {
    "collapsed": false
   },
   "outputs": [
    {
     "name": "stdout",
     "output_type": "stream",
     "text": [
      "L: 0.06198686711881854\n",
      "U: 0.02263803222619769\n"
     ]
    }
   ],
   "source": [
    "### Question B\n",
    "# Lawndale consists of South Lawndale (30) and North Lawndale(29)\n",
    "# The community area number for is 3\n",
    "G = df.loc[df['service request type'] == 'Graffiti Removal']\n",
    "(total, column) = G.shape\n",
    "LS = df.loc[df['community area'] == 29]\n",
    "(l1, column1) = LS.shape\n",
    "LN = df.loc[df['community area'] == 30]\n",
    "(l2, column2) = LN.shape\n",
    "U = df.loc[df['community area'] == 3]\n",
    "(u, column3) = U.shape\n",
    "print (\"L:\" ,(l1+l2)/total)\n",
    "print (\"U:\" ,u/total)\n",
    "\n",
    "'''\n",
    "The call is more likely from Lawndale with 6.20% probability versus 2.26% probabaility of that of Uptown.\n",
    "'''"
   ]
  },
  {
   "cell_type": "code",
   "execution_count": 15,
   "metadata": {
    "collapsed": false
   },
   "outputs": [],
   "source": [
    "### Question C\n",
    "englewood_prob = 3/5\n",
    "uptown_prob = 2/5\n",
    "englewood_g = 1/6\n",
    "uptown_g = 2/5\n",
    "# total probability that it is a graffiti removal request\n",
    "g_prob = (englewood_prob * englewood_g) + (uptown_prob * uptown_g)"
   ]
  },
  {
   "cell_type": "code",
   "execution_count": 16,
   "metadata": {
    "collapsed": false
   },
   "outputs": [
    {
     "data": {
      "text/plain": [
       "0.3846153846153846"
      ]
     },
     "execution_count": 16,
     "metadata": {},
     "output_type": "execute_result"
    }
   ],
   "source": [
    "# probability that it is Englewood given a graffiti call\n",
    "(englewood_prob * englewood_g) / graff_prob"
   ]
  },
  {
   "cell_type": "code",
   "execution_count": 18,
   "metadata": {
    "collapsed": false
   },
   "outputs": [
    {
     "data": {
      "text/plain": [
       "0.6153846153846155"
      ]
     },
     "execution_count": 18,
     "metadata": {},
     "output_type": "execute_result"
    }
   ],
   "source": [
    "# probability that it is Uptown given a graffiti call \n",
    "(uptown_prob * uptown_g) / graff_prob"
   ]
  },
  {
   "cell_type": "code",
   "execution_count": null,
   "metadata": {
    "collapsed": true
   },
   "outputs": [],
   "source": [
    "'''\n",
    "It is more likely from Uptown with the probability of 61.54% versus 38.46% probability of that of Englewood, which is \n",
    "around 20% higher.\n",
    "\n",
    "'''"
   ]
  }
 ],
 "metadata": {
  "kernelspec": {
   "display_name": "Python 3",
   "language": "python",
   "name": "python3"
  },
  "language_info": {
   "codemirror_mode": {
    "name": "ipython",
    "version": 3
   },
   "file_extension": ".py",
   "mimetype": "text/x-python",
   "name": "python",
   "nbconvert_exporter": "python",
   "pygments_lexer": "ipython3",
   "version": "3.6.0"
  }
 },
 "nbformat": 4,
 "nbformat_minor": 2
}
