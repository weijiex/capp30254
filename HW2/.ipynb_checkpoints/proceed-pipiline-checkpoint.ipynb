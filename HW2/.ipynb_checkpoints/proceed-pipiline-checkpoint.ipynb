{
 "cells": [
  {
   "cell_type": "code",
   "execution_count": 99,
   "metadata": {
    "collapsed": true
   },
   "outputs": [],
   "source": [
    "import pipeline as pl"
   ]
  },
  {
   "cell_type": "code",
   "execution_count": 100,
   "metadata": {
    "collapsed": true
   },
   "outputs": [],
   "source": [
    "y = 'SeriousDlqin2yrs'\n",
    "cols = list(df.columns.values)\n",
    "X = [x for x in cols if x != y]\n",
    "features = X"
   ]
  },
  {
   "cell_type": "markdown",
   "metadata": {},
   "source": [
    "# Step 1 & 2: Read and Explore Data"
   ]
  },
  {
   "cell_type": "code",
   "execution_count": 101,
   "metadata": {
    "collapsed": false
   },
   "outputs": [
    {
     "name": "stdout",
     "output_type": "stream",
     "text": [
      "___ Summary Statistics ___\n",
      "       SeriousDlqin2yrs  RevolvingUtilizationOfUnsecuredLines            age  \\\n",
      "count     150000.000000                         150000.000000  150000.000000   \n",
      "mean           0.066840                              6.048438      52.295207   \n",
      "std            0.249746                            249.755371      14.771866   \n",
      "min            0.000000                              0.000000       0.000000   \n",
      "25%            0.000000                              0.029867      41.000000   \n",
      "50%            0.000000                              0.154181      52.000000   \n",
      "75%            0.000000                              0.559046      63.000000   \n",
      "max            1.000000                          50708.000000     109.000000   \n",
      "\n",
      "             zipcode  NumberOfTime30-59DaysPastDueNotWorse      DebtRatio  \\\n",
      "count  150000.000000                         150000.000000  150000.000000   \n",
      "mean    60648.810013                              0.421033     353.005076   \n",
      "std        56.748197                              4.192781    2037.818523   \n",
      "min     60601.000000                              0.000000       0.000000   \n",
      "25%     60625.000000                              0.000000       0.175074   \n",
      "50%     60629.000000                              0.000000       0.366508   \n",
      "75%     60644.000000                              0.000000       0.868254   \n",
      "max     60804.000000                             98.000000  329664.000000   \n",
      "\n",
      "       MonthlyIncome  NumberOfOpenCreditLinesAndLoans  \\\n",
      "count   1.202690e+05                    150000.000000   \n",
      "mean    6.670221e+03                         8.452760   \n",
      "std     1.438467e+04                         5.145951   \n",
      "min     0.000000e+00                         0.000000   \n",
      "25%     3.400000e+03                         5.000000   \n",
      "50%     5.400000e+03                         8.000000   \n",
      "75%     8.249000e+03                        11.000000   \n",
      "max     3.008750e+06                        58.000000   \n",
      "\n",
      "       NumberOfTimes90DaysLate  NumberRealEstateLoansOrLines  \\\n",
      "count            150000.000000                 150000.000000   \n",
      "mean                  0.265973                      1.018240   \n",
      "std                   4.169304                      1.129771   \n",
      "min                   0.000000                      0.000000   \n",
      "25%                   0.000000                      0.000000   \n",
      "50%                   0.000000                      1.000000   \n",
      "75%                   0.000000                      2.000000   \n",
      "max                  98.000000                     54.000000   \n",
      "\n",
      "       NumberOfTime60-89DaysPastDueNotWorse  NumberOfDependents  \n",
      "count                         150000.000000       146076.000000  \n",
      "mean                               0.240387            0.757222  \n",
      "std                                4.155179            1.115086  \n",
      "min                                0.000000            0.000000  \n",
      "25%                                0.000000            0.000000  \n",
      "50%                                0.000000            0.000000  \n",
      "75%                                0.000000            1.000000  \n",
      "max                               98.000000           20.000000  \n",
      "___ Null Values ___\n",
      "SeriousDlqin2yrs                            0\n",
      "RevolvingUtilizationOfUnsecuredLines        0\n",
      "age                                         0\n",
      "zipcode                                     0\n",
      "NumberOfTime30-59DaysPastDueNotWorse        0\n",
      "DebtRatio                                   0\n",
      "MonthlyIncome                           29731\n",
      "NumberOfOpenCreditLinesAndLoans             0\n",
      "NumberOfTimes90DaysLate                     0\n",
      "NumberRealEstateLoansOrLines                0\n",
      "NumberOfTime60-89DaysPastDueNotWorse        0\n",
      "NumberOfDependents                       3924\n",
      "dtype: int64\n"
     ]
    }
   ],
   "source": [
    "df = pl.read_data('credit-data.csv', 'csv')\n",
    "pl.data_overview(df)"
   ]
  },
  {
   "cell_type": "code",
   "execution_count": 102,
   "metadata": {
    "collapsed": false
   },
   "outputs": [
    {
     "name": "stdout",
     "output_type": "stream",
     "text": [
      "Plotting RevolvingUtilizationOfUnsecuredLines\n",
      "Plotting age\n",
      "Plotting zipcode\n",
      "Plotting NumberOfTime30-59DaysPastDueNotWorse\n",
      "Plotting DebtRatio\n",
      "Plotting MonthlyIncome\n",
      "Plotting NumberOfOpenCreditLinesAndLoans\n",
      "Plotting NumberOfTimes90DaysLate\n",
      "Plotting NumberRealEstateLoansOrLines\n",
      "Plotting NumberOfTime60-89DaysPastDueNotWorse\n",
      "Plotting NumberOfDependents\n"
     ]
    }
   ],
   "source": [
    "for col_name in X:\n",
    "    pl.make_graph(df, col_name)"
   ]
  },
  {
   "cell_type": "markdown",
   "metadata": {},
   "source": [
    "# Step 3: Pre-Process Data"
   ]
  },
  {
   "cell_type": "code",
   "execution_count": 103,
   "metadata": {
    "collapsed": false
   },
   "outputs": [
    {
     "data": {
      "text/plain": [
       "SeriousDlqin2yrs                        0\n",
       "RevolvingUtilizationOfUnsecuredLines    0\n",
       "age                                     0\n",
       "zipcode                                 0\n",
       "NumberOfTime30-59DaysPastDueNotWorse    0\n",
       "DebtRatio                               0\n",
       "MonthlyIncome                           0\n",
       "NumberOfOpenCreditLinesAndLoans         0\n",
       "NumberOfTimes90DaysLate                 0\n",
       "NumberRealEstateLoansOrLines            0\n",
       "NumberOfTime60-89DaysPastDueNotWorse    0\n",
       "NumberOfDependents                      0\n",
       "dtype: int64"
      ]
     },
     "execution_count": 103,
     "metadata": {},
     "output_type": "execute_result"
    }
   ],
   "source": [
    "pl.fill_null(df, 'MonthlyIncome', 'mean')\n",
    "pl.fill_null(df, 'NumberOfDependents', 'median')\n",
    "df.isnull().sum()"
   ]
  },
  {
   "cell_type": "markdown",
   "metadata": {},
   "source": [
    "# Step 4: Generate Features/Predictors"
   ]
  },
  {
   "cell_type": "code",
   "execution_count": 104,
   "metadata": {
    "collapsed": true
   },
   "outputs": [],
   "source": [
    "df = pl.discretize_cont_var(df, 'NumberOfDependents', num_bins=3, cut_type='uniform', labels=['low','med','high'])\n",
    "df = pl.binarize_categ_var(df, 'NumberOfDependents_discretize')"
   ]
  },
  {
   "cell_type": "code",
   "execution_count": 105,
   "metadata": {
    "collapsed": true
   },
   "outputs": [],
   "source": [
    "df = pl.discretize_cont_var(df, 'MonthlyIncome', num_bins=5, cut_type='quantile',\\\n",
    "                            labels=['low_level','med minus','med_level','med plus','high_level'])\n",
    "df = pl.binarize_categ_var(df, 'MonthlyIncome_discretize')"
   ]
  },
  {
   "cell_type": "code",
   "execution_count": 106,
   "metadata": {
    "collapsed": false
   },
   "outputs": [
    {
     "data": {
      "text/html": [
       "<div>\n",
       "<table border=\"1\" class=\"dataframe\">\n",
       "  <thead>\n",
       "    <tr style=\"text-align: right;\">\n",
       "      <th></th>\n",
       "      <th>SeriousDlqin2yrs</th>\n",
       "      <th>RevolvingUtilizationOfUnsecuredLines</th>\n",
       "      <th>age</th>\n",
       "      <th>zipcode</th>\n",
       "      <th>NumberOfTime30-59DaysPastDueNotWorse</th>\n",
       "      <th>DebtRatio</th>\n",
       "      <th>MonthlyIncome</th>\n",
       "      <th>NumberOfOpenCreditLinesAndLoans</th>\n",
       "      <th>NumberOfTimes90DaysLate</th>\n",
       "      <th>NumberRealEstateLoansOrLines</th>\n",
       "      <th>...</th>\n",
       "      <th>NumberOfDependents_discretize</th>\n",
       "      <th>low</th>\n",
       "      <th>med</th>\n",
       "      <th>high</th>\n",
       "      <th>MonthlyIncome_discretize</th>\n",
       "      <th>low_level</th>\n",
       "      <th>med minus</th>\n",
       "      <th>med_level</th>\n",
       "      <th>med plus</th>\n",
       "      <th>high_level</th>\n",
       "    </tr>\n",
       "    <tr>\n",
       "      <th>PersonID</th>\n",
       "      <th></th>\n",
       "      <th></th>\n",
       "      <th></th>\n",
       "      <th></th>\n",
       "      <th></th>\n",
       "      <th></th>\n",
       "      <th></th>\n",
       "      <th></th>\n",
       "      <th></th>\n",
       "      <th></th>\n",
       "      <th></th>\n",
       "      <th></th>\n",
       "      <th></th>\n",
       "      <th></th>\n",
       "      <th></th>\n",
       "      <th></th>\n",
       "      <th></th>\n",
       "      <th></th>\n",
       "      <th></th>\n",
       "      <th></th>\n",
       "      <th></th>\n",
       "    </tr>\n",
       "  </thead>\n",
       "  <tbody>\n",
       "    <tr>\n",
       "      <th>1</th>\n",
       "      <td>1</td>\n",
       "      <td>0.766127</td>\n",
       "      <td>45</td>\n",
       "      <td>60644</td>\n",
       "      <td>2</td>\n",
       "      <td>0.802982</td>\n",
       "      <td>9120.0</td>\n",
       "      <td>13</td>\n",
       "      <td>0</td>\n",
       "      <td>6</td>\n",
       "      <td>...</td>\n",
       "      <td>low</td>\n",
       "      <td>1</td>\n",
       "      <td>0</td>\n",
       "      <td>0</td>\n",
       "      <td>high_level</td>\n",
       "      <td>0</td>\n",
       "      <td>0</td>\n",
       "      <td>0</td>\n",
       "      <td>0</td>\n",
       "      <td>1</td>\n",
       "    </tr>\n",
       "    <tr>\n",
       "      <th>2</th>\n",
       "      <td>0</td>\n",
       "      <td>0.957151</td>\n",
       "      <td>40</td>\n",
       "      <td>60637</td>\n",
       "      <td>0</td>\n",
       "      <td>0.121876</td>\n",
       "      <td>2600.0</td>\n",
       "      <td>4</td>\n",
       "      <td>0</td>\n",
       "      <td>0</td>\n",
       "      <td>...</td>\n",
       "      <td>low</td>\n",
       "      <td>1</td>\n",
       "      <td>0</td>\n",
       "      <td>0</td>\n",
       "      <td>low_level</td>\n",
       "      <td>1</td>\n",
       "      <td>0</td>\n",
       "      <td>0</td>\n",
       "      <td>0</td>\n",
       "      <td>0</td>\n",
       "    </tr>\n",
       "    <tr>\n",
       "      <th>3</th>\n",
       "      <td>0</td>\n",
       "      <td>0.658180</td>\n",
       "      <td>38</td>\n",
       "      <td>60601</td>\n",
       "      <td>1</td>\n",
       "      <td>0.085113</td>\n",
       "      <td>3042.0</td>\n",
       "      <td>2</td>\n",
       "      <td>1</td>\n",
       "      <td>0</td>\n",
       "      <td>...</td>\n",
       "      <td>low</td>\n",
       "      <td>1</td>\n",
       "      <td>0</td>\n",
       "      <td>0</td>\n",
       "      <td>low_level</td>\n",
       "      <td>1</td>\n",
       "      <td>0</td>\n",
       "      <td>0</td>\n",
       "      <td>0</td>\n",
       "      <td>0</td>\n",
       "    </tr>\n",
       "    <tr>\n",
       "      <th>4</th>\n",
       "      <td>0</td>\n",
       "      <td>0.233810</td>\n",
       "      <td>30</td>\n",
       "      <td>60601</td>\n",
       "      <td>0</td>\n",
       "      <td>0.036050</td>\n",
       "      <td>3300.0</td>\n",
       "      <td>5</td>\n",
       "      <td>0</td>\n",
       "      <td>0</td>\n",
       "      <td>...</td>\n",
       "      <td>low</td>\n",
       "      <td>1</td>\n",
       "      <td>0</td>\n",
       "      <td>0</td>\n",
       "      <td>low_level</td>\n",
       "      <td>1</td>\n",
       "      <td>0</td>\n",
       "      <td>0</td>\n",
       "      <td>0</td>\n",
       "      <td>0</td>\n",
       "    </tr>\n",
       "    <tr>\n",
       "      <th>5</th>\n",
       "      <td>0</td>\n",
       "      <td>0.907239</td>\n",
       "      <td>49</td>\n",
       "      <td>60625</td>\n",
       "      <td>1</td>\n",
       "      <td>0.024926</td>\n",
       "      <td>63588.0</td>\n",
       "      <td>7</td>\n",
       "      <td>0</td>\n",
       "      <td>1</td>\n",
       "      <td>...</td>\n",
       "      <td>low</td>\n",
       "      <td>1</td>\n",
       "      <td>0</td>\n",
       "      <td>0</td>\n",
       "      <td>high_level</td>\n",
       "      <td>0</td>\n",
       "      <td>0</td>\n",
       "      <td>0</td>\n",
       "      <td>0</td>\n",
       "      <td>1</td>\n",
       "    </tr>\n",
       "  </tbody>\n",
       "</table>\n",
       "<p>5 rows × 22 columns</p>\n",
       "</div>"
      ],
      "text/plain": [
       "          SeriousDlqin2yrs  RevolvingUtilizationOfUnsecuredLines  age  \\\n",
       "PersonID                                                                \n",
       "1                        1                              0.766127   45   \n",
       "2                        0                              0.957151   40   \n",
       "3                        0                              0.658180   38   \n",
       "4                        0                              0.233810   30   \n",
       "5                        0                              0.907239   49   \n",
       "\n",
       "          zipcode  NumberOfTime30-59DaysPastDueNotWorse  DebtRatio  \\\n",
       "PersonID                                                             \n",
       "1           60644                                     2   0.802982   \n",
       "2           60637                                     0   0.121876   \n",
       "3           60601                                     1   0.085113   \n",
       "4           60601                                     0   0.036050   \n",
       "5           60625                                     1   0.024926   \n",
       "\n",
       "          MonthlyIncome  NumberOfOpenCreditLinesAndLoans  \\\n",
       "PersonID                                                   \n",
       "1                9120.0                               13   \n",
       "2                2600.0                                4   \n",
       "3                3042.0                                2   \n",
       "4                3300.0                                5   \n",
       "5               63588.0                                7   \n",
       "\n",
       "          NumberOfTimes90DaysLate  NumberRealEstateLoansOrLines     ...      \\\n",
       "PersonID                                                            ...       \n",
       "1                               0                             6     ...       \n",
       "2                               0                             0     ...       \n",
       "3                               1                             0     ...       \n",
       "4                               0                             0     ...       \n",
       "5                               0                             1     ...       \n",
       "\n",
       "          NumberOfDependents_discretize  low med  high  \\\n",
       "PersonID                                                 \n",
       "1                                   low    1   0     0   \n",
       "2                                   low    1   0     0   \n",
       "3                                   low    1   0     0   \n",
       "4                                   low    1   0     0   \n",
       "5                                   low    1   0     0   \n",
       "\n",
       "          MonthlyIncome_discretize  low_level med minus  med_level  med plus  \\\n",
       "PersonID                                                                       \n",
       "1                       high_level          0         0          0         0   \n",
       "2                        low_level          1         0          0         0   \n",
       "3                        low_level          1         0          0         0   \n",
       "4                        low_level          1         0          0         0   \n",
       "5                       high_level          0         0          0         0   \n",
       "\n",
       "          high_level  \n",
       "PersonID              \n",
       "1                  1  \n",
       "2                  0  \n",
       "3                  0  \n",
       "4                  0  \n",
       "5                  1  \n",
       "\n",
       "[5 rows x 22 columns]"
      ]
     },
     "execution_count": 106,
     "metadata": {},
     "output_type": "execute_result"
    }
   ],
   "source": [
    "df.head()"
   ]
  },
  {
   "cell_type": "markdown",
   "metadata": {},
   "source": [
    "# Step 5: Build Classifier"
   ]
  },
  {
   "cell_type": "code",
   "execution_count": 122,
   "metadata": {
    "collapsed": true
   },
   "outputs": [],
   "source": [
    "from sklearn.linear_model import LogisticRegression\n",
    "from sklearn.neighbors import KNeighborsClassifier\n",
    "from sklearn.ensemble import RandomForestClassifier, GradientBoostingClassifier\n",
    "from sklearn.tree import DecisionTreeClassifier"
   ]
  },
  {
   "cell_type": "code",
   "execution_count": 123,
   "metadata": {
    "collapsed": true
   },
   "outputs": [],
   "source": [
    "X_train, X_test, y_train, y_test = pl.split_data(df, X, y, 0.2)"
   ]
  },
  {
   "cell_type": "code",
   "execution_count": 129,
   "metadata": {
    "collapsed": false
   },
   "outputs": [],
   "source": [
    "classifiers = [LogisticRegression(), KNeighborsClassifier(), DecisionTreeClassifier(), \\\n",
    "               RandomForestClassifier(), GradientBopostingClassifier()]"
   ]
  },
  {
   "cell_type": "code",
   "execution_count": 130,
   "metadata": {
    "collapsed": false
   },
   "outputs": [],
   "source": [
    "for method in classifiers:\n",
    "    pl.test_model(X_train, y_train, features, method)\n",
    "    pl.predict_model(X_train, y_train, X_test, y, features, method)d"
   ]
  },
  {
   "cell_type": "markdown",
   "metadata": {},
   "source": [
    "# Step 6: Evaluate Classifier"
   ]
  },
  {
   "cell_type": "code",
   "execution_count": 132,
   "metadata": {
    "collapsed": false
   },
   "outputs": [
    {
     "name": "stdout",
     "output_type": "stream",
     "text": [
      "Accuracy score is: 0.9329\n",
      "Recall score is: 0.014392059553349877\n",
      "Precision score is: 0.5178571428571429\n",
      "Accuracy score is: 0.9304666666666667\n",
      "Recall score is: 0.012903225806451613\n",
      "Precision score is: 0.21138211382113822\n",
      "Accuracy score is: 0.8955666666666666\n",
      "Recall score is: 0.2823821339950372\n",
      "Precision score is: 0.2522163120567376\n",
      "Accuracy score is: 0.9332666666666667\n",
      "Recall score is: 0.15285359801488835\n",
      "Precision score is: 0.5107794361525705\n",
      "Accuracy score is: 0.9365\n",
      "Recall score is: 0.2044665012406948\n",
      "Precision score is: 0.5770308123249299\n"
     ]
    }
   ],
   "source": [
    "for method in classifiers:\n",
    "    pl.eval_model(X_train, y_train, X_test, y_test, features, method)"
   ]
  },
  {
   "cell_type": "code",
   "execution_count": null,
   "metadata": {
    "collapsed": true
   },
   "outputs": [],
   "source": []
  }
 ],
 "metadata": {
  "kernelspec": {
   "display_name": "Python 3",
   "language": "python",
   "name": "python3"
  },
  "language_info": {
   "codemirror_mode": {
    "name": "ipython",
    "version": 3
   },
   "file_extension": ".py",
   "mimetype": "text/x-python",
   "name": "python",
   "nbconvert_exporter": "python",
   "pygments_lexer": "ipython3",
   "version": "3.6.0"
  }
 },
 "nbformat": 4,
 "nbformat_minor": 2
}
