{
 "cells": [
  {
   "cell_type": "code",
   "execution_count": 4,
   "metadata": {
    "collapsed": true
   },
   "outputs": [],
   "source": [
    "import pandas as pd\n",
    "import numpy as np\n",
    "import matplotlib.pyplot as plt\n",
    "import seaborn as sns\n",
    "from sklearn.model_selection import train_test_split\n",
    "from sklearn.linear_model import LogisticRegression\n",
    "from sklearn.neighbors import KNeighborsClassifier\n",
    "from sklearn.ensemble import RandomForestClassifier, GradientBoostingClassifier\n",
    "from sklearn.tree import DecisionTreeClassifier\n",
    "from sklearn import metrics\n",
    "%matplotlib inline\n",
    "\n",
    "\n",
    "### 1. Read Data ###\n",
    "\n",
    "def read_data (filename, filetype):\n",
    "    '''\n",
    "    Read data from file to pandas DataFrame\n",
    "        filename, filetype: string\n",
    "    '''\n",
    "    if filetype == 'csv':\n",
    "        return pd.read_csv(filename, index_col=0)\n",
    "    if filetype == 'xls':\n",
    "        return pd.read_excel(filename)\n",
    "    if filetype == 'json':\n",
    "        return pd.read_json(filename)\n",
    "\n",
    "\n",
    "\n",
    "### 2. Explore Data ###\n",
    "\n",
    "def data_overview(df):\n",
    "    print(\"_________ Data Types __________\")\n",
    "    print(df.dtypes)\n",
    "    print(\"_________ Summary Statistics __________\")\n",
    "    print(df.describe().transpose())\n",
    "    print(\"_________ Null Values _________\")\n",
    "    print(df.isnull().sum())\n",
    "    print(\"_________ Correlation between Y and Xs ________\")\n",
    "    print(df.corr()['SeriousDlqin2yrs'])\n",
    "    print(\"_________ Correlation Matrix _________\")\n",
    "    plot_correlations(df)\n",
    "    \n",
    "\n",
    "def plot_correlations(df):\n",
    "    '''\n",
    "    Plot correlation matrix\n",
    "    '''\n",
    "    corr = df.corr()\n",
    "    sns.heatmap(corr, xticklabels=corr.columns.values, yticklabels=corr.columns.values)\n",
    "    \n",
    "# removing outliers before making graphs    \n",
    "def make_graph(df, col_name):\n",
    "    '''\n",
    "    Generate a simple graph for the desired column variable\n",
    "        df: pandas DataFrame\n",
    "        col_name: desired variable\n",
    "    '''\n",
    "    df = df[np.abs(df[col_name]-df[col_name].mean())<=(3*df[col_name].std())]\n",
    "    print('Plotting ' + col_name)\n",
    "    df[col_name].hist()\n",
    "    plt.title(col_name)\n",
    "    plt.xlabel(\"Value\")\n",
    "    plt.ylabel(\"Frequency\")\n",
    "    plt.show()\n",
    "\n",
    "\n",
    "\n",
    "### 3. Pre-Process Data ###\n",
    "\n",
    "def convert_col_type(df, col_name, to_type):\n",
    "    '''\n",
    "    Convert column types to desired ones\n",
    "        to_type: string\n",
    "    '''\n",
    "    if to_type == 'int':\n",
    "        df[col] = df[col].astype(int)\n",
    "    elif to_type == 'float':\n",
    "        df[col] = df[col].astype(float)\n",
    "    elif to_type == 'string':\n",
    "        df[col] = df[col].astype(str)\n",
    "    elif to_type == 'boolean':\n",
    "        df[col] = df[col].astype(np.bool)\n",
    "\n",
    "\n",
    "\n",
    "def fill_null(df, cols, fill_method):\n",
    "    '''\n",
    "    Fill null values of the specified columnn in the dataframe\n",
    "        cols: list of column name(s), string\n",
    "        fill_method: 'mean' for float, 'median' for integer, 'mode' for string, \n",
    "                     'zero', 'drop' for special case         \n",
    "    '''\n",
    "    if fill_method == 'mean':\n",
    "        for col in cols:\n",
    "            df[col].fillna(value=df[col].mean(), inplace=True)  \n",
    "    elif fill_method == 'median':\n",
    "        for col in cols:\n",
    "            df[col].fillna(value=df[col].median(), inplace=True)\n",
    "    elif fill_method == 'mode':\n",
    "        for col in cols:\n",
    "            df[col].fillna(value=df[col].mode(), inplace=True)\n",
    "    elif fill_method == 'zero':\n",
    "        for col in cols:\n",
    "            df[col].fillna(value=0, inplace=True)\n",
    "    elif fill_method == 'drop':\n",
    "        df.dropna(subset=cols, inplace=True)\n",
    "    return df\n",
    "\n",
    "\n",
    "\n",
    "### 4. Generate Features/ Predictors ###\n",
    "\n",
    "def discretize_cont_var(df, col_name, num_bins, cut_type, labels):\n",
    "    '''\n",
    "    Discretize a continuous variable of the DataFrame\n",
    "        df: pandas DataFrame\n",
    "        col_name, cut_type: string\n",
    "        nnum_bins: integer\n",
    "        labels: list of strings\n",
    "    '''\n",
    "    if cut_type == 'quantile':\n",
    "        df[col_name +'_discretize'] = pd.qcut(df[col_name], num_bins, labels=labels)\n",
    "    if cut_type == 'uniform':\n",
    "        df[col_name +'_discretize'] = pd.cut(df[col_name], num_bins, labels=labels)\n",
    "    return df       \n",
    "\n",
    "\n",
    "def binarize_categ_var(df, col_name):\n",
    "    '''\n",
    "    Take a categorical variable and create binary/dummy variables from it\n",
    "        df: pandas DataFrame\n",
    "        col_name: string, categorical variable to binarize\n",
    "    '''\n",
    "    dummies = pd.get_dummies(df[col_name])\n",
    "    df = df.join(dummies)\n",
    "    return df\n",
    "\n",
    "\n",
    "\n",
    "### 5. Build Classifier ###\n",
    "\n",
    "def split_data(df, X, y, test_size):\n",
    "    '''\n",
    "    Split data into training and test sets\n",
    "        df: Pandas DataFrame\n",
    "        X: array of string, features\n",
    "        y: string, outcome variable\n",
    "        test_size: proportion of the total data used as test dataset\n",
    "\n",
    "    '''\n",
    "    X_train, X_test, y_train, y_test  = train_test_split(df[X], df[y], test_size=test_size)\n",
    "    return X_train, X_test, y_train, y_test    \n",
    "\n",
    "\n",
    "\n",
    "def test_model(X_train, y_train, features, method):\n",
    "    '''\n",
    "    Build classifiers chosen by the user\n",
    "        X_train, y_train: Pandas DataFrame\n",
    "        features: list of strings, variables we care about\n",
    "        method: LogisticRegression(), KNeighborsClassifier(), DecisionTreeClassifier(),\\\n",
    "        RandomForestClassifier(), GradientBoostingClassifier()\n",
    "    '''\n",
    "    X = X_train[features]\n",
    "    y = y_train\n",
    "    return method.fit(X, y)\n",
    "\n",
    "\n",
    "\n",
    "def predict_model(X_train, y_train, X_test, y, features, method):\n",
    "    '''\n",
    "    Predict outcomes for test data based on the chosen classifier, and write to csv file\n",
    "        X_test: test pandas DataFrame\n",
    "        y: string, outcome variable name, 'SeriousDlqin2yrs'\n",
    "        features: list of strings, variables we care about\n",
    "        method: LogisticRegression(), KNeighborsClassifier(), DecisionTreeClassifier(),\\\n",
    "        RandomForestClassifier(), GradientBoostingClassifier()\n",
    "    '''\n",
    "    method.fit(X_train[features], y_train)\n",
    "    X = X_test[features]\n",
    "    y_pred = method.predict(X)\n",
    "    df_pred = X_test\n",
    "    df_pred[y] = y_pred\n",
    "    df_pred.to_csv('predictions'+ str(method) + '.csv', header=True)\n",
    "    \n",
    "\n",
    "\n",
    "### 6. Evaluate Classifier ###\n",
    "\n",
    "def eval_model(X_train, y_train, X_test, y_test, features, method):\n",
    "    method.fit(X_train[features], y_train)\n",
    "    X = X_test[features]\n",
    "    y_pred = method.predict(X)\n",
    "    accuracy = metrics.accuracy_score(y_test, y_pred)\n",
    "    recall = metrics.recall_score(y_test, y_pred)\n",
    "    precision = metrics.precision_score(y_test, y_pred)\n",
    "    print('Evaluation for ' + str(method))\n",
    "    print('Accuracy score is: {}'.format(accuracy))\n",
    "    print('Recall score is: {}'.format(recall))\n",
    "    print('Precision score is: {}'.format(precision))\n",
    "    print('________#############_______')\n",
    "\n",
    "\n",
    "    \n"
   ]
  },
  {
   "cell_type": "code",
   "execution_count": 5,
   "metadata": {
    "collapsed": false
   },
   "outputs": [
    {
     "name": "stderr",
     "output_type": "stream",
     "text": [
      "/anaconda/lib/python3.6/site-packages/sklearn/cross_validation.py:44: DeprecationWarning: This module was deprecated in version 0.18 in favor of the model_selection module into which all the refactored classes and functions are moved. Also note that the interface of the new CV iterators are different from that of this module. This module will be removed in 0.20.\n",
      "  \"This module will be removed in 0.20.\", DeprecationWarning)\n",
      "/anaconda/lib/python3.6/site-packages/sklearn/grid_search.py:43: DeprecationWarning: This module was deprecated in version 0.18 in favor of the model_selection module into which all the refactored classes and functions are moved. This module will be removed in 0.20.\n",
      "  DeprecationWarning)\n"
     ]
    }
   ],
   "source": [
    "### code is modified from https://github.com/rayidghani/magicloops/blob/master/magicloops.py\n",
    "\n",
    "\n",
    "from __future__ import division\n",
    "import numpy as np\n",
    "import pandas as pd\n",
    "from sklearn import preprocessing, cross_validation, svm, metrics, tree, decomposition\n",
    "from sklearn.ensemble import RandomForestClassifier, AdaBoostClassifier, BaggingClassifier\n",
    "from sklearn.linear_model import LogisticRegression, Perceptron, SGDClassifier, OrthogonalMatchingPursuit, RandomizedLogisticRegression\n",
    "from sklearn.neighbors.nearest_centroid import NearestCentroid\n",
    "from sklearn.naive_bayes import GaussianNB, MultinomialNB, BernoulliNB\n",
    "from sklearn.tree import DecisionTreeClassifier\n",
    "from sklearn.neighbors import KNeighborsClassifier\n",
    "from sklearn.model_selection import train_test_split\n",
    "from sklearn.grid_search import ParameterGrid, GridSearchCV\n",
    "from sklearn.metrics import *\n",
    "from sklearn.preprocessing import StandardScaler\n",
    "import random\n",
    "import pylab as pl\n",
    "import matplotlib.pyplot as plt\n",
    "from scipy import optimize\n",
    "import time\n",
    "import seaborn as sns\n",
    "import sys\n",
    "\n",
    "def define_clfs_params(grid_size):\n",
    "\n",
    "    clfs = {'RF': RandomForestClassifier(n_estimators=50, n_jobs=-1),\n",
    "        'AB': AdaBoostClassifier(DecisionTreeClassifier(max_depth=1), algorithm=\"SAMME\", n_estimators=200),\n",
    "        'LR': LogisticRegression(penalty='l1', C=1e5),\n",
    "        'SVM': svm.SVC(kernel='linear', probability=True, random_state=0),\n",
    "        'DT': DecisionTreeClassifier(),\n",
    "        'KNN': KNeighborsClassifier(n_neighbors=3),\n",
    "        'BAG': BaggingClassifier(DecisionTreeClassifier(max_depth=10), n_estimators=5, max_samples=0.6, max_features=1)\n",
    "            }\n",
    "\n",
    "    large_grid = { \n",
    "    'RF':{'n_estimators': [1,10,100,1000,10000], 'max_depth': [1,5,10,20,50,100], 'max_features': ['sqrt','log2'],'min_samples_split': [2,5,10]},\n",
    "    'LR': { 'penalty': ['l1','l2'], 'C': [0.00001,0.0001,0.001,0.01,0.1,1,10]},\n",
    "    'AB': { 'algorithm': ['SAMME', 'SAMME.R'], 'n_estimators': [1,10,100,1000,10000]},\n",
    "    'DT': {'criterion': ['gini', 'entropy'], 'max_depth': [1,5,10,20,50,100], 'max_features': ['sqrt','log2'],'min_samples_split': [2,5,10]},\n",
    "    'SVM' :{'C' :[0.00001,0.0001,0.001,0.01,0.1,1,10],'kernel':['linear']},\n",
    "    'KNN' :{'n_neighbors': [1,5,10,25,50,100],'weights': ['uniform','distance'],'algorithm': ['auto','ball_tree','kd_tree']},\n",
    "    'BAG': {'n_estimators': [5,10,20], 'max_samples':[0.4,0.5,0.6]}\n",
    "           }\n",
    "    \n",
    "    small_grid = {\n",
    "    'RF':{'n_estimators': [10,100], 'max_depth': [5,50], 'max_features': ['sqrt','log2'],'min_samples_split': [2,10]},\n",
    "    'LR': { 'penalty': ['l1','l2'], 'C': [0.00001,0.001,0.1,1,10]},\n",
    "    'AB': { 'algorithm': ['SAMME', 'SAMME.R'], 'n_estimators': [1,10,100,1000,10000]},\n",
    "    'DT': {'criterion': ['gini', 'entropy'], 'max_depth': [1,5,10,20,50,100], 'max_features': ['sqrt','log2'],'min_samples_split': [2,5,10]},\n",
    "    'SVM' :{'C' :[0.00001,0.0001,0.001,0.01,0.1,1,10],'kernel':['linear']},\n",
    "    'KNN' :{'n_neighbors': [1,5,10,25,50,100],'weights': ['uniform','distance'],'algorithm': ['auto','ball_tree','kd_tree']},\n",
    "    'BAG': {'n_estimators': [5,10], 'max_samples':[0.4,0.6]}\n",
    "           }\n",
    "    \n",
    "    test_grid = { \n",
    "    'RF':{'n_estimators': [1], 'max_depth': [1], 'max_features': ['sqrt'],'min_samples_split': [10]},\n",
    "    'LR': { 'penalty': ['l1'], 'C': [0.01]},\n",
    "    'AB': { 'algorithm': ['SAMME'], 'n_estimators': [1]},\n",
    "    'DT': {'criterion': ['gini'], 'max_depth': [1], 'max_features': ['sqrt'],'min_samples_split': [10]},\n",
    "    'SVM' :{'C' :[0.01],'kernel':['linear']},\n",
    "    'KNN' :{'n_neighbors': [5],'weights': ['uniform'],'algorithm': ['auto']},\n",
    "    'BAG':{'n_estimators': [5]}\n",
    "           }\n",
    "    \n",
    "    if grid_size == 'large':\n",
    "        return clfs, large_grid\n",
    "    elif grid_size == 'small':\n",
    "        return clfs, small_grid\n",
    "    elif grid_size == 'test':\n",
    "        return clfs, test_grid\n",
    "    else:\n",
    "        return 0, 0\n",
    "\n",
    "        \n",
    "        \n",
    "def generate_binary_at_k(y_pred_probs, k):\n",
    "    '''\n",
    "    Turn probability estimates into binary at level k\n",
    "    '''\n",
    "\n",
    "    cutoff_index = int(len(y_pred_probs) * (k / 100.0))\n",
    "    y_pred_binary = [1 if x < cutoff_index else 0 for x in range(len(y_pred_probs))]\n",
    "    return y_pred_binary\n",
    "\n",
    "def precision_at_k(y_true, y_pred_probs, k):\n",
    "    '''\n",
    "    Calculate precision score for probability estimates at level k\n",
    "    '''\n",
    "\n",
    "    preds_at_k = generate_binary_at_k(y_pred_probs, k)\n",
    "    precision = precision_score(y_true, preds_at_k)\n",
    "    return precision\n",
    "\n",
    "def recall_at_k(y_true, y_pred_probs, k):\n",
    "    '''\n",
    "    Calculate recall score for probability estimates at level k\n",
    "    '''\n",
    "\n",
    "    preds_at_k = generate_binary_at_k(y_pred_probs, k)\n",
    "    recall = recall_score(y_true, preds_at_k)\n",
    "    return recall\n",
    "\n",
    "def plot_precision_recall_n(y_true, y_pred_probs, model_name):\n",
    "    '''\n",
    "    Plot precision recall curve\n",
    "    '''\n",
    "\n",
    "    from sklearn.metrics import precision_recall_curve\n",
    "    y_score = y_pred_probs\n",
    "    precision_curve, recall_curve, pr_thresholds = precision_recall_curve(y_true, y_score)\n",
    "    precision_curve = precision_curve[:-1]\n",
    "    recall_curve = recall_curve[:-1]\n",
    "    pct_above_per_thresh = []\n",
    "    number_scored = len(y_score)\n",
    "    plt.figure()\n",
    "    for value in pr_thresholds:\n",
    "        num_above_thresh = len(y_score[y_score>=value])\n",
    "        pct_above_thresh = num_above_thresh / float(number_scored)\n",
    "        pct_above_per_thresh.append(pct_above_thresh)\n",
    "    pct_above_per_thresh = np.array(pct_above_per_thresh)\n",
    "    plt.clf()\n",
    "    fig, ax1 = plt.subplots()\n",
    "    ax1.plot(pct_above_per_thresh, precision_curve, 'b')\n",
    "    ax1.set_xlabel('percent of population')\n",
    "    ax1.set_ylabel('precision', color='b')\n",
    "    ax2 = ax1.twinx()\n",
    "    ax2.plot(pct_above_per_thresh, recall_curve, 'r')\n",
    "    ax2.set_ylabel('recall', color='r')\n",
    "\n",
    "    plt.title(model_name)\n",
    "    plt.savefig('Graphs from evaluation/'+model_name)\n",
    "    plt.close()\n",
    "        \n",
    "        \n",
    "def clf_loop(models_to_run, clfs, grid, X, y, test_size, output=True):\n",
    "   '''\n",
    "    Run over certain clfs and grid, and evaluate each classifier by certain metrics\n",
    "    Inputs:\n",
    "        models_to_run: list of strings, classifiers to test\n",
    "        clfs: dictionary of classifiers \n",
    "        grid: dictionary of parameters grid \n",
    "        X: pandas DataFrame, features\n",
    "        y: pandas DataFrame\n",
    "        test_size: float [0.0, 1.0], proportion of the total data used as test dataset\n",
    "        output: boolean, save graphs and save result dataframe to csv file\n",
    "    Output:\n",
    "        pandas DataFrame, including classifiers, parameters, runtime, and evaluation scores\n",
    "    '''\n",
    "\n",
    "    results_df =  pd.DataFrame(columns=('model_type','clf', 'parameters', 'train_time', 'test_time',\n",
    "                                        'accuracy','f1_score', 'precision', 'recall', 'auc', \n",
    "                                        'p_at_5', 'p_at_10', 'p_at_20',\n",
    "                                        'r_at_5', 'r_at_10', 'r_at_20'))\n",
    "    for n in range(1, 2):\n",
    "        X_train, X_test, y_train, y_test = train_test_split(X, y, test_size = test_size, random_state=0)\n",
    "        for index,clf in enumerate([clfs[x] for x in models_to_run]):\n",
    "            print (models_to_run[index])\n",
    "            parameter_values = grid[models_to_run[index]]\n",
    "            for p in ParameterGrid(parameter_values):\n",
    "                try:\n",
    "                    clf.set_params(**p)\n",
    "                    train_start = time.time()\n",
    "                    clf.fit(X_train, y_train)\n",
    "                    train_end = time.time()\n",
    "                    train_time = train_end - train_start\n",
    "\n",
    "                    test_start = time.time()\n",
    "                    y_pred = clf.predict(X_test)\n",
    "                    test_end = time.time()\n",
    "                    test_time = test_end - test_start\n",
    "\n",
    "                    y_pred_probs = clf.predict_proba(X_test)[:,1]\n",
    "                    y_pred_probs_sorted, y_test_sorted = zip(*sorted(zip(y_pred_probs, y_test), reverse=True))\n",
    "                    results_df.loc[len(results_df)] = [models_to_run[index],clf, p, train_time, test_time,\n",
    "                                                       accuracy_score(y_test, y_pred),\n",
    "                                                       f1_score(y_test, y_pred),\n",
    "                                                       precision_score(y_test, y_pred),\n",
    "                                                       recall_score(y_test, y_pred),\n",
    "                                                       roc_auc_score(y_test, y_pred),\n",
    "                                                       precision_at_k(y_test_sorted,y_pred_probs_sorted,5.0),\n",
    "                                                       precision_at_k(y_test_sorted,y_pred_probs_sorted,10.0),\n",
    "                                                       precision_at_k(y_test_sorted,y_pred_probs_sorted,20.0),\n",
    "                                                       recall_at_k(y_test_sorted,y_pred_probs_sorted,5.0),\n",
    "                                                       recall_at_k(y_test_sorted,y_pred_probs_sorted,10.0),\n",
    "                                                       recall_at_k(y_test_sorted,y_pred_probs_sorted,20.0)]\n",
    "\n",
    "                    if output:\n",
    "                        model_name = models_to_run[index] + str(len(results_df))\n",
    "                        plot_precision_recall_n(y_test, y_pred_probs,model_name)\n",
    "                except IndexError as e:\n",
    "                    print ('Error:',e)\n",
    "                    continue\n",
    "    if output:\n",
    "        results_df.to_csv('clf_evaluations.csv')\n",
    "    return results_df\n"
   ]
  },
  {
   "cell_type": "code",
   "execution_count": 6,
   "metadata": {
    "collapsed": false
   },
   "outputs": [
    {
     "name": "stdout",
     "output_type": "stream",
     "text": [
      "RF\n"
     ]
    },
    {
     "name": "stderr",
     "output_type": "stream",
     "text": [
      "/anaconda/lib/python3.6/site-packages/sklearn/metrics/classification.py:1113: UndefinedMetricWarning: F-score is ill-defined and being set to 0.0 due to no predicted samples.\n",
      "  'precision', 'predicted', average, warn_for)\n",
      "/anaconda/lib/python3.6/site-packages/sklearn/metrics/classification.py:1113: UndefinedMetricWarning: Precision is ill-defined and being set to 0.0 due to no predicted samples.\n",
      "  'precision', 'predicted', average, warn_for)\n"
     ]
    },
    {
     "name": "stdout",
     "output_type": "stream",
     "text": [
      "LR\n",
      "DT\n"
     ]
    },
    {
     "name": "stderr",
     "output_type": "stream",
     "text": [
      "/anaconda/lib/python3.6/site-packages/sklearn/metrics/classification.py:1113: UndefinedMetricWarning: F-score is ill-defined and being set to 0.0 due to no predicted samples.\n",
      "  'precision', 'predicted', average, warn_for)\n",
      "/anaconda/lib/python3.6/site-packages/sklearn/metrics/classification.py:1113: UndefinedMetricWarning: Precision is ill-defined and being set to 0.0 due to no predicted samples.\n",
      "  'precision', 'predicted', average, warn_for)\n"
     ]
    },
    {
     "name": "stdout",
     "output_type": "stream",
     "text": [
      "KNN\n",
      "AB\n"
     ]
    },
    {
     "name": "stderr",
     "output_type": "stream",
     "text": [
      "/anaconda/lib/python3.6/site-packages/sklearn/metrics/classification.py:1113: UndefinedMetricWarning: F-score is ill-defined and being set to 0.0 due to no predicted samples.\n",
      "  'precision', 'predicted', average, warn_for)\n",
      "/anaconda/lib/python3.6/site-packages/sklearn/metrics/classification.py:1113: UndefinedMetricWarning: Precision is ill-defined and being set to 0.0 due to no predicted samples.\n",
      "  'precision', 'predicted', average, warn_for)\n"
     ]
    },
    {
     "name": "stdout",
     "output_type": "stream",
     "text": [
      "BAG\n"
     ]
    },
    {
     "data": {
      "text/html": [
       "<div>\n",
       "<table border=\"1\" class=\"dataframe\">\n",
       "  <thead>\n",
       "    <tr style=\"text-align: right;\">\n",
       "      <th></th>\n",
       "      <th>model_type</th>\n",
       "      <th>clf</th>\n",
       "      <th>parameters</th>\n",
       "      <th>train_time</th>\n",
       "      <th>test_time</th>\n",
       "      <th>accuracy</th>\n",
       "      <th>f1_score</th>\n",
       "      <th>precision</th>\n",
       "      <th>recall</th>\n",
       "      <th>auc</th>\n",
       "      <th>p_at_5</th>\n",
       "      <th>p_at_10</th>\n",
       "      <th>p_at_20</th>\n",
       "      <th>r_at_5</th>\n",
       "      <th>r_at_10</th>\n",
       "      <th>r_at_20</th>\n",
       "    </tr>\n",
       "  </thead>\n",
       "  <tbody>\n",
       "    <tr>\n",
       "      <th>0</th>\n",
       "      <td>RF</td>\n",
       "      <td>(DecisionTreeClassifier(class_weight=None, cri...</td>\n",
       "      <td>{'max_depth': 1, 'max_features': 'sqrt', 'min_...</td>\n",
       "      <td>0.152596</td>\n",
       "      <td>0.004184</td>\n",
       "      <td>0.932080</td>\n",
       "      <td>0.000000</td>\n",
       "      <td>0.000000</td>\n",
       "      <td>0.000000</td>\n",
       "      <td>0.500000</td>\n",
       "      <td>1.000000</td>\n",
       "      <td>0.529067</td>\n",
       "      <td>0.264533</td>\n",
       "      <td>0.736160</td>\n",
       "      <td>0.778956</td>\n",
       "      <td>0.778956</td>\n",
       "    </tr>\n",
       "    <tr>\n",
       "      <th>1</th>\n",
       "      <td>LR</td>\n",
       "      <td>LogisticRegression(C=0.01, class_weight=None, ...</td>\n",
       "      <td>{'C': 0.01, 'penalty': 'l1'}</td>\n",
       "      <td>0.418475</td>\n",
       "      <td>0.003895</td>\n",
       "      <td>0.932400</td>\n",
       "      <td>0.028363</td>\n",
       "      <td>0.596774</td>\n",
       "      <td>0.014527</td>\n",
       "      <td>0.506906</td>\n",
       "      <td>0.139200</td>\n",
       "      <td>0.129600</td>\n",
       "      <td>0.116933</td>\n",
       "      <td>0.102473</td>\n",
       "      <td>0.190813</td>\n",
       "      <td>0.344327</td>\n",
       "    </tr>\n",
       "    <tr>\n",
       "      <th>2</th>\n",
       "      <td>DT</td>\n",
       "      <td>DecisionTreeClassifier(class_weight=None, crit...</td>\n",
       "      <td>{'criterion': 'gini', 'max_depth': 1, 'max_fea...</td>\n",
       "      <td>0.037945</td>\n",
       "      <td>0.001697</td>\n",
       "      <td>0.932080</td>\n",
       "      <td>0.000000</td>\n",
       "      <td>0.000000</td>\n",
       "      <td>0.000000</td>\n",
       "      <td>0.500000</td>\n",
       "      <td>0.464000</td>\n",
       "      <td>0.672533</td>\n",
       "      <td>0.339600</td>\n",
       "      <td>0.341578</td>\n",
       "      <td>0.990185</td>\n",
       "      <td>1.000000</td>\n",
       "    </tr>\n",
       "    <tr>\n",
       "      <th>3</th>\n",
       "      <td>KNN</td>\n",
       "      <td>KNeighborsClassifier(algorithm='auto', leaf_si...</td>\n",
       "      <td>{'algorithm': 'auto', 'n_neighbors': 5, 'weigh...</td>\n",
       "      <td>0.191890</td>\n",
       "      <td>2.289668</td>\n",
       "      <td>0.930107</td>\n",
       "      <td>0.051393</td>\n",
       "      <td>0.328704</td>\n",
       "      <td>0.027876</td>\n",
       "      <td>0.511864</td>\n",
       "      <td>0.397867</td>\n",
       "      <td>0.253600</td>\n",
       "      <td>0.126800</td>\n",
       "      <td>0.292894</td>\n",
       "      <td>0.373380</td>\n",
       "      <td>0.373380</td>\n",
       "    </tr>\n",
       "    <tr>\n",
       "      <th>4</th>\n",
       "      <td>AB</td>\n",
       "      <td>(DecisionTreeClassifier(class_weight=None, cri...</td>\n",
       "      <td>{'algorithm': 'SAMME', 'n_estimators': 1}</td>\n",
       "      <td>0.082943</td>\n",
       "      <td>0.003267</td>\n",
       "      <td>0.932080</td>\n",
       "      <td>0.000000</td>\n",
       "      <td>0.000000</td>\n",
       "      <td>0.000000</td>\n",
       "      <td>0.500000</td>\n",
       "      <td>0.464000</td>\n",
       "      <td>0.672533</td>\n",
       "      <td>0.339600</td>\n",
       "      <td>0.341578</td>\n",
       "      <td>0.990185</td>\n",
       "      <td>1.000000</td>\n",
       "    </tr>\n",
       "    <tr>\n",
       "      <th>5</th>\n",
       "      <td>BAG</td>\n",
       "      <td>(DecisionTreeClassifier(class_weight=None, cri...</td>\n",
       "      <td>{'n_estimators': 5}</td>\n",
       "      <td>0.720283</td>\n",
       "      <td>0.022010</td>\n",
       "      <td>0.932053</td>\n",
       "      <td>0.001567</td>\n",
       "      <td>0.400000</td>\n",
       "      <td>0.000785</td>\n",
       "      <td>0.500350</td>\n",
       "      <td>0.263467</td>\n",
       "      <td>0.237600</td>\n",
       "      <td>0.195733</td>\n",
       "      <td>0.193954</td>\n",
       "      <td>0.349823</td>\n",
       "      <td>0.576364</td>\n",
       "    </tr>\n",
       "  </tbody>\n",
       "</table>\n",
       "</div>"
      ],
      "text/plain": [
       "  model_type                                                clf  \\\n",
       "0         RF  (DecisionTreeClassifier(class_weight=None, cri...   \n",
       "1         LR  LogisticRegression(C=0.01, class_weight=None, ...   \n",
       "2         DT  DecisionTreeClassifier(class_weight=None, crit...   \n",
       "3        KNN  KNeighborsClassifier(algorithm='auto', leaf_si...   \n",
       "4         AB  (DecisionTreeClassifier(class_weight=None, cri...   \n",
       "5        BAG  (DecisionTreeClassifier(class_weight=None, cri...   \n",
       "\n",
       "                                          parameters  train_time  test_time  \\\n",
       "0  {'max_depth': 1, 'max_features': 'sqrt', 'min_...    0.152596   0.004184   \n",
       "1                       {'C': 0.01, 'penalty': 'l1'}    0.418475   0.003895   \n",
       "2  {'criterion': 'gini', 'max_depth': 1, 'max_fea...    0.037945   0.001697   \n",
       "3  {'algorithm': 'auto', 'n_neighbors': 5, 'weigh...    0.191890   2.289668   \n",
       "4          {'algorithm': 'SAMME', 'n_estimators': 1}    0.082943   0.003267   \n",
       "5                                {'n_estimators': 5}    0.720283   0.022010   \n",
       "\n",
       "   accuracy  f1_score  precision    recall       auc    p_at_5   p_at_10  \\\n",
       "0  0.932080  0.000000   0.000000  0.000000  0.500000  1.000000  0.529067   \n",
       "1  0.932400  0.028363   0.596774  0.014527  0.506906  0.139200  0.129600   \n",
       "2  0.932080  0.000000   0.000000  0.000000  0.500000  0.464000  0.672533   \n",
       "3  0.930107  0.051393   0.328704  0.027876  0.511864  0.397867  0.253600   \n",
       "4  0.932080  0.000000   0.000000  0.000000  0.500000  0.464000  0.672533   \n",
       "5  0.932053  0.001567   0.400000  0.000785  0.500350  0.263467  0.237600   \n",
       "\n",
       "    p_at_20    r_at_5   r_at_10   r_at_20  \n",
       "0  0.264533  0.736160  0.778956  0.778956  \n",
       "1  0.116933  0.102473  0.190813  0.344327  \n",
       "2  0.339600  0.341578  0.990185  1.000000  \n",
       "3  0.126800  0.292894  0.373380  0.373380  \n",
       "4  0.339600  0.341578  0.990185  1.000000  \n",
       "5  0.195733  0.193954  0.349823  0.576364  "
      ]
     },
     "execution_count": 6,
     "metadata": {},
     "output_type": "execute_result"
    },
    {
     "data": {
      "text/plain": [
       "<matplotlib.figure.Figure at 0x101eec6a0>"
      ]
     },
     "metadata": {},
     "output_type": "display_data"
    },
    {
     "data": {
      "text/plain": [
       "<matplotlib.figure.Figure at 0x10e7d2cc0>"
      ]
     },
     "metadata": {},
     "output_type": "display_data"
    },
    {
     "data": {
      "text/plain": [
       "<matplotlib.figure.Figure at 0x108a1d320>"
      ]
     },
     "metadata": {},
     "output_type": "display_data"
    },
    {
     "data": {
      "text/plain": [
       "<matplotlib.figure.Figure at 0x10e5ebcf8>"
      ]
     },
     "metadata": {},
     "output_type": "display_data"
    },
    {
     "data": {
      "text/plain": [
       "<matplotlib.figure.Figure at 0x10e625cf8>"
      ]
     },
     "metadata": {},
     "output_type": "display_data"
    },
    {
     "data": {
      "text/plain": [
       "<matplotlib.figure.Figure at 0x10ee53e80>"
      ]
     },
     "metadata": {},
     "output_type": "display_data"
    }
   ],
   "source": [
    "X = np.array(['RevolvingUtilizationOfUnsecuredLines', 'DebtRatio', 'age', 'MonthlyIncome', 'NumberOfTimes90DaysLate'])\n",
    "y = 'SeriousDlqin2yrs'\n",
    "models_to_run=['RF','LR','DT','KNN','AB','BAG']\n",
    "grid_size = 'test'\n",
    "\n",
    "df = read_data('credit-data.csv', 'csv')\n",
    "df['SeriousDlqin2yrs'] = df['SeriousDlqin2yrs'].astype(np.bool)\n",
    "fill_null(df, ['MonthlyIncome'], 'mean')\n",
    "clfs, grid = define_clfs_params(grid_size)\n",
    "clf_loop(models_to_run, clfs, grid, df[X], df[y], 0.25)"
   ]
  },
  {
   "cell_type": "code",
   "execution_count": 7,
   "metadata": {
    "collapsed": false
   },
   "outputs": [
    {
     "name": "stdout",
     "output_type": "stream",
     "text": [
      "RF\n",
      "LR\n"
     ]
    },
    {
     "name": "stderr",
     "output_type": "stream",
     "text": [
      "/anaconda/lib/python3.6/site-packages/sklearn/metrics/classification.py:1113: UndefinedMetricWarning: F-score is ill-defined and being set to 0.0 due to no predicted samples.\n",
      "  'precision', 'predicted', average, warn_for)\n",
      "/anaconda/lib/python3.6/site-packages/sklearn/metrics/classification.py:1113: UndefinedMetricWarning: Precision is ill-defined and being set to 0.0 due to no predicted samples.\n",
      "  'precision', 'predicted', average, warn_for)\n",
      "/anaconda/lib/python3.6/site-packages/matplotlib/pyplot.py:524: RuntimeWarning: More than 20 figures have been opened. Figures created through the pyplot interface (`matplotlib.pyplot.figure`) are retained until explicitly closed and may consume too much memory. (To control this warning, see the rcParam `figure.max_open_warning`).\n",
      "  max_open_warning, RuntimeWarning)\n",
      "/anaconda/lib/python3.6/site-packages/matplotlib/pyplot.py:524: RuntimeWarning: More than 20 figures have been opened. Figures created through the pyplot interface (`matplotlib.pyplot.figure`) are retained until explicitly closed and may consume too much memory. (To control this warning, see the rcParam `figure.max_open_warning`).\n",
      "  max_open_warning, RuntimeWarning)\n",
      "/anaconda/lib/python3.6/site-packages/matplotlib/pyplot.py:524: RuntimeWarning: More than 20 figures have been opened. Figures created through the pyplot interface (`matplotlib.pyplot.figure`) are retained until explicitly closed and may consume too much memory. (To control this warning, see the rcParam `figure.max_open_warning`).\n",
      "  max_open_warning, RuntimeWarning)\n",
      "/anaconda/lib/python3.6/site-packages/matplotlib/pyplot.py:524: RuntimeWarning: More than 20 figures have been opened. Figures created through the pyplot interface (`matplotlib.pyplot.figure`) are retained until explicitly closed and may consume too much memory. (To control this warning, see the rcParam `figure.max_open_warning`).\n",
      "  max_open_warning, RuntimeWarning)\n",
      "/anaconda/lib/python3.6/site-packages/matplotlib/pyplot.py:524: RuntimeWarning: More than 20 figures have been opened. Figures created through the pyplot interface (`matplotlib.pyplot.figure`) are retained until explicitly closed and may consume too much memory. (To control this warning, see the rcParam `figure.max_open_warning`).\n",
      "  max_open_warning, RuntimeWarning)\n",
      "/anaconda/lib/python3.6/site-packages/matplotlib/pyplot.py:524: RuntimeWarning: More than 20 figures have been opened. Figures created through the pyplot interface (`matplotlib.pyplot.figure`) are retained until explicitly closed and may consume too much memory. (To control this warning, see the rcParam `figure.max_open_warning`).\n",
      "  max_open_warning, RuntimeWarning)\n",
      "/anaconda/lib/python3.6/site-packages/matplotlib/pyplot.py:524: RuntimeWarning: More than 20 figures have been opened. Figures created through the pyplot interface (`matplotlib.pyplot.figure`) are retained until explicitly closed and may consume too much memory. (To control this warning, see the rcParam `figure.max_open_warning`).\n",
      "  max_open_warning, RuntimeWarning)\n"
     ]
    },
    {
     "name": "stdout",
     "output_type": "stream",
     "text": [
      "DT\n"
     ]
    },
    {
     "name": "stderr",
     "output_type": "stream",
     "text": [
      "/anaconda/lib/python3.6/site-packages/sklearn/metrics/classification.py:1113: UndefinedMetricWarning: F-score is ill-defined and being set to 0.0 due to no predicted samples.\n",
      "  'precision', 'predicted', average, warn_for)\n",
      "/anaconda/lib/python3.6/site-packages/sklearn/metrics/classification.py:1113: UndefinedMetricWarning: Precision is ill-defined and being set to 0.0 due to no predicted samples.\n",
      "  'precision', 'predicted', average, warn_for)\n",
      "/anaconda/lib/python3.6/site-packages/matplotlib/pyplot.py:524: RuntimeWarning: More than 20 figures have been opened. Figures created through the pyplot interface (`matplotlib.pyplot.figure`) are retained until explicitly closed and may consume too much memory. (To control this warning, see the rcParam `figure.max_open_warning`).\n",
      "  max_open_warning, RuntimeWarning)\n",
      "/anaconda/lib/python3.6/site-packages/sklearn/metrics/classification.py:1113: UndefinedMetricWarning: F-score is ill-defined and being set to 0.0 due to no predicted samples.\n",
      "  'precision', 'predicted', average, warn_for)\n",
      "/anaconda/lib/python3.6/site-packages/sklearn/metrics/classification.py:1113: UndefinedMetricWarning: Precision is ill-defined and being set to 0.0 due to no predicted samples.\n",
      "  'precision', 'predicted', average, warn_for)\n",
      "/anaconda/lib/python3.6/site-packages/matplotlib/pyplot.py:524: RuntimeWarning: More than 20 figures have been opened. Figures created through the pyplot interface (`matplotlib.pyplot.figure`) are retained until explicitly closed and may consume too much memory. (To control this warning, see the rcParam `figure.max_open_warning`).\n",
      "  max_open_warning, RuntimeWarning)\n",
      "/anaconda/lib/python3.6/site-packages/sklearn/metrics/classification.py:1113: UndefinedMetricWarning: F-score is ill-defined and being set to 0.0 due to no predicted samples.\n",
      "  'precision', 'predicted', average, warn_for)\n",
      "/anaconda/lib/python3.6/site-packages/sklearn/metrics/classification.py:1113: UndefinedMetricWarning: Precision is ill-defined and being set to 0.0 due to no predicted samples.\n",
      "  'precision', 'predicted', average, warn_for)\n",
      "/anaconda/lib/python3.6/site-packages/matplotlib/pyplot.py:524: RuntimeWarning: More than 20 figures have been opened. Figures created through the pyplot interface (`matplotlib.pyplot.figure`) are retained until explicitly closed and may consume too much memory. (To control this warning, see the rcParam `figure.max_open_warning`).\n",
      "  max_open_warning, RuntimeWarning)\n",
      "/anaconda/lib/python3.6/site-packages/sklearn/metrics/classification.py:1113: UndefinedMetricWarning: F-score is ill-defined and being set to 0.0 due to no predicted samples.\n",
      "  'precision', 'predicted', average, warn_for)\n",
      "/anaconda/lib/python3.6/site-packages/sklearn/metrics/classification.py:1113: UndefinedMetricWarning: Precision is ill-defined and being set to 0.0 due to no predicted samples.\n",
      "  'precision', 'predicted', average, warn_for)\n",
      "/anaconda/lib/python3.6/site-packages/matplotlib/pyplot.py:524: RuntimeWarning: More than 20 figures have been opened. Figures created through the pyplot interface (`matplotlib.pyplot.figure`) are retained until explicitly closed and may consume too much memory. (To control this warning, see the rcParam `figure.max_open_warning`).\n",
      "  max_open_warning, RuntimeWarning)\n",
      "/anaconda/lib/python3.6/site-packages/sklearn/metrics/classification.py:1113: UndefinedMetricWarning: F-score is ill-defined and being set to 0.0 due to no predicted samples.\n",
      "  'precision', 'predicted', average, warn_for)\n",
      "/anaconda/lib/python3.6/site-packages/sklearn/metrics/classification.py:1113: UndefinedMetricWarning: Precision is ill-defined and being set to 0.0 due to no predicted samples.\n",
      "  'precision', 'predicted', average, warn_for)\n",
      "/anaconda/lib/python3.6/site-packages/matplotlib/pyplot.py:524: RuntimeWarning: More than 20 figures have been opened. Figures created through the pyplot interface (`matplotlib.pyplot.figure`) are retained until explicitly closed and may consume too much memory. (To control this warning, see the rcParam `figure.max_open_warning`).\n",
      "  max_open_warning, RuntimeWarning)\n",
      "/anaconda/lib/python3.6/site-packages/sklearn/metrics/classification.py:1113: UndefinedMetricWarning: F-score is ill-defined and being set to 0.0 due to no predicted samples.\n",
      "  'precision', 'predicted', average, warn_for)\n",
      "/anaconda/lib/python3.6/site-packages/sklearn/metrics/classification.py:1113: UndefinedMetricWarning: Precision is ill-defined and being set to 0.0 due to no predicted samples.\n",
      "  'precision', 'predicted', average, warn_for)\n",
      "/anaconda/lib/python3.6/site-packages/matplotlib/pyplot.py:524: RuntimeWarning: More than 20 figures have been opened. Figures created through the pyplot interface (`matplotlib.pyplot.figure`) are retained until explicitly closed and may consume too much memory. (To control this warning, see the rcParam `figure.max_open_warning`).\n",
      "  max_open_warning, RuntimeWarning)\n",
      "/anaconda/lib/python3.6/site-packages/matplotlib/pyplot.py:524: RuntimeWarning: More than 20 figures have been opened. Figures created through the pyplot interface (`matplotlib.pyplot.figure`) are retained until explicitly closed and may consume too much memory. (To control this warning, see the rcParam `figure.max_open_warning`).\n",
      "  max_open_warning, RuntimeWarning)\n",
      "/anaconda/lib/python3.6/site-packages/matplotlib/pyplot.py:524: RuntimeWarning: More than 20 figures have been opened. Figures created through the pyplot interface (`matplotlib.pyplot.figure`) are retained until explicitly closed and may consume too much memory. (To control this warning, see the rcParam `figure.max_open_warning`).\n",
      "  max_open_warning, RuntimeWarning)\n",
      "/anaconda/lib/python3.6/site-packages/matplotlib/pyplot.py:524: RuntimeWarning: More than 20 figures have been opened. Figures created through the pyplot interface (`matplotlib.pyplot.figure`) are retained until explicitly closed and may consume too much memory. (To control this warning, see the rcParam `figure.max_open_warning`).\n",
      "  max_open_warning, RuntimeWarning)\n",
      "/anaconda/lib/python3.6/site-packages/matplotlib/pyplot.py:524: RuntimeWarning: More than 20 figures have been opened. Figures created through the pyplot interface (`matplotlib.pyplot.figure`) are retained until explicitly closed and may consume too much memory. (To control this warning, see the rcParam `figure.max_open_warning`).\n",
      "  max_open_warning, RuntimeWarning)\n",
      "/anaconda/lib/python3.6/site-packages/matplotlib/pyplot.py:524: RuntimeWarning: More than 20 figures have been opened. Figures created through the pyplot interface (`matplotlib.pyplot.figure`) are retained until explicitly closed and may consume too much memory. (To control this warning, see the rcParam `figure.max_open_warning`).\n",
      "  max_open_warning, RuntimeWarning)\n",
      "/anaconda/lib/python3.6/site-packages/matplotlib/pyplot.py:524: RuntimeWarning: More than 20 figures have been opened. Figures created through the pyplot interface (`matplotlib.pyplot.figure`) are retained until explicitly closed and may consume too much memory. (To control this warning, see the rcParam `figure.max_open_warning`).\n",
      "  max_open_warning, RuntimeWarning)\n",
      "/anaconda/lib/python3.6/site-packages/matplotlib/pyplot.py:524: RuntimeWarning: More than 20 figures have been opened. Figures created through the pyplot interface (`matplotlib.pyplot.figure`) are retained until explicitly closed and may consume too much memory. (To control this warning, see the rcParam `figure.max_open_warning`).\n",
      "  max_open_warning, RuntimeWarning)\n",
      "/anaconda/lib/python3.6/site-packages/matplotlib/pyplot.py:524: RuntimeWarning: More than 20 figures have been opened. Figures created through the pyplot interface (`matplotlib.pyplot.figure`) are retained until explicitly closed and may consume too much memory. (To control this warning, see the rcParam `figure.max_open_warning`).\n",
      "  max_open_warning, RuntimeWarning)\n",
      "/anaconda/lib/python3.6/site-packages/matplotlib/pyplot.py:524: RuntimeWarning: More than 20 figures have been opened. Figures created through the pyplot interface (`matplotlib.pyplot.figure`) are retained until explicitly closed and may consume too much memory. (To control this warning, see the rcParam `figure.max_open_warning`).\n",
      "  max_open_warning, RuntimeWarning)\n",
      "/anaconda/lib/python3.6/site-packages/matplotlib/pyplot.py:524: RuntimeWarning: More than 20 figures have been opened. Figures created through the pyplot interface (`matplotlib.pyplot.figure`) are retained until explicitly closed and may consume too much memory. (To control this warning, see the rcParam `figure.max_open_warning`).\n",
      "  max_open_warning, RuntimeWarning)\n",
      "/anaconda/lib/python3.6/site-packages/matplotlib/pyplot.py:524: RuntimeWarning: More than 20 figures have been opened. Figures created through the pyplot interface (`matplotlib.pyplot.figure`) are retained until explicitly closed and may consume too much memory. (To control this warning, see the rcParam `figure.max_open_warning`).\n",
      "  max_open_warning, RuntimeWarning)\n",
      "/anaconda/lib/python3.6/site-packages/matplotlib/pyplot.py:524: RuntimeWarning: More than 20 figures have been opened. Figures created through the pyplot interface (`matplotlib.pyplot.figure`) are retained until explicitly closed and may consume too much memory. (To control this warning, see the rcParam `figure.max_open_warning`).\n",
      "  max_open_warning, RuntimeWarning)\n",
      "/anaconda/lib/python3.6/site-packages/matplotlib/pyplot.py:524: RuntimeWarning: More than 20 figures have been opened. Figures created through the pyplot interface (`matplotlib.pyplot.figure`) are retained until explicitly closed and may consume too much memory. (To control this warning, see the rcParam `figure.max_open_warning`).\n",
      "  max_open_warning, RuntimeWarning)\n",
      "/anaconda/lib/python3.6/site-packages/matplotlib/pyplot.py:524: RuntimeWarning: More than 20 figures have been opened. Figures created through the pyplot interface (`matplotlib.pyplot.figure`) are retained until explicitly closed and may consume too much memory. (To control this warning, see the rcParam `figure.max_open_warning`).\n",
      "  max_open_warning, RuntimeWarning)\n",
      "/anaconda/lib/python3.6/site-packages/matplotlib/pyplot.py:524: RuntimeWarning: More than 20 figures have been opened. Figures created through the pyplot interface (`matplotlib.pyplot.figure`) are retained until explicitly closed and may consume too much memory. (To control this warning, see the rcParam `figure.max_open_warning`).\n",
      "  max_open_warning, RuntimeWarning)\n",
      "/anaconda/lib/python3.6/site-packages/matplotlib/pyplot.py:524: RuntimeWarning: More than 20 figures have been opened. Figures created through the pyplot interface (`matplotlib.pyplot.figure`) are retained until explicitly closed and may consume too much memory. (To control this warning, see the rcParam `figure.max_open_warning`).\n",
      "  max_open_warning, RuntimeWarning)\n",
      "/anaconda/lib/python3.6/site-packages/matplotlib/pyplot.py:524: RuntimeWarning: More than 20 figures have been opened. Figures created through the pyplot interface (`matplotlib.pyplot.figure`) are retained until explicitly closed and may consume too much memory. (To control this warning, see the rcParam `figure.max_open_warning`).\n",
      "  max_open_warning, RuntimeWarning)\n",
      "/anaconda/lib/python3.6/site-packages/matplotlib/pyplot.py:524: RuntimeWarning: More than 20 figures have been opened. Figures created through the pyplot interface (`matplotlib.pyplot.figure`) are retained until explicitly closed and may consume too much memory. (To control this warning, see the rcParam `figure.max_open_warning`).\n",
      "  max_open_warning, RuntimeWarning)\n",
      "/anaconda/lib/python3.6/site-packages/matplotlib/pyplot.py:524: RuntimeWarning: More than 20 figures have been opened. Figures created through the pyplot interface (`matplotlib.pyplot.figure`) are retained until explicitly closed and may consume too much memory. (To control this warning, see the rcParam `figure.max_open_warning`).\n",
      "  max_open_warning, RuntimeWarning)\n",
      "/anaconda/lib/python3.6/site-packages/matplotlib/pyplot.py:524: RuntimeWarning: More than 20 figures have been opened. Figures created through the pyplot interface (`matplotlib.pyplot.figure`) are retained until explicitly closed and may consume too much memory. (To control this warning, see the rcParam `figure.max_open_warning`).\n",
      "  max_open_warning, RuntimeWarning)\n",
      "/anaconda/lib/python3.6/site-packages/matplotlib/pyplot.py:524: RuntimeWarning: More than 20 figures have been opened. Figures created through the pyplot interface (`matplotlib.pyplot.figure`) are retained until explicitly closed and may consume too much memory. (To control this warning, see the rcParam `figure.max_open_warning`).\n",
      "  max_open_warning, RuntimeWarning)\n",
      "/anaconda/lib/python3.6/site-packages/matplotlib/pyplot.py:524: RuntimeWarning: More than 20 figures have been opened. Figures created through the pyplot interface (`matplotlib.pyplot.figure`) are retained until explicitly closed and may consume too much memory. (To control this warning, see the rcParam `figure.max_open_warning`).\n",
      "  max_open_warning, RuntimeWarning)\n",
      "/anaconda/lib/python3.6/site-packages/matplotlib/pyplot.py:524: RuntimeWarning: More than 20 figures have been opened. Figures created through the pyplot interface (`matplotlib.pyplot.figure`) are retained until explicitly closed and may consume too much memory. (To control this warning, see the rcParam `figure.max_open_warning`).\n",
      "  max_open_warning, RuntimeWarning)\n",
      "/anaconda/lib/python3.6/site-packages/matplotlib/pyplot.py:524: RuntimeWarning: More than 20 figures have been opened. Figures created through the pyplot interface (`matplotlib.pyplot.figure`) are retained until explicitly closed and may consume too much memory. (To control this warning, see the rcParam `figure.max_open_warning`).\n",
      "  max_open_warning, RuntimeWarning)\n",
      "/anaconda/lib/python3.6/site-packages/matplotlib/pyplot.py:524: RuntimeWarning: More than 20 figures have been opened. Figures created through the pyplot interface (`matplotlib.pyplot.figure`) are retained until explicitly closed and may consume too much memory. (To control this warning, see the rcParam `figure.max_open_warning`).\n",
      "  max_open_warning, RuntimeWarning)\n",
      "/anaconda/lib/python3.6/site-packages/matplotlib/pyplot.py:524: RuntimeWarning: More than 20 figures have been opened. Figures created through the pyplot interface (`matplotlib.pyplot.figure`) are retained until explicitly closed and may consume too much memory. (To control this warning, see the rcParam `figure.max_open_warning`).\n",
      "  max_open_warning, RuntimeWarning)\n",
      "/anaconda/lib/python3.6/site-packages/matplotlib/pyplot.py:524: RuntimeWarning: More than 20 figures have been opened. Figures created through the pyplot interface (`matplotlib.pyplot.figure`) are retained until explicitly closed and may consume too much memory. (To control this warning, see the rcParam `figure.max_open_warning`).\n",
      "  max_open_warning, RuntimeWarning)\n",
      "/anaconda/lib/python3.6/site-packages/matplotlib/pyplot.py:524: RuntimeWarning: More than 20 figures have been opened. Figures created through the pyplot interface (`matplotlib.pyplot.figure`) are retained until explicitly closed and may consume too much memory. (To control this warning, see the rcParam `figure.max_open_warning`).\n",
      "  max_open_warning, RuntimeWarning)\n",
      "/anaconda/lib/python3.6/site-packages/matplotlib/pyplot.py:524: RuntimeWarning: More than 20 figures have been opened. Figures created through the pyplot interface (`matplotlib.pyplot.figure`) are retained until explicitly closed and may consume too much memory. (To control this warning, see the rcParam `figure.max_open_warning`).\n",
      "  max_open_warning, RuntimeWarning)\n",
      "/anaconda/lib/python3.6/site-packages/matplotlib/pyplot.py:524: RuntimeWarning: More than 20 figures have been opened. Figures created through the pyplot interface (`matplotlib.pyplot.figure`) are retained until explicitly closed and may consume too much memory. (To control this warning, see the rcParam `figure.max_open_warning`).\n",
      "  max_open_warning, RuntimeWarning)\n",
      "/anaconda/lib/python3.6/site-packages/sklearn/metrics/classification.py:1113: UndefinedMetricWarning: F-score is ill-defined and being set to 0.0 due to no predicted samples.\n",
      "  'precision', 'predicted', average, warn_for)\n",
      "/anaconda/lib/python3.6/site-packages/sklearn/metrics/classification.py:1113: UndefinedMetricWarning: Precision is ill-defined and being set to 0.0 due to no predicted samples.\n",
      "  'precision', 'predicted', average, warn_for)\n",
      "/anaconda/lib/python3.6/site-packages/matplotlib/pyplot.py:524: RuntimeWarning: More than 20 figures have been opened. Figures created through the pyplot interface (`matplotlib.pyplot.figure`) are retained until explicitly closed and may consume too much memory. (To control this warning, see the rcParam `figure.max_open_warning`).\n",
      "  max_open_warning, RuntimeWarning)\n",
      "/anaconda/lib/python3.6/site-packages/sklearn/metrics/classification.py:1113: UndefinedMetricWarning: F-score is ill-defined and being set to 0.0 due to no predicted samples.\n",
      "  'precision', 'predicted', average, warn_for)\n",
      "/anaconda/lib/python3.6/site-packages/sklearn/metrics/classification.py:1113: UndefinedMetricWarning: Precision is ill-defined and being set to 0.0 due to no predicted samples.\n",
      "  'precision', 'predicted', average, warn_for)\n",
      "/anaconda/lib/python3.6/site-packages/matplotlib/pyplot.py:524: RuntimeWarning: More than 20 figures have been opened. Figures created through the pyplot interface (`matplotlib.pyplot.figure`) are retained until explicitly closed and may consume too much memory. (To control this warning, see the rcParam `figure.max_open_warning`).\n",
      "  max_open_warning, RuntimeWarning)\n",
      "/anaconda/lib/python3.6/site-packages/sklearn/metrics/classification.py:1113: UndefinedMetricWarning: F-score is ill-defined and being set to 0.0 due to no predicted samples.\n",
      "  'precision', 'predicted', average, warn_for)\n",
      "/anaconda/lib/python3.6/site-packages/sklearn/metrics/classification.py:1113: UndefinedMetricWarning: Precision is ill-defined and being set to 0.0 due to no predicted samples.\n",
      "  'precision', 'predicted', average, warn_for)\n",
      "/anaconda/lib/python3.6/site-packages/matplotlib/pyplot.py:524: RuntimeWarning: More than 20 figures have been opened. Figures created through the pyplot interface (`matplotlib.pyplot.figure`) are retained until explicitly closed and may consume too much memory. (To control this warning, see the rcParam `figure.max_open_warning`).\n",
      "  max_open_warning, RuntimeWarning)\n",
      "/anaconda/lib/python3.6/site-packages/sklearn/metrics/classification.py:1113: UndefinedMetricWarning: F-score is ill-defined and being set to 0.0 due to no predicted samples.\n",
      "  'precision', 'predicted', average, warn_for)\n",
      "/anaconda/lib/python3.6/site-packages/sklearn/metrics/classification.py:1113: UndefinedMetricWarning: Precision is ill-defined and being set to 0.0 due to no predicted samples.\n",
      "  'precision', 'predicted', average, warn_for)\n",
      "/anaconda/lib/python3.6/site-packages/matplotlib/pyplot.py:524: RuntimeWarning: More than 20 figures have been opened. Figures created through the pyplot interface (`matplotlib.pyplot.figure`) are retained until explicitly closed and may consume too much memory. (To control this warning, see the rcParam `figure.max_open_warning`).\n",
      "  max_open_warning, RuntimeWarning)\n",
      "/anaconda/lib/python3.6/site-packages/sklearn/metrics/classification.py:1113: UndefinedMetricWarning: F-score is ill-defined and being set to 0.0 due to no predicted samples.\n",
      "  'precision', 'predicted', average, warn_for)\n",
      "/anaconda/lib/python3.6/site-packages/sklearn/metrics/classification.py:1113: UndefinedMetricWarning: Precision is ill-defined and being set to 0.0 due to no predicted samples.\n",
      "  'precision', 'predicted', average, warn_for)\n",
      "/anaconda/lib/python3.6/site-packages/matplotlib/pyplot.py:524: RuntimeWarning: More than 20 figures have been opened. Figures created through the pyplot interface (`matplotlib.pyplot.figure`) are retained until explicitly closed and may consume too much memory. (To control this warning, see the rcParam `figure.max_open_warning`).\n",
      "  max_open_warning, RuntimeWarning)\n",
      "/anaconda/lib/python3.6/site-packages/sklearn/metrics/classification.py:1113: UndefinedMetricWarning: F-score is ill-defined and being set to 0.0 due to no predicted samples.\n",
      "  'precision', 'predicted', average, warn_for)\n",
      "/anaconda/lib/python3.6/site-packages/sklearn/metrics/classification.py:1113: UndefinedMetricWarning: Precision is ill-defined and being set to 0.0 due to no predicted samples.\n",
      "  'precision', 'predicted', average, warn_for)\n",
      "/anaconda/lib/python3.6/site-packages/matplotlib/pyplot.py:524: RuntimeWarning: More than 20 figures have been opened. Figures created through the pyplot interface (`matplotlib.pyplot.figure`) are retained until explicitly closed and may consume too much memory. (To control this warning, see the rcParam `figure.max_open_warning`).\n",
      "  max_open_warning, RuntimeWarning)\n",
      "/anaconda/lib/python3.6/site-packages/matplotlib/pyplot.py:524: RuntimeWarning: More than 20 figures have been opened. Figures created through the pyplot interface (`matplotlib.pyplot.figure`) are retained until explicitly closed and may consume too much memory. (To control this warning, see the rcParam `figure.max_open_warning`).\n",
      "  max_open_warning, RuntimeWarning)\n",
      "/anaconda/lib/python3.6/site-packages/matplotlib/pyplot.py:524: RuntimeWarning: More than 20 figures have been opened. Figures created through the pyplot interface (`matplotlib.pyplot.figure`) are retained until explicitly closed and may consume too much memory. (To control this warning, see the rcParam `figure.max_open_warning`).\n",
      "  max_open_warning, RuntimeWarning)\n",
      "/anaconda/lib/python3.6/site-packages/matplotlib/pyplot.py:524: RuntimeWarning: More than 20 figures have been opened. Figures created through the pyplot interface (`matplotlib.pyplot.figure`) are retained until explicitly closed and may consume too much memory. (To control this warning, see the rcParam `figure.max_open_warning`).\n",
      "  max_open_warning, RuntimeWarning)\n",
      "/anaconda/lib/python3.6/site-packages/matplotlib/pyplot.py:524: RuntimeWarning: More than 20 figures have been opened. Figures created through the pyplot interface (`matplotlib.pyplot.figure`) are retained until explicitly closed and may consume too much memory. (To control this warning, see the rcParam `figure.max_open_warning`).\n",
      "  max_open_warning, RuntimeWarning)\n",
      "/anaconda/lib/python3.6/site-packages/matplotlib/pyplot.py:524: RuntimeWarning: More than 20 figures have been opened. Figures created through the pyplot interface (`matplotlib.pyplot.figure`) are retained until explicitly closed and may consume too much memory. (To control this warning, see the rcParam `figure.max_open_warning`).\n",
      "  max_open_warning, RuntimeWarning)\n",
      "/anaconda/lib/python3.6/site-packages/matplotlib/pyplot.py:524: RuntimeWarning: More than 20 figures have been opened. Figures created through the pyplot interface (`matplotlib.pyplot.figure`) are retained until explicitly closed and may consume too much memory. (To control this warning, see the rcParam `figure.max_open_warning`).\n",
      "  max_open_warning, RuntimeWarning)\n",
      "/anaconda/lib/python3.6/site-packages/matplotlib/pyplot.py:524: RuntimeWarning: More than 20 figures have been opened. Figures created through the pyplot interface (`matplotlib.pyplot.figure`) are retained until explicitly closed and may consume too much memory. (To control this warning, see the rcParam `figure.max_open_warning`).\n",
      "  max_open_warning, RuntimeWarning)\n",
      "/anaconda/lib/python3.6/site-packages/matplotlib/pyplot.py:524: RuntimeWarning: More than 20 figures have been opened. Figures created through the pyplot interface (`matplotlib.pyplot.figure`) are retained until explicitly closed and may consume too much memory. (To control this warning, see the rcParam `figure.max_open_warning`).\n",
      "  max_open_warning, RuntimeWarning)\n",
      "/anaconda/lib/python3.6/site-packages/matplotlib/pyplot.py:524: RuntimeWarning: More than 20 figures have been opened. Figures created through the pyplot interface (`matplotlib.pyplot.figure`) are retained until explicitly closed and may consume too much memory. (To control this warning, see the rcParam `figure.max_open_warning`).\n",
      "  max_open_warning, RuntimeWarning)\n",
      "/anaconda/lib/python3.6/site-packages/matplotlib/pyplot.py:524: RuntimeWarning: More than 20 figures have been opened. Figures created through the pyplot interface (`matplotlib.pyplot.figure`) are retained until explicitly closed and may consume too much memory. (To control this warning, see the rcParam `figure.max_open_warning`).\n",
      "  max_open_warning, RuntimeWarning)\n",
      "/anaconda/lib/python3.6/site-packages/matplotlib/pyplot.py:524: RuntimeWarning: More than 20 figures have been opened. Figures created through the pyplot interface (`matplotlib.pyplot.figure`) are retained until explicitly closed and may consume too much memory. (To control this warning, see the rcParam `figure.max_open_warning`).\n",
      "  max_open_warning, RuntimeWarning)\n",
      "/anaconda/lib/python3.6/site-packages/matplotlib/pyplot.py:524: RuntimeWarning: More than 20 figures have been opened. Figures created through the pyplot interface (`matplotlib.pyplot.figure`) are retained until explicitly closed and may consume too much memory. (To control this warning, see the rcParam `figure.max_open_warning`).\n",
      "  max_open_warning, RuntimeWarning)\n",
      "/anaconda/lib/python3.6/site-packages/matplotlib/pyplot.py:524: RuntimeWarning: More than 20 figures have been opened. Figures created through the pyplot interface (`matplotlib.pyplot.figure`) are retained until explicitly closed and may consume too much memory. (To control this warning, see the rcParam `figure.max_open_warning`).\n",
      "  max_open_warning, RuntimeWarning)\n",
      "/anaconda/lib/python3.6/site-packages/matplotlib/pyplot.py:524: RuntimeWarning: More than 20 figures have been opened. Figures created through the pyplot interface (`matplotlib.pyplot.figure`) are retained until explicitly closed and may consume too much memory. (To control this warning, see the rcParam `figure.max_open_warning`).\n",
      "  max_open_warning, RuntimeWarning)\n",
      "/anaconda/lib/python3.6/site-packages/matplotlib/pyplot.py:524: RuntimeWarning: More than 20 figures have been opened. Figures created through the pyplot interface (`matplotlib.pyplot.figure`) are retained until explicitly closed and may consume too much memory. (To control this warning, see the rcParam `figure.max_open_warning`).\n",
      "  max_open_warning, RuntimeWarning)\n",
      "/anaconda/lib/python3.6/site-packages/matplotlib/pyplot.py:524: RuntimeWarning: More than 20 figures have been opened. Figures created through the pyplot interface (`matplotlib.pyplot.figure`) are retained until explicitly closed and may consume too much memory. (To control this warning, see the rcParam `figure.max_open_warning`).\n",
      "  max_open_warning, RuntimeWarning)\n",
      "/anaconda/lib/python3.6/site-packages/matplotlib/pyplot.py:524: RuntimeWarning: More than 20 figures have been opened. Figures created through the pyplot interface (`matplotlib.pyplot.figure`) are retained until explicitly closed and may consume too much memory. (To control this warning, see the rcParam `figure.max_open_warning`).\n",
      "  max_open_warning, RuntimeWarning)\n",
      "/anaconda/lib/python3.6/site-packages/matplotlib/pyplot.py:524: RuntimeWarning: More than 20 figures have been opened. Figures created through the pyplot interface (`matplotlib.pyplot.figure`) are retained until explicitly closed and may consume too much memory. (To control this warning, see the rcParam `figure.max_open_warning`).\n",
      "  max_open_warning, RuntimeWarning)\n",
      "/anaconda/lib/python3.6/site-packages/matplotlib/pyplot.py:524: RuntimeWarning: More than 20 figures have been opened. Figures created through the pyplot interface (`matplotlib.pyplot.figure`) are retained until explicitly closed and may consume too much memory. (To control this warning, see the rcParam `figure.max_open_warning`).\n",
      "  max_open_warning, RuntimeWarning)\n",
      "/anaconda/lib/python3.6/site-packages/matplotlib/pyplot.py:524: RuntimeWarning: More than 20 figures have been opened. Figures created through the pyplot interface (`matplotlib.pyplot.figure`) are retained until explicitly closed and may consume too much memory. (To control this warning, see the rcParam `figure.max_open_warning`).\n",
      "  max_open_warning, RuntimeWarning)\n",
      "/anaconda/lib/python3.6/site-packages/matplotlib/pyplot.py:524: RuntimeWarning: More than 20 figures have been opened. Figures created through the pyplot interface (`matplotlib.pyplot.figure`) are retained until explicitly closed and may consume too much memory. (To control this warning, see the rcParam `figure.max_open_warning`).\n",
      "  max_open_warning, RuntimeWarning)\n",
      "/anaconda/lib/python3.6/site-packages/matplotlib/pyplot.py:524: RuntimeWarning: More than 20 figures have been opened. Figures created through the pyplot interface (`matplotlib.pyplot.figure`) are retained until explicitly closed and may consume too much memory. (To control this warning, see the rcParam `figure.max_open_warning`).\n",
      "  max_open_warning, RuntimeWarning)\n",
      "/anaconda/lib/python3.6/site-packages/matplotlib/pyplot.py:524: RuntimeWarning: More than 20 figures have been opened. Figures created through the pyplot interface (`matplotlib.pyplot.figure`) are retained until explicitly closed and may consume too much memory. (To control this warning, see the rcParam `figure.max_open_warning`).\n",
      "  max_open_warning, RuntimeWarning)\n",
      "/anaconda/lib/python3.6/site-packages/matplotlib/pyplot.py:524: RuntimeWarning: More than 20 figures have been opened. Figures created through the pyplot interface (`matplotlib.pyplot.figure`) are retained until explicitly closed and may consume too much memory. (To control this warning, see the rcParam `figure.max_open_warning`).\n",
      "  max_open_warning, RuntimeWarning)\n",
      "/anaconda/lib/python3.6/site-packages/matplotlib/pyplot.py:524: RuntimeWarning: More than 20 figures have been opened. Figures created through the pyplot interface (`matplotlib.pyplot.figure`) are retained until explicitly closed and may consume too much memory. (To control this warning, see the rcParam `figure.max_open_warning`).\n",
      "  max_open_warning, RuntimeWarning)\n",
      "/anaconda/lib/python3.6/site-packages/matplotlib/pyplot.py:524: RuntimeWarning: More than 20 figures have been opened. Figures created through the pyplot interface (`matplotlib.pyplot.figure`) are retained until explicitly closed and may consume too much memory. (To control this warning, see the rcParam `figure.max_open_warning`).\n",
      "  max_open_warning, RuntimeWarning)\n",
      "/anaconda/lib/python3.6/site-packages/matplotlib/pyplot.py:524: RuntimeWarning: More than 20 figures have been opened. Figures created through the pyplot interface (`matplotlib.pyplot.figure`) are retained until explicitly closed and may consume too much memory. (To control this warning, see the rcParam `figure.max_open_warning`).\n",
      "  max_open_warning, RuntimeWarning)\n",
      "/anaconda/lib/python3.6/site-packages/matplotlib/pyplot.py:524: RuntimeWarning: More than 20 figures have been opened. Figures created through the pyplot interface (`matplotlib.pyplot.figure`) are retained until explicitly closed and may consume too much memory. (To control this warning, see the rcParam `figure.max_open_warning`).\n",
      "  max_open_warning, RuntimeWarning)\n",
      "/anaconda/lib/python3.6/site-packages/matplotlib/pyplot.py:524: RuntimeWarning: More than 20 figures have been opened. Figures created through the pyplot interface (`matplotlib.pyplot.figure`) are retained until explicitly closed and may consume too much memory. (To control this warning, see the rcParam `figure.max_open_warning`).\n",
      "  max_open_warning, RuntimeWarning)\n",
      "/anaconda/lib/python3.6/site-packages/matplotlib/pyplot.py:524: RuntimeWarning: More than 20 figures have been opened. Figures created through the pyplot interface (`matplotlib.pyplot.figure`) are retained until explicitly closed and may consume too much memory. (To control this warning, see the rcParam `figure.max_open_warning`).\n",
      "  max_open_warning, RuntimeWarning)\n"
     ]
    },
    {
     "name": "stdout",
     "output_type": "stream",
     "text": [
      "KNN\n"
     ]
    },
    {
     "name": "stderr",
     "output_type": "stream",
     "text": [
      "/anaconda/lib/python3.6/site-packages/matplotlib/pyplot.py:524: RuntimeWarning: More than 20 figures have been opened. Figures created through the pyplot interface (`matplotlib.pyplot.figure`) are retained until explicitly closed and may consume too much memory. (To control this warning, see the rcParam `figure.max_open_warning`).\n",
      "  max_open_warning, RuntimeWarning)\n",
      "/anaconda/lib/python3.6/site-packages/matplotlib/pyplot.py:524: RuntimeWarning: More than 20 figures have been opened. Figures created through the pyplot interface (`matplotlib.pyplot.figure`) are retained until explicitly closed and may consume too much memory. (To control this warning, see the rcParam `figure.max_open_warning`).\n",
      "  max_open_warning, RuntimeWarning)\n",
      "/anaconda/lib/python3.6/site-packages/matplotlib/pyplot.py:524: RuntimeWarning: More than 20 figures have been opened. Figures created through the pyplot interface (`matplotlib.pyplot.figure`) are retained until explicitly closed and may consume too much memory. (To control this warning, see the rcParam `figure.max_open_warning`).\n",
      "  max_open_warning, RuntimeWarning)\n",
      "/anaconda/lib/python3.6/site-packages/matplotlib/pyplot.py:524: RuntimeWarning: More than 20 figures have been opened. Figures created through the pyplot interface (`matplotlib.pyplot.figure`) are retained until explicitly closed and may consume too much memory. (To control this warning, see the rcParam `figure.max_open_warning`).\n",
      "  max_open_warning, RuntimeWarning)\n",
      "/anaconda/lib/python3.6/site-packages/matplotlib/pyplot.py:524: RuntimeWarning: More than 20 figures have been opened. Figures created through the pyplot interface (`matplotlib.pyplot.figure`) are retained until explicitly closed and may consume too much memory. (To control this warning, see the rcParam `figure.max_open_warning`).\n",
      "  max_open_warning, RuntimeWarning)\n",
      "/anaconda/lib/python3.6/site-packages/matplotlib/pyplot.py:524: RuntimeWarning: More than 20 figures have been opened. Figures created through the pyplot interface (`matplotlib.pyplot.figure`) are retained until explicitly closed and may consume too much memory. (To control this warning, see the rcParam `figure.max_open_warning`).\n",
      "  max_open_warning, RuntimeWarning)\n",
      "/anaconda/lib/python3.6/site-packages/matplotlib/pyplot.py:524: RuntimeWarning: More than 20 figures have been opened. Figures created through the pyplot interface (`matplotlib.pyplot.figure`) are retained until explicitly closed and may consume too much memory. (To control this warning, see the rcParam `figure.max_open_warning`).\n",
      "  max_open_warning, RuntimeWarning)\n",
      "/anaconda/lib/python3.6/site-packages/matplotlib/pyplot.py:524: RuntimeWarning: More than 20 figures have been opened. Figures created through the pyplot interface (`matplotlib.pyplot.figure`) are retained until explicitly closed and may consume too much memory. (To control this warning, see the rcParam `figure.max_open_warning`).\n",
      "  max_open_warning, RuntimeWarning)\n",
      "/anaconda/lib/python3.6/site-packages/matplotlib/pyplot.py:524: RuntimeWarning: More than 20 figures have been opened. Figures created through the pyplot interface (`matplotlib.pyplot.figure`) are retained until explicitly closed and may consume too much memory. (To control this warning, see the rcParam `figure.max_open_warning`).\n",
      "  max_open_warning, RuntimeWarning)\n",
      "/anaconda/lib/python3.6/site-packages/matplotlib/pyplot.py:524: RuntimeWarning: More than 20 figures have been opened. Figures created through the pyplot interface (`matplotlib.pyplot.figure`) are retained until explicitly closed and may consume too much memory. (To control this warning, see the rcParam `figure.max_open_warning`).\n",
      "  max_open_warning, RuntimeWarning)\n",
      "/anaconda/lib/python3.6/site-packages/matplotlib/pyplot.py:524: RuntimeWarning: More than 20 figures have been opened. Figures created through the pyplot interface (`matplotlib.pyplot.figure`) are retained until explicitly closed and may consume too much memory. (To control this warning, see the rcParam `figure.max_open_warning`).\n",
      "  max_open_warning, RuntimeWarning)\n",
      "/anaconda/lib/python3.6/site-packages/matplotlib/pyplot.py:524: RuntimeWarning: More than 20 figures have been opened. Figures created through the pyplot interface (`matplotlib.pyplot.figure`) are retained until explicitly closed and may consume too much memory. (To control this warning, see the rcParam `figure.max_open_warning`).\n",
      "  max_open_warning, RuntimeWarning)\n",
      "/anaconda/lib/python3.6/site-packages/matplotlib/pyplot.py:524: RuntimeWarning: More than 20 figures have been opened. Figures created through the pyplot interface (`matplotlib.pyplot.figure`) are retained until explicitly closed and may consume too much memory. (To control this warning, see the rcParam `figure.max_open_warning`).\n",
      "  max_open_warning, RuntimeWarning)\n",
      "/anaconda/lib/python3.6/site-packages/matplotlib/pyplot.py:524: RuntimeWarning: More than 20 figures have been opened. Figures created through the pyplot interface (`matplotlib.pyplot.figure`) are retained until explicitly closed and may consume too much memory. (To control this warning, see the rcParam `figure.max_open_warning`).\n",
      "  max_open_warning, RuntimeWarning)\n",
      "/anaconda/lib/python3.6/site-packages/matplotlib/pyplot.py:524: RuntimeWarning: More than 20 figures have been opened. Figures created through the pyplot interface (`matplotlib.pyplot.figure`) are retained until explicitly closed and may consume too much memory. (To control this warning, see the rcParam `figure.max_open_warning`).\n",
      "  max_open_warning, RuntimeWarning)\n",
      "/anaconda/lib/python3.6/site-packages/matplotlib/pyplot.py:524: RuntimeWarning: More than 20 figures have been opened. Figures created through the pyplot interface (`matplotlib.pyplot.figure`) are retained until explicitly closed and may consume too much memory. (To control this warning, see the rcParam `figure.max_open_warning`).\n",
      "  max_open_warning, RuntimeWarning)\n",
      "/anaconda/lib/python3.6/site-packages/matplotlib/pyplot.py:524: RuntimeWarning: More than 20 figures have been opened. Figures created through the pyplot interface (`matplotlib.pyplot.figure`) are retained until explicitly closed and may consume too much memory. (To control this warning, see the rcParam `figure.max_open_warning`).\n",
      "  max_open_warning, RuntimeWarning)\n",
      "/anaconda/lib/python3.6/site-packages/matplotlib/pyplot.py:524: RuntimeWarning: More than 20 figures have been opened. Figures created through the pyplot interface (`matplotlib.pyplot.figure`) are retained until explicitly closed and may consume too much memory. (To control this warning, see the rcParam `figure.max_open_warning`).\n",
      "  max_open_warning, RuntimeWarning)\n",
      "/anaconda/lib/python3.6/site-packages/matplotlib/pyplot.py:524: RuntimeWarning: More than 20 figures have been opened. Figures created through the pyplot interface (`matplotlib.pyplot.figure`) are retained until explicitly closed and may consume too much memory. (To control this warning, see the rcParam `figure.max_open_warning`).\n",
      "  max_open_warning, RuntimeWarning)\n",
      "/anaconda/lib/python3.6/site-packages/matplotlib/pyplot.py:524: RuntimeWarning: More than 20 figures have been opened. Figures created through the pyplot interface (`matplotlib.pyplot.figure`) are retained until explicitly closed and may consume too much memory. (To control this warning, see the rcParam `figure.max_open_warning`).\n",
      "  max_open_warning, RuntimeWarning)\n",
      "/anaconda/lib/python3.6/site-packages/matplotlib/pyplot.py:524: RuntimeWarning: More than 20 figures have been opened. Figures created through the pyplot interface (`matplotlib.pyplot.figure`) are retained until explicitly closed and may consume too much memory. (To control this warning, see the rcParam `figure.max_open_warning`).\n",
      "  max_open_warning, RuntimeWarning)\n",
      "/anaconda/lib/python3.6/site-packages/matplotlib/pyplot.py:524: RuntimeWarning: More than 20 figures have been opened. Figures created through the pyplot interface (`matplotlib.pyplot.figure`) are retained until explicitly closed and may consume too much memory. (To control this warning, see the rcParam `figure.max_open_warning`).\n",
      "  max_open_warning, RuntimeWarning)\n",
      "/anaconda/lib/python3.6/site-packages/matplotlib/pyplot.py:524: RuntimeWarning: More than 20 figures have been opened. Figures created through the pyplot interface (`matplotlib.pyplot.figure`) are retained until explicitly closed and may consume too much memory. (To control this warning, see the rcParam `figure.max_open_warning`).\n",
      "  max_open_warning, RuntimeWarning)\n",
      "/anaconda/lib/python3.6/site-packages/matplotlib/pyplot.py:524: RuntimeWarning: More than 20 figures have been opened. Figures created through the pyplot interface (`matplotlib.pyplot.figure`) are retained until explicitly closed and may consume too much memory. (To control this warning, see the rcParam `figure.max_open_warning`).\n",
      "  max_open_warning, RuntimeWarning)\n",
      "/anaconda/lib/python3.6/site-packages/matplotlib/pyplot.py:524: RuntimeWarning: More than 20 figures have been opened. Figures created through the pyplot interface (`matplotlib.pyplot.figure`) are retained until explicitly closed and may consume too much memory. (To control this warning, see the rcParam `figure.max_open_warning`).\n",
      "  max_open_warning, RuntimeWarning)\n",
      "/anaconda/lib/python3.6/site-packages/matplotlib/pyplot.py:524: RuntimeWarning: More than 20 figures have been opened. Figures created through the pyplot interface (`matplotlib.pyplot.figure`) are retained until explicitly closed and may consume too much memory. (To control this warning, see the rcParam `figure.max_open_warning`).\n",
      "  max_open_warning, RuntimeWarning)\n",
      "/anaconda/lib/python3.6/site-packages/matplotlib/pyplot.py:524: RuntimeWarning: More than 20 figures have been opened. Figures created through the pyplot interface (`matplotlib.pyplot.figure`) are retained until explicitly closed and may consume too much memory. (To control this warning, see the rcParam `figure.max_open_warning`).\n",
      "  max_open_warning, RuntimeWarning)\n",
      "/anaconda/lib/python3.6/site-packages/matplotlib/pyplot.py:524: RuntimeWarning: More than 20 figures have been opened. Figures created through the pyplot interface (`matplotlib.pyplot.figure`) are retained until explicitly closed and may consume too much memory. (To control this warning, see the rcParam `figure.max_open_warning`).\n",
      "  max_open_warning, RuntimeWarning)\n",
      "/anaconda/lib/python3.6/site-packages/matplotlib/pyplot.py:524: RuntimeWarning: More than 20 figures have been opened. Figures created through the pyplot interface (`matplotlib.pyplot.figure`) are retained until explicitly closed and may consume too much memory. (To control this warning, see the rcParam `figure.max_open_warning`).\n",
      "  max_open_warning, RuntimeWarning)\n",
      "/anaconda/lib/python3.6/site-packages/matplotlib/pyplot.py:524: RuntimeWarning: More than 20 figures have been opened. Figures created through the pyplot interface (`matplotlib.pyplot.figure`) are retained until explicitly closed and may consume too much memory. (To control this warning, see the rcParam `figure.max_open_warning`).\n",
      "  max_open_warning, RuntimeWarning)\n",
      "/anaconda/lib/python3.6/site-packages/matplotlib/pyplot.py:524: RuntimeWarning: More than 20 figures have been opened. Figures created through the pyplot interface (`matplotlib.pyplot.figure`) are retained until explicitly closed and may consume too much memory. (To control this warning, see the rcParam `figure.max_open_warning`).\n",
      "  max_open_warning, RuntimeWarning)\n",
      "/anaconda/lib/python3.6/site-packages/matplotlib/pyplot.py:524: RuntimeWarning: More than 20 figures have been opened. Figures created through the pyplot interface (`matplotlib.pyplot.figure`) are retained until explicitly closed and may consume too much memory. (To control this warning, see the rcParam `figure.max_open_warning`).\n",
      "  max_open_warning, RuntimeWarning)\n",
      "/anaconda/lib/python3.6/site-packages/matplotlib/pyplot.py:524: RuntimeWarning: More than 20 figures have been opened. Figures created through the pyplot interface (`matplotlib.pyplot.figure`) are retained until explicitly closed and may consume too much memory. (To control this warning, see the rcParam `figure.max_open_warning`).\n",
      "  max_open_warning, RuntimeWarning)\n",
      "/anaconda/lib/python3.6/site-packages/matplotlib/pyplot.py:524: RuntimeWarning: More than 20 figures have been opened. Figures created through the pyplot interface (`matplotlib.pyplot.figure`) are retained until explicitly closed and may consume too much memory. (To control this warning, see the rcParam `figure.max_open_warning`).\n",
      "  max_open_warning, RuntimeWarning)\n",
      "/anaconda/lib/python3.6/site-packages/matplotlib/pyplot.py:524: RuntimeWarning: More than 20 figures have been opened. Figures created through the pyplot interface (`matplotlib.pyplot.figure`) are retained until explicitly closed and may consume too much memory. (To control this warning, see the rcParam `figure.max_open_warning`).\n",
      "  max_open_warning, RuntimeWarning)\n",
      "/anaconda/lib/python3.6/site-packages/matplotlib/pyplot.py:524: RuntimeWarning: More than 20 figures have been opened. Figures created through the pyplot interface (`matplotlib.pyplot.figure`) are retained until explicitly closed and may consume too much memory. (To control this warning, see the rcParam `figure.max_open_warning`).\n",
      "  max_open_warning, RuntimeWarning)\n"
     ]
    },
    {
     "name": "stdout",
     "output_type": "stream",
     "text": [
      "AB\n"
     ]
    },
    {
     "name": "stderr",
     "output_type": "stream",
     "text": [
      "/anaconda/lib/python3.6/site-packages/sklearn/metrics/classification.py:1113: UndefinedMetricWarning: F-score is ill-defined and being set to 0.0 due to no predicted samples.\n",
      "  'precision', 'predicted', average, warn_for)\n",
      "/anaconda/lib/python3.6/site-packages/sklearn/metrics/classification.py:1113: UndefinedMetricWarning: Precision is ill-defined and being set to 0.0 due to no predicted samples.\n",
      "  'precision', 'predicted', average, warn_for)\n",
      "/anaconda/lib/python3.6/site-packages/matplotlib/pyplot.py:524: RuntimeWarning: More than 20 figures have been opened. Figures created through the pyplot interface (`matplotlib.pyplot.figure`) are retained until explicitly closed and may consume too much memory. (To control this warning, see the rcParam `figure.max_open_warning`).\n",
      "  max_open_warning, RuntimeWarning)\n",
      "/anaconda/lib/python3.6/site-packages/sklearn/metrics/classification.py:1113: UndefinedMetricWarning: F-score is ill-defined and being set to 0.0 due to no predicted samples.\n",
      "  'precision', 'predicted', average, warn_for)\n",
      "/anaconda/lib/python3.6/site-packages/sklearn/metrics/classification.py:1113: UndefinedMetricWarning: Precision is ill-defined and being set to 0.0 due to no predicted samples.\n",
      "  'precision', 'predicted', average, warn_for)\n",
      "/anaconda/lib/python3.6/site-packages/matplotlib/pyplot.py:524: RuntimeWarning: More than 20 figures have been opened. Figures created through the pyplot interface (`matplotlib.pyplot.figure`) are retained until explicitly closed and may consume too much memory. (To control this warning, see the rcParam `figure.max_open_warning`).\n",
      "  max_open_warning, RuntimeWarning)\n",
      "/anaconda/lib/python3.6/site-packages/matplotlib/pyplot.py:524: RuntimeWarning: More than 20 figures have been opened. Figures created through the pyplot interface (`matplotlib.pyplot.figure`) are retained until explicitly closed and may consume too much memory. (To control this warning, see the rcParam `figure.max_open_warning`).\n",
      "  max_open_warning, RuntimeWarning)\n",
      "/anaconda/lib/python3.6/site-packages/matplotlib/pyplot.py:524: RuntimeWarning: More than 20 figures have been opened. Figures created through the pyplot interface (`matplotlib.pyplot.figure`) are retained until explicitly closed and may consume too much memory. (To control this warning, see the rcParam `figure.max_open_warning`).\n",
      "  max_open_warning, RuntimeWarning)\n",
      "/anaconda/lib/python3.6/site-packages/matplotlib/pyplot.py:524: RuntimeWarning: More than 20 figures have been opened. Figures created through the pyplot interface (`matplotlib.pyplot.figure`) are retained until explicitly closed and may consume too much memory. (To control this warning, see the rcParam `figure.max_open_warning`).\n",
      "  max_open_warning, RuntimeWarning)\n",
      "/anaconda/lib/python3.6/site-packages/sklearn/metrics/classification.py:1113: UndefinedMetricWarning: F-score is ill-defined and being set to 0.0 due to no predicted samples.\n",
      "  'precision', 'predicted', average, warn_for)\n",
      "/anaconda/lib/python3.6/site-packages/sklearn/metrics/classification.py:1113: UndefinedMetricWarning: Precision is ill-defined and being set to 0.0 due to no predicted samples.\n",
      "  'precision', 'predicted', average, warn_for)\n",
      "/anaconda/lib/python3.6/site-packages/matplotlib/pyplot.py:524: RuntimeWarning: More than 20 figures have been opened. Figures created through the pyplot interface (`matplotlib.pyplot.figure`) are retained until explicitly closed and may consume too much memory. (To control this warning, see the rcParam `figure.max_open_warning`).\n",
      "  max_open_warning, RuntimeWarning)\n",
      "/anaconda/lib/python3.6/site-packages/matplotlib/pyplot.py:524: RuntimeWarning: More than 20 figures have been opened. Figures created through the pyplot interface (`matplotlib.pyplot.figure`) are retained until explicitly closed and may consume too much memory. (To control this warning, see the rcParam `figure.max_open_warning`).\n",
      "  max_open_warning, RuntimeWarning)\n",
      "/anaconda/lib/python3.6/site-packages/matplotlib/pyplot.py:524: RuntimeWarning: More than 20 figures have been opened. Figures created through the pyplot interface (`matplotlib.pyplot.figure`) are retained until explicitly closed and may consume too much memory. (To control this warning, see the rcParam `figure.max_open_warning`).\n",
      "  max_open_warning, RuntimeWarning)\n",
      "/anaconda/lib/python3.6/site-packages/matplotlib/pyplot.py:524: RuntimeWarning: More than 20 figures have been opened. Figures created through the pyplot interface (`matplotlib.pyplot.figure`) are retained until explicitly closed and may consume too much memory. (To control this warning, see the rcParam `figure.max_open_warning`).\n",
      "  max_open_warning, RuntimeWarning)\n",
      "/anaconda/lib/python3.6/site-packages/matplotlib/pyplot.py:524: RuntimeWarning: More than 20 figures have been opened. Figures created through the pyplot interface (`matplotlib.pyplot.figure`) are retained until explicitly closed and may consume too much memory. (To control this warning, see the rcParam `figure.max_open_warning`).\n",
      "  max_open_warning, RuntimeWarning)\n"
     ]
    },
    {
     "name": "stdout",
     "output_type": "stream",
     "text": [
      "BAG\n"
     ]
    },
    {
     "name": "stderr",
     "output_type": "stream",
     "text": [
      "/anaconda/lib/python3.6/site-packages/sklearn/metrics/classification.py:1113: UndefinedMetricWarning: F-score is ill-defined and being set to 0.0 due to no predicted samples.\n",
      "  'precision', 'predicted', average, warn_for)\n",
      "/anaconda/lib/python3.6/site-packages/sklearn/metrics/classification.py:1113: UndefinedMetricWarning: Precision is ill-defined and being set to 0.0 due to no predicted samples.\n",
      "  'precision', 'predicted', average, warn_for)\n",
      "/anaconda/lib/python3.6/site-packages/matplotlib/pyplot.py:524: RuntimeWarning: More than 20 figures have been opened. Figures created through the pyplot interface (`matplotlib.pyplot.figure`) are retained until explicitly closed and may consume too much memory. (To control this warning, see the rcParam `figure.max_open_warning`).\n",
      "  max_open_warning, RuntimeWarning)\n",
      "/anaconda/lib/python3.6/site-packages/matplotlib/pyplot.py:524: RuntimeWarning: More than 20 figures have been opened. Figures created through the pyplot interface (`matplotlib.pyplot.figure`) are retained until explicitly closed and may consume too much memory. (To control this warning, see the rcParam `figure.max_open_warning`).\n",
      "  max_open_warning, RuntimeWarning)\n",
      "/anaconda/lib/python3.6/site-packages/sklearn/metrics/classification.py:1113: UndefinedMetricWarning: F-score is ill-defined and being set to 0.0 due to no predicted samples.\n",
      "  'precision', 'predicted', average, warn_for)\n",
      "/anaconda/lib/python3.6/site-packages/sklearn/metrics/classification.py:1113: UndefinedMetricWarning: Precision is ill-defined and being set to 0.0 due to no predicted samples.\n",
      "  'precision', 'predicted', average, warn_for)\n",
      "/anaconda/lib/python3.6/site-packages/matplotlib/pyplot.py:524: RuntimeWarning: More than 20 figures have been opened. Figures created through the pyplot interface (`matplotlib.pyplot.figure`) are retained until explicitly closed and may consume too much memory. (To control this warning, see the rcParam `figure.max_open_warning`).\n",
      "  max_open_warning, RuntimeWarning)\n",
      "/anaconda/lib/python3.6/site-packages/sklearn/metrics/classification.py:1113: UndefinedMetricWarning: F-score is ill-defined and being set to 0.0 due to no predicted samples.\n",
      "  'precision', 'predicted', average, warn_for)\n",
      "/anaconda/lib/python3.6/site-packages/sklearn/metrics/classification.py:1113: UndefinedMetricWarning: Precision is ill-defined and being set to 0.0 due to no predicted samples.\n",
      "  'precision', 'predicted', average, warn_for)\n",
      "/anaconda/lib/python3.6/site-packages/matplotlib/pyplot.py:524: RuntimeWarning: More than 20 figures have been opened. Figures created through the pyplot interface (`matplotlib.pyplot.figure`) are retained until explicitly closed and may consume too much memory. (To control this warning, see the rcParam `figure.max_open_warning`).\n",
      "  max_open_warning, RuntimeWarning)\n"
     ]
    },
    {
     "data": {
      "text/html": [
       "<div>\n",
       "<table border=\"1\" class=\"dataframe\">\n",
       "  <thead>\n",
       "    <tr style=\"text-align: right;\">\n",
       "      <th></th>\n",
       "      <th>model_type</th>\n",
       "      <th>clf</th>\n",
       "      <th>parameters</th>\n",
       "      <th>train_time</th>\n",
       "      <th>test_time</th>\n",
       "      <th>accuracy</th>\n",
       "      <th>f1_score</th>\n",
       "      <th>precision</th>\n",
       "      <th>recall</th>\n",
       "      <th>auc</th>\n",
       "      <th>p_at_5</th>\n",
       "      <th>p_at_10</th>\n",
       "      <th>p_at_20</th>\n",
       "      <th>r_at_5</th>\n",
       "      <th>r_at_10</th>\n",
       "      <th>r_at_20</th>\n",
       "    </tr>\n",
       "  </thead>\n",
       "  <tbody>\n",
       "    <tr>\n",
       "      <th>0</th>\n",
       "      <td>RF</td>\n",
       "      <td>(DecisionTreeClassifier(class_weight=None, cri...</td>\n",
       "      <td>{'max_depth': 5, 'max_features': 'sqrt', 'min_...</td>\n",
       "      <td>0.672108</td>\n",
       "      <td>0.107386</td>\n",
       "      <td>0.934187</td>\n",
       "      <td>0.193464</td>\n",
       "      <td>0.576998</td>\n",
       "      <td>0.116215</td>\n",
       "      <td>0.555003</td>\n",
       "      <td>0.442133</td>\n",
       "      <td>0.326933</td>\n",
       "      <td>0.221067</td>\n",
       "      <td>0.325481</td>\n",
       "      <td>0.481351</td>\n",
       "      <td>0.650962</td>\n",
       "    </tr>\n",
       "    <tr>\n",
       "      <th>1</th>\n",
       "      <td>RF</td>\n",
       "      <td>(DecisionTreeClassifier(class_weight=None, cri...</td>\n",
       "      <td>{'max_depth': 5, 'max_features': 'sqrt', 'min_...</td>\n",
       "      <td>5.291078</td>\n",
       "      <td>0.227809</td>\n",
       "      <td>0.934560</td>\n",
       "      <td>0.174293</td>\n",
       "      <td>0.609412</td>\n",
       "      <td>0.101688</td>\n",
       "      <td>0.548470</td>\n",
       "      <td>0.442667</td>\n",
       "      <td>0.324800</td>\n",
       "      <td>0.222667</td>\n",
       "      <td>0.325874</td>\n",
       "      <td>0.478210</td>\n",
       "      <td>0.655673</td>\n",
       "    </tr>\n",
       "    <tr>\n",
       "      <th>2</th>\n",
       "      <td>RF</td>\n",
       "      <td>(DecisionTreeClassifier(class_weight=None, cri...</td>\n",
       "      <td>{'max_depth': 5, 'max_features': 'sqrt', 'min_...</td>\n",
       "      <td>0.534235</td>\n",
       "      <td>0.107933</td>\n",
       "      <td>0.934560</td>\n",
       "      <td>0.203764</td>\n",
       "      <td>0.586916</td>\n",
       "      <td>0.123282</td>\n",
       "      <td>0.558480</td>\n",
       "      <td>0.446933</td>\n",
       "      <td>0.320800</td>\n",
       "      <td>0.221200</td>\n",
       "      <td>0.329015</td>\n",
       "      <td>0.472320</td>\n",
       "      <td>0.651355</td>\n",
       "    </tr>\n",
       "    <tr>\n",
       "      <th>3</th>\n",
       "      <td>RF</td>\n",
       "      <td>(DecisionTreeClassifier(class_weight=None, cri...</td>\n",
       "      <td>{'max_depth': 5, 'max_features': 'sqrt', 'min_...</td>\n",
       "      <td>5.182057</td>\n",
       "      <td>0.224994</td>\n",
       "      <td>0.934453</td>\n",
       "      <td>0.179573</td>\n",
       "      <td>0.599109</td>\n",
       "      <td>0.105614</td>\n",
       "      <td>0.550232</td>\n",
       "      <td>0.440533</td>\n",
       "      <td>0.323733</td>\n",
       "      <td>0.223333</td>\n",
       "      <td>0.324303</td>\n",
       "      <td>0.476639</td>\n",
       "      <td>0.657636</td>\n",
       "    </tr>\n",
       "    <tr>\n",
       "      <th>4</th>\n",
       "      <td>RF</td>\n",
       "      <td>(DecisionTreeClassifier(class_weight=None, cri...</td>\n",
       "      <td>{'max_depth': 5, 'max_features': 'log2', 'min_...</td>\n",
       "      <td>0.651213</td>\n",
       "      <td>0.108530</td>\n",
       "      <td>0.932960</td>\n",
       "      <td>0.071640</td>\n",
       "      <td>0.602484</td>\n",
       "      <td>0.038084</td>\n",
       "      <td>0.518126</td>\n",
       "      <td>0.441067</td>\n",
       "      <td>0.324000</td>\n",
       "      <td>0.221333</td>\n",
       "      <td>0.324696</td>\n",
       "      <td>0.477032</td>\n",
       "      <td>0.651747</td>\n",
       "    </tr>\n",
       "    <tr>\n",
       "      <th>5</th>\n",
       "      <td>RF</td>\n",
       "      <td>(DecisionTreeClassifier(class_weight=None, cri...</td>\n",
       "      <td>{'max_depth': 5, 'max_features': 'log2', 'min_...</td>\n",
       "      <td>5.270168</td>\n",
       "      <td>0.325451</td>\n",
       "      <td>0.934587</td>\n",
       "      <td>0.176016</td>\n",
       "      <td>0.609302</td>\n",
       "      <td>0.102866</td>\n",
       "      <td>0.549030</td>\n",
       "      <td>0.444267</td>\n",
       "      <td>0.326400</td>\n",
       "      <td>0.222800</td>\n",
       "      <td>0.327051</td>\n",
       "      <td>0.480565</td>\n",
       "      <td>0.656066</td>\n",
       "    </tr>\n",
       "    <tr>\n",
       "      <th>6</th>\n",
       "      <td>RF</td>\n",
       "      <td>(DecisionTreeClassifier(class_weight=None, cri...</td>\n",
       "      <td>{'max_depth': 5, 'max_features': 'log2', 'min_...</td>\n",
       "      <td>0.646718</td>\n",
       "      <td>0.110097</td>\n",
       "      <td>0.933840</td>\n",
       "      <td>0.167170</td>\n",
       "      <td>0.576389</td>\n",
       "      <td>0.097762</td>\n",
       "      <td>0.546263</td>\n",
       "      <td>0.445333</td>\n",
       "      <td>0.320533</td>\n",
       "      <td>0.222400</td>\n",
       "      <td>0.327837</td>\n",
       "      <td>0.471928</td>\n",
       "      <td>0.654888</td>\n",
       "    </tr>\n",
       "    <tr>\n",
       "      <th>7</th>\n",
       "      <td>RF</td>\n",
       "      <td>(DecisionTreeClassifier(class_weight=None, cri...</td>\n",
       "      <td>{'max_depth': 5, 'max_features': 'log2', 'min_...</td>\n",
       "      <td>5.179630</td>\n",
       "      <td>0.231905</td>\n",
       "      <td>0.934773</td>\n",
       "      <td>0.155387</td>\n",
       "      <td>0.644699</td>\n",
       "      <td>0.088339</td>\n",
       "      <td>0.542396</td>\n",
       "      <td>0.444267</td>\n",
       "      <td>0.323733</td>\n",
       "      <td>0.223067</td>\n",
       "      <td>0.327051</td>\n",
       "      <td>0.476639</td>\n",
       "      <td>0.656851</td>\n",
       "    </tr>\n",
       "    <tr>\n",
       "      <th>8</th>\n",
       "      <td>RF</td>\n",
       "      <td>(DecisionTreeClassifier(class_weight=None, cri...</td>\n",
       "      <td>{'max_depth': 50, 'max_features': 'sqrt', 'min...</td>\n",
       "      <td>1.584396</td>\n",
       "      <td>0.107834</td>\n",
       "      <td>0.930080</td>\n",
       "      <td>0.216378</td>\n",
       "      <td>0.453066</td>\n",
       "      <td>0.142128</td>\n",
       "      <td>0.564813</td>\n",
       "      <td>0.387200</td>\n",
       "      <td>0.338933</td>\n",
       "      <td>0.228400</td>\n",
       "      <td>0.285041</td>\n",
       "      <td>0.499018</td>\n",
       "      <td>0.672556</td>\n",
       "    </tr>\n",
       "    <tr>\n",
       "      <th>9</th>\n",
       "      <td>RF</td>\n",
       "      <td>(DecisionTreeClassifier(class_weight=None, cri...</td>\n",
       "      <td>{'max_depth': 50, 'max_features': 'sqrt', 'min...</td>\n",
       "      <td>14.235851</td>\n",
       "      <td>0.536350</td>\n",
       "      <td>0.932293</td>\n",
       "      <td>0.244570</td>\n",
       "      <td>0.504914</td>\n",
       "      <td>0.161366</td>\n",
       "      <td>0.574918</td>\n",
       "      <td>0.411200</td>\n",
       "      <td>0.300800</td>\n",
       "      <td>0.204800</td>\n",
       "      <td>0.302709</td>\n",
       "      <td>0.442874</td>\n",
       "      <td>0.603062</td>\n",
       "    </tr>\n",
       "    <tr>\n",
       "      <th>10</th>\n",
       "      <td>RF</td>\n",
       "      <td>(DecisionTreeClassifier(class_weight=None, cri...</td>\n",
       "      <td>{'max_depth': 50, 'max_features': 'sqrt', 'min...</td>\n",
       "      <td>1.485076</td>\n",
       "      <td>0.107382</td>\n",
       "      <td>0.931627</td>\n",
       "      <td>0.246326</td>\n",
       "      <td>0.490058</td>\n",
       "      <td>0.164507</td>\n",
       "      <td>0.576017</td>\n",
       "      <td>0.395200</td>\n",
       "      <td>0.289067</td>\n",
       "      <td>0.197867</td>\n",
       "      <td>0.290931</td>\n",
       "      <td>0.425599</td>\n",
       "      <td>0.582646</td>\n",
       "    </tr>\n",
       "    <tr>\n",
       "      <th>11</th>\n",
       "      <td>RF</td>\n",
       "      <td>(DecisionTreeClassifier(class_weight=None, cri...</td>\n",
       "      <td>{'max_depth': 50, 'max_features': 'sqrt', 'min...</td>\n",
       "      <td>13.612428</td>\n",
       "      <td>0.544288</td>\n",
       "      <td>0.933627</td>\n",
       "      <td>0.241852</td>\n",
       "      <td>0.539402</td>\n",
       "      <td>0.155870</td>\n",
       "      <td>0.573085</td>\n",
       "      <td>0.428800</td>\n",
       "      <td>0.305333</td>\n",
       "      <td>0.208667</td>\n",
       "      <td>0.315665</td>\n",
       "      <td>0.449548</td>\n",
       "      <td>0.614448</td>\n",
       "    </tr>\n",
       "    <tr>\n",
       "      <th>12</th>\n",
       "      <td>RF</td>\n",
       "      <td>(DecisionTreeClassifier(class_weight=None, cri...</td>\n",
       "      <td>{'max_depth': 50, 'max_features': 'log2', 'min...</td>\n",
       "      <td>1.588504</td>\n",
       "      <td>0.106359</td>\n",
       "      <td>0.931600</td>\n",
       "      <td>0.226711</td>\n",
       "      <td>0.488312</td>\n",
       "      <td>0.147625</td>\n",
       "      <td>0.568176</td>\n",
       "      <td>0.381867</td>\n",
       "      <td>0.331733</td>\n",
       "      <td>0.228533</td>\n",
       "      <td>0.281115</td>\n",
       "      <td>0.488418</td>\n",
       "      <td>0.672949</td>\n",
       "    </tr>\n",
       "    <tr>\n",
       "      <th>13</th>\n",
       "      <td>RF</td>\n",
       "      <td>(DecisionTreeClassifier(class_weight=None, cri...</td>\n",
       "      <td>{'max_depth': 50, 'max_features': 'log2', 'min...</td>\n",
       "      <td>14.761968</td>\n",
       "      <td>0.740183</td>\n",
       "      <td>0.932320</td>\n",
       "      <td>0.243743</td>\n",
       "      <td>0.505562</td>\n",
       "      <td>0.160581</td>\n",
       "      <td>0.574569</td>\n",
       "      <td>0.413333</td>\n",
       "      <td>0.298933</td>\n",
       "      <td>0.204400</td>\n",
       "      <td>0.304280</td>\n",
       "      <td>0.440126</td>\n",
       "      <td>0.601885</td>\n",
       "    </tr>\n",
       "    <tr>\n",
       "      <th>14</th>\n",
       "      <td>RF</td>\n",
       "      <td>(DecisionTreeClassifier(class_weight=None, cri...</td>\n",
       "      <td>{'max_depth': 50, 'max_features': 'log2', 'min...</td>\n",
       "      <td>1.602592</td>\n",
       "      <td>0.110832</td>\n",
       "      <td>0.933093</td>\n",
       "      <td>0.253940</td>\n",
       "      <td>0.523284</td>\n",
       "      <td>0.167648</td>\n",
       "      <td>0.578259</td>\n",
       "      <td>0.400000</td>\n",
       "      <td>0.290133</td>\n",
       "      <td>0.196533</td>\n",
       "      <td>0.294464</td>\n",
       "      <td>0.427169</td>\n",
       "      <td>0.578720</td>\n",
       "    </tr>\n",
       "    <tr>\n",
       "      <th>15</th>\n",
       "      <td>RF</td>\n",
       "      <td>(DecisionTreeClassifier(class_weight=None, cri...</td>\n",
       "      <td>{'max_depth': 50, 'max_features': 'log2', 'min...</td>\n",
       "      <td>14.202596</td>\n",
       "      <td>0.548700</td>\n",
       "      <td>0.933493</td>\n",
       "      <td>0.245614</td>\n",
       "      <td>0.534914</td>\n",
       "      <td>0.159403</td>\n",
       "      <td>0.574652</td>\n",
       "      <td>0.427200</td>\n",
       "      <td>0.305600</td>\n",
       "      <td>0.210000</td>\n",
       "      <td>0.314488</td>\n",
       "      <td>0.449941</td>\n",
       "      <td>0.618375</td>\n",
       "    </tr>\n",
       "    <tr>\n",
       "      <th>16</th>\n",
       "      <td>LR</td>\n",
       "      <td>LogisticRegression(C=10, class_weight=None, du...</td>\n",
       "      <td>{'C': 1e-05, 'penalty': 'l1'}</td>\n",
       "      <td>0.306622</td>\n",
       "      <td>0.010394</td>\n",
       "      <td>0.932080</td>\n",
       "      <td>0.000000</td>\n",
       "      <td>0.000000</td>\n",
       "      <td>0.000000</td>\n",
       "      <td>0.500000</td>\n",
       "      <td>0.113067</td>\n",
       "      <td>0.117333</td>\n",
       "      <td>0.110933</td>\n",
       "      <td>0.083235</td>\n",
       "      <td>0.172752</td>\n",
       "      <td>0.326659</td>\n",
       "    </tr>\n",
       "    <tr>\n",
       "      <th>17</th>\n",
       "      <td>LR</td>\n",
       "      <td>LogisticRegression(C=10, class_weight=None, du...</td>\n",
       "      <td>{'C': 1e-05, 'penalty': 'l2'}</td>\n",
       "      <td>0.444423</td>\n",
       "      <td>0.002940</td>\n",
       "      <td>0.932107</td>\n",
       "      <td>0.018504</td>\n",
       "      <td>0.510638</td>\n",
       "      <td>0.009423</td>\n",
       "      <td>0.504382</td>\n",
       "      <td>0.128533</td>\n",
       "      <td>0.127467</td>\n",
       "      <td>0.116000</td>\n",
       "      <td>0.094621</td>\n",
       "      <td>0.187672</td>\n",
       "      <td>0.341578</td>\n",
       "    </tr>\n",
       "    <tr>\n",
       "      <th>18</th>\n",
       "      <td>LR</td>\n",
       "      <td>LogisticRegression(C=10, class_weight=None, du...</td>\n",
       "      <td>{'C': 0.001, 'penalty': 'l1'}</td>\n",
       "      <td>0.314721</td>\n",
       "      <td>0.006551</td>\n",
       "      <td>0.932213</td>\n",
       "      <td>0.022308</td>\n",
       "      <td>0.547170</td>\n",
       "      <td>0.011386</td>\n",
       "      <td>0.505350</td>\n",
       "      <td>0.130667</td>\n",
       "      <td>0.127200</td>\n",
       "      <td>0.115600</td>\n",
       "      <td>0.096192</td>\n",
       "      <td>0.187279</td>\n",
       "      <td>0.340400</td>\n",
       "    </tr>\n",
       "    <tr>\n",
       "      <th>19</th>\n",
       "      <td>LR</td>\n",
       "      <td>LogisticRegression(C=10, class_weight=None, du...</td>\n",
       "      <td>{'C': 0.001, 'penalty': 'l2'}</td>\n",
       "      <td>0.422396</td>\n",
       "      <td>0.002803</td>\n",
       "      <td>0.932293</td>\n",
       "      <td>0.024587</td>\n",
       "      <td>0.571429</td>\n",
       "      <td>0.012564</td>\n",
       "      <td>0.505939</td>\n",
       "      <td>0.131200</td>\n",
       "      <td>0.127467</td>\n",
       "      <td>0.115600</td>\n",
       "      <td>0.096584</td>\n",
       "      <td>0.187672</td>\n",
       "      <td>0.340400</td>\n",
       "    </tr>\n",
       "    <tr>\n",
       "      <th>20</th>\n",
       "      <td>LR</td>\n",
       "      <td>LogisticRegression(C=10, class_weight=None, du...</td>\n",
       "      <td>{'C': 0.1, 'penalty': 'l1'}</td>\n",
       "      <td>0.474790</td>\n",
       "      <td>0.003714</td>\n",
       "      <td>0.932400</td>\n",
       "      <td>0.028363</td>\n",
       "      <td>0.596774</td>\n",
       "      <td>0.014527</td>\n",
       "      <td>0.506906</td>\n",
       "      <td>0.139200</td>\n",
       "      <td>0.130400</td>\n",
       "      <td>0.117867</td>\n",
       "      <td>0.102473</td>\n",
       "      <td>0.191991</td>\n",
       "      <td>0.347075</td>\n",
       "    </tr>\n",
       "    <tr>\n",
       "      <th>21</th>\n",
       "      <td>LR</td>\n",
       "      <td>LogisticRegression(C=10, class_weight=None, du...</td>\n",
       "      <td>{'C': 0.1, 'penalty': 'l2'}</td>\n",
       "      <td>0.481367</td>\n",
       "      <td>0.002645</td>\n",
       "      <td>0.932293</td>\n",
       "      <td>0.024587</td>\n",
       "      <td>0.571429</td>\n",
       "      <td>0.012564</td>\n",
       "      <td>0.505939</td>\n",
       "      <td>0.131200</td>\n",
       "      <td>0.127467</td>\n",
       "      <td>0.115600</td>\n",
       "      <td>0.096584</td>\n",
       "      <td>0.187672</td>\n",
       "      <td>0.340400</td>\n",
       "    </tr>\n",
       "    <tr>\n",
       "      <th>22</th>\n",
       "      <td>LR</td>\n",
       "      <td>LogisticRegression(C=10, class_weight=None, du...</td>\n",
       "      <td>{'C': 1, 'penalty': 'l1'}</td>\n",
       "      <td>0.809055</td>\n",
       "      <td>0.003552</td>\n",
       "      <td>0.932400</td>\n",
       "      <td>0.028363</td>\n",
       "      <td>0.596774</td>\n",
       "      <td>0.014527</td>\n",
       "      <td>0.506906</td>\n",
       "      <td>0.139733</td>\n",
       "      <td>0.130667</td>\n",
       "      <td>0.117733</td>\n",
       "      <td>0.102866</td>\n",
       "      <td>0.192383</td>\n",
       "      <td>0.346682</td>\n",
       "    </tr>\n",
       "    <tr>\n",
       "      <th>23</th>\n",
       "      <td>LR</td>\n",
       "      <td>LogisticRegression(C=10, class_weight=None, du...</td>\n",
       "      <td>{'C': 1, 'penalty': 'l2'}</td>\n",
       "      <td>0.465350</td>\n",
       "      <td>0.002686</td>\n",
       "      <td>0.932293</td>\n",
       "      <td>0.024587</td>\n",
       "      <td>0.571429</td>\n",
       "      <td>0.012564</td>\n",
       "      <td>0.505939</td>\n",
       "      <td>0.131200</td>\n",
       "      <td>0.127467</td>\n",
       "      <td>0.115600</td>\n",
       "      <td>0.096584</td>\n",
       "      <td>0.187672</td>\n",
       "      <td>0.340400</td>\n",
       "    </tr>\n",
       "    <tr>\n",
       "      <th>24</th>\n",
       "      <td>LR</td>\n",
       "      <td>LogisticRegression(C=10, class_weight=None, du...</td>\n",
       "      <td>{'C': 10, 'penalty': 'l1'}</td>\n",
       "      <td>0.367807</td>\n",
       "      <td>0.002761</td>\n",
       "      <td>0.932400</td>\n",
       "      <td>0.028363</td>\n",
       "      <td>0.596774</td>\n",
       "      <td>0.014527</td>\n",
       "      <td>0.506906</td>\n",
       "      <td>0.139200</td>\n",
       "      <td>0.130400</td>\n",
       "      <td>0.117867</td>\n",
       "      <td>0.102473</td>\n",
       "      <td>0.191991</td>\n",
       "      <td>0.347075</td>\n",
       "    </tr>\n",
       "    <tr>\n",
       "      <th>25</th>\n",
       "      <td>LR</td>\n",
       "      <td>LogisticRegression(C=10, class_weight=None, du...</td>\n",
       "      <td>{'C': 10, 'penalty': 'l2'}</td>\n",
       "      <td>0.419323</td>\n",
       "      <td>0.002980</td>\n",
       "      <td>0.932293</td>\n",
       "      <td>0.024587</td>\n",
       "      <td>0.571429</td>\n",
       "      <td>0.012564</td>\n",
       "      <td>0.505939</td>\n",
       "      <td>0.131200</td>\n",
       "      <td>0.127467</td>\n",
       "      <td>0.115600</td>\n",
       "      <td>0.096584</td>\n",
       "      <td>0.187672</td>\n",
       "      <td>0.340400</td>\n",
       "    </tr>\n",
       "    <tr>\n",
       "      <th>26</th>\n",
       "      <td>DT</td>\n",
       "      <td>DecisionTreeClassifier(class_weight=None, crit...</td>\n",
       "      <td>{'criterion': 'gini', 'max_depth': 1, 'max_fea...</td>\n",
       "      <td>0.055423</td>\n",
       "      <td>0.001889</td>\n",
       "      <td>0.932080</td>\n",
       "      <td>0.000000</td>\n",
       "      <td>0.000000</td>\n",
       "      <td>0.000000</td>\n",
       "      <td>0.500000</td>\n",
       "      <td>0.759467</td>\n",
       "      <td>0.379733</td>\n",
       "      <td>0.256000</td>\n",
       "      <td>0.559089</td>\n",
       "      <td>0.559089</td>\n",
       "      <td>0.753828</td>\n",
       "    </tr>\n",
       "    <tr>\n",
       "      <th>27</th>\n",
       "      <td>DT</td>\n",
       "      <td>DecisionTreeClassifier(class_weight=None, crit...</td>\n",
       "      <td>{'criterion': 'gini', 'max_depth': 1, 'max_fea...</td>\n",
       "      <td>0.045138</td>\n",
       "      <td>0.002596</td>\n",
       "      <td>0.932080</td>\n",
       "      <td>0.000000</td>\n",
       "      <td>0.000000</td>\n",
       "      <td>0.000000</td>\n",
       "      <td>0.500000</td>\n",
       "      <td>1.000000</td>\n",
       "      <td>0.529067</td>\n",
       "      <td>0.264533</td>\n",
       "      <td>0.736160</td>\n",
       "      <td>0.778956</td>\n",
       "      <td>0.778956</td>\n",
       "    </tr>\n",
       "    <tr>\n",
       "      <th>28</th>\n",
       "      <td>DT</td>\n",
       "      <td>DecisionTreeClassifier(class_weight=None, crit...</td>\n",
       "      <td>{'criterion': 'gini', 'max_depth': 1, 'max_fea...</td>\n",
       "      <td>0.157075</td>\n",
       "      <td>0.004268</td>\n",
       "      <td>0.932080</td>\n",
       "      <td>0.000000</td>\n",
       "      <td>0.000000</td>\n",
       "      <td>0.000000</td>\n",
       "      <td>0.500000</td>\n",
       "      <td>0.464000</td>\n",
       "      <td>0.672533</td>\n",
       "      <td>0.339600</td>\n",
       "      <td>0.341578</td>\n",
       "      <td>0.990185</td>\n",
       "      <td>1.000000</td>\n",
       "    </tr>\n",
       "    <tr>\n",
       "      <th>29</th>\n",
       "      <td>DT</td>\n",
       "      <td>DecisionTreeClassifier(class_weight=None, crit...</td>\n",
       "      <td>{'criterion': 'gini', 'max_depth': 1, 'max_fea...</td>\n",
       "      <td>0.058023</td>\n",
       "      <td>0.003444</td>\n",
       "      <td>0.932080</td>\n",
       "      <td>0.000000</td>\n",
       "      <td>0.000000</td>\n",
       "      <td>0.000000</td>\n",
       "      <td>0.500000</td>\n",
       "      <td>0.759467</td>\n",
       "      <td>0.379733</td>\n",
       "      <td>0.256000</td>\n",
       "      <td>0.559089</td>\n",
       "      <td>0.559089</td>\n",
       "      <td>0.753828</td>\n",
       "    </tr>\n",
       "    <tr>\n",
       "      <th>...</th>\n",
       "      <td>...</td>\n",
       "      <td>...</td>\n",
       "      <td>...</td>\n",
       "      <td>...</td>\n",
       "      <td>...</td>\n",
       "      <td>...</td>\n",
       "      <td>...</td>\n",
       "      <td>...</td>\n",
       "      <td>...</td>\n",
       "      <td>...</td>\n",
       "      <td>...</td>\n",
       "      <td>...</td>\n",
       "      <td>...</td>\n",
       "      <td>...</td>\n",
       "      <td>...</td>\n",
       "      <td>...</td>\n",
       "    </tr>\n",
       "    <tr>\n",
       "      <th>118</th>\n",
       "      <td>KNN</td>\n",
       "      <td>KNeighborsClassifier(algorithm='kd_tree', leaf...</td>\n",
       "      <td>{'algorithm': 'ball_tree', 'n_neighbors': 50, ...</td>\n",
       "      <td>0.158745</td>\n",
       "      <td>7.049642</td>\n",
       "      <td>0.932160</td>\n",
       "      <td>0.004695</td>\n",
       "      <td>0.666667</td>\n",
       "      <td>0.002356</td>\n",
       "      <td>0.501135</td>\n",
       "      <td>0.173333</td>\n",
       "      <td>0.184000</td>\n",
       "      <td>0.133467</td>\n",
       "      <td>0.127601</td>\n",
       "      <td>0.270907</td>\n",
       "      <td>0.393011</td>\n",
       "    </tr>\n",
       "    <tr>\n",
       "      <th>119</th>\n",
       "      <td>KNN</td>\n",
       "      <td>KNeighborsClassifier(algorithm='kd_tree', leaf...</td>\n",
       "      <td>{'algorithm': 'ball_tree', 'n_neighbors': 50, ...</td>\n",
       "      <td>0.147641</td>\n",
       "      <td>7.086528</td>\n",
       "      <td>0.931040</td>\n",
       "      <td>0.012223</td>\n",
       "      <td>0.225352</td>\n",
       "      <td>0.006282</td>\n",
       "      <td>0.502354</td>\n",
       "      <td>0.156267</td>\n",
       "      <td>0.142133</td>\n",
       "      <td>0.124267</td>\n",
       "      <td>0.115037</td>\n",
       "      <td>0.209266</td>\n",
       "      <td>0.365921</td>\n",
       "    </tr>\n",
       "    <tr>\n",
       "      <th>120</th>\n",
       "      <td>KNN</td>\n",
       "      <td>KNeighborsClassifier(algorithm='kd_tree', leaf...</td>\n",
       "      <td>{'algorithm': 'ball_tree', 'n_neighbors': 100,...</td>\n",
       "      <td>0.144113</td>\n",
       "      <td>9.010184</td>\n",
       "      <td>0.932027</td>\n",
       "      <td>0.008557</td>\n",
       "      <td>0.458333</td>\n",
       "      <td>0.004319</td>\n",
       "      <td>0.501973</td>\n",
       "      <td>0.158400</td>\n",
       "      <td>0.141067</td>\n",
       "      <td>0.129333</td>\n",
       "      <td>0.116608</td>\n",
       "      <td>0.207695</td>\n",
       "      <td>0.380840</td>\n",
       "    </tr>\n",
       "    <tr>\n",
       "      <th>121</th>\n",
       "      <td>KNN</td>\n",
       "      <td>KNeighborsClassifier(algorithm='kd_tree', leaf...</td>\n",
       "      <td>{'algorithm': 'ball_tree', 'n_neighbors': 100,...</td>\n",
       "      <td>0.143444</td>\n",
       "      <td>10.006683</td>\n",
       "      <td>0.931227</td>\n",
       "      <td>0.009981</td>\n",
       "      <td>0.224138</td>\n",
       "      <td>0.005104</td>\n",
       "      <td>0.501908</td>\n",
       "      <td>0.154133</td>\n",
       "      <td>0.144800</td>\n",
       "      <td>0.126667</td>\n",
       "      <td>0.113467</td>\n",
       "      <td>0.213192</td>\n",
       "      <td>0.372988</td>\n",
       "    </tr>\n",
       "    <tr>\n",
       "      <th>122</th>\n",
       "      <td>KNN</td>\n",
       "      <td>KNeighborsClassifier(algorithm='kd_tree', leaf...</td>\n",
       "      <td>{'algorithm': 'kd_tree', 'n_neighbors': 1, 'we...</td>\n",
       "      <td>0.318917</td>\n",
       "      <td>1.630252</td>\n",
       "      <td>0.894293</td>\n",
       "      <td>0.141248</td>\n",
       "      <td>0.157564</td>\n",
       "      <td>0.127994</td>\n",
       "      <td>0.539063</td>\n",
       "      <td>0.173867</td>\n",
       "      <td>0.535200</td>\n",
       "      <td>0.339600</td>\n",
       "      <td>0.127994</td>\n",
       "      <td>0.787986</td>\n",
       "      <td>1.000000</td>\n",
       "    </tr>\n",
       "    <tr>\n",
       "      <th>123</th>\n",
       "      <td>KNN</td>\n",
       "      <td>KNeighborsClassifier(algorithm='kd_tree', leaf...</td>\n",
       "      <td>{'algorithm': 'kd_tree', 'n_neighbors': 1, 'we...</td>\n",
       "      <td>0.195337</td>\n",
       "      <td>2.099800</td>\n",
       "      <td>0.894293</td>\n",
       "      <td>0.141248</td>\n",
       "      <td>0.157564</td>\n",
       "      <td>0.127994</td>\n",
       "      <td>0.539063</td>\n",
       "      <td>0.173867</td>\n",
       "      <td>0.535200</td>\n",
       "      <td>0.339600</td>\n",
       "      <td>0.127994</td>\n",
       "      <td>0.787986</td>\n",
       "      <td>1.000000</td>\n",
       "    </tr>\n",
       "    <tr>\n",
       "      <th>124</th>\n",
       "      <td>KNN</td>\n",
       "      <td>KNeighborsClassifier(algorithm='kd_tree', leaf...</td>\n",
       "      <td>{'algorithm': 'kd_tree', 'n_neighbors': 5, 'we...</td>\n",
       "      <td>0.230645</td>\n",
       "      <td>2.641843</td>\n",
       "      <td>0.930107</td>\n",
       "      <td>0.051393</td>\n",
       "      <td>0.328704</td>\n",
       "      <td>0.027876</td>\n",
       "      <td>0.511864</td>\n",
       "      <td>0.397867</td>\n",
       "      <td>0.253600</td>\n",
       "      <td>0.126800</td>\n",
       "      <td>0.292894</td>\n",
       "      <td>0.373380</td>\n",
       "      <td>0.373380</td>\n",
       "    </tr>\n",
       "    <tr>\n",
       "      <th>125</th>\n",
       "      <td>KNN</td>\n",
       "      <td>KNeighborsClassifier(algorithm='kd_tree', leaf...</td>\n",
       "      <td>{'algorithm': 'kd_tree', 'n_neighbors': 5, 'we...</td>\n",
       "      <td>0.194476</td>\n",
       "      <td>2.402308</td>\n",
       "      <td>0.923120</td>\n",
       "      <td>0.073884</td>\n",
       "      <td>0.203180</td>\n",
       "      <td>0.045151</td>\n",
       "      <td>0.516124</td>\n",
       "      <td>0.157333</td>\n",
       "      <td>0.140533</td>\n",
       "      <td>0.117600</td>\n",
       "      <td>0.115823</td>\n",
       "      <td>0.206910</td>\n",
       "      <td>0.346290</td>\n",
       "    </tr>\n",
       "    <tr>\n",
       "      <th>126</th>\n",
       "      <td>KNN</td>\n",
       "      <td>KNeighborsClassifier(algorithm='kd_tree', leaf...</td>\n",
       "      <td>{'algorithm': 'kd_tree', 'n_neighbors': 10, 'w...</td>\n",
       "      <td>0.196030</td>\n",
       "      <td>2.443082</td>\n",
       "      <td>0.932453</td>\n",
       "      <td>0.025394</td>\n",
       "      <td>0.634615</td>\n",
       "      <td>0.012956</td>\n",
       "      <td>0.506206</td>\n",
       "      <td>0.323733</td>\n",
       "      <td>0.161867</td>\n",
       "      <td>0.188133</td>\n",
       "      <td>0.238320</td>\n",
       "      <td>0.238320</td>\n",
       "      <td>0.553985</td>\n",
       "    </tr>\n",
       "    <tr>\n",
       "      <th>127</th>\n",
       "      <td>KNN</td>\n",
       "      <td>KNeighborsClassifier(algorithm='kd_tree', leaf...</td>\n",
       "      <td>{'algorithm': 'kd_tree', 'n_neighbors': 10, 'w...</td>\n",
       "      <td>0.199886</td>\n",
       "      <td>2.457021</td>\n",
       "      <td>0.928853</td>\n",
       "      <td>0.046462</td>\n",
       "      <td>0.258964</td>\n",
       "      <td>0.025520</td>\n",
       "      <td>0.510099</td>\n",
       "      <td>0.162667</td>\n",
       "      <td>0.147467</td>\n",
       "      <td>0.119600</td>\n",
       "      <td>0.119749</td>\n",
       "      <td>0.217118</td>\n",
       "      <td>0.352179</td>\n",
       "    </tr>\n",
       "    <tr>\n",
       "      <th>128</th>\n",
       "      <td>KNN</td>\n",
       "      <td>KNeighborsClassifier(algorithm='kd_tree', leaf...</td>\n",
       "      <td>{'algorithm': 'kd_tree', 'n_neighbors': 25, 'w...</td>\n",
       "      <td>0.190885</td>\n",
       "      <td>2.882337</td>\n",
       "      <td>0.932320</td>\n",
       "      <td>0.012451</td>\n",
       "      <td>0.695652</td>\n",
       "      <td>0.006282</td>\n",
       "      <td>0.503041</td>\n",
       "      <td>0.258133</td>\n",
       "      <td>0.209867</td>\n",
       "      <td>0.121200</td>\n",
       "      <td>0.190027</td>\n",
       "      <td>0.308991</td>\n",
       "      <td>0.356890</td>\n",
       "    </tr>\n",
       "    <tr>\n",
       "      <th>129</th>\n",
       "      <td>KNN</td>\n",
       "      <td>KNeighborsClassifier(algorithm='kd_tree', leaf...</td>\n",
       "      <td>{'algorithm': 'kd_tree', 'n_neighbors': 25, 'w...</td>\n",
       "      <td>0.186876</td>\n",
       "      <td>3.001981</td>\n",
       "      <td>0.930507</td>\n",
       "      <td>0.021037</td>\n",
       "      <td>0.243478</td>\n",
       "      <td>0.010993</td>\n",
       "      <td>0.504252</td>\n",
       "      <td>0.156800</td>\n",
       "      <td>0.147733</td>\n",
       "      <td>0.123200</td>\n",
       "      <td>0.115430</td>\n",
       "      <td>0.217511</td>\n",
       "      <td>0.362780</td>\n",
       "    </tr>\n",
       "    <tr>\n",
       "      <th>130</th>\n",
       "      <td>KNN</td>\n",
       "      <td>KNeighborsClassifier(algorithm='kd_tree', leaf...</td>\n",
       "      <td>{'algorithm': 'kd_tree', 'n_neighbors': 50, 'w...</td>\n",
       "      <td>0.203697</td>\n",
       "      <td>3.665291</td>\n",
       "      <td>0.932160</td>\n",
       "      <td>0.004695</td>\n",
       "      <td>0.666667</td>\n",
       "      <td>0.002356</td>\n",
       "      <td>0.501135</td>\n",
       "      <td>0.173333</td>\n",
       "      <td>0.184000</td>\n",
       "      <td>0.133467</td>\n",
       "      <td>0.127601</td>\n",
       "      <td>0.270907</td>\n",
       "      <td>0.393011</td>\n",
       "    </tr>\n",
       "    <tr>\n",
       "      <th>131</th>\n",
       "      <td>KNN</td>\n",
       "      <td>KNeighborsClassifier(algorithm='kd_tree', leaf...</td>\n",
       "      <td>{'algorithm': 'kd_tree', 'n_neighbors': 50, 'w...</td>\n",
       "      <td>0.199215</td>\n",
       "      <td>3.601559</td>\n",
       "      <td>0.931040</td>\n",
       "      <td>0.012223</td>\n",
       "      <td>0.225352</td>\n",
       "      <td>0.006282</td>\n",
       "      <td>0.502354</td>\n",
       "      <td>0.156267</td>\n",
       "      <td>0.142133</td>\n",
       "      <td>0.124267</td>\n",
       "      <td>0.115037</td>\n",
       "      <td>0.209266</td>\n",
       "      <td>0.365921</td>\n",
       "    </tr>\n",
       "    <tr>\n",
       "      <th>132</th>\n",
       "      <td>KNN</td>\n",
       "      <td>KNeighborsClassifier(algorithm='kd_tree', leaf...</td>\n",
       "      <td>{'algorithm': 'kd_tree', 'n_neighbors': 100, '...</td>\n",
       "      <td>0.198114</td>\n",
       "      <td>4.534996</td>\n",
       "      <td>0.932027</td>\n",
       "      <td>0.008557</td>\n",
       "      <td>0.458333</td>\n",
       "      <td>0.004319</td>\n",
       "      <td>0.501973</td>\n",
       "      <td>0.157867</td>\n",
       "      <td>0.141067</td>\n",
       "      <td>0.128667</td>\n",
       "      <td>0.116215</td>\n",
       "      <td>0.207695</td>\n",
       "      <td>0.378877</td>\n",
       "    </tr>\n",
       "    <tr>\n",
       "      <th>133</th>\n",
       "      <td>KNN</td>\n",
       "      <td>KNeighborsClassifier(algorithm='kd_tree', leaf...</td>\n",
       "      <td>{'algorithm': 'kd_tree', 'n_neighbors': 100, '...</td>\n",
       "      <td>0.210839</td>\n",
       "      <td>4.674965</td>\n",
       "      <td>0.931227</td>\n",
       "      <td>0.009981</td>\n",
       "      <td>0.224138</td>\n",
       "      <td>0.005104</td>\n",
       "      <td>0.501908</td>\n",
       "      <td>0.154133</td>\n",
       "      <td>0.144800</td>\n",
       "      <td>0.126667</td>\n",
       "      <td>0.113467</td>\n",
       "      <td>0.213192</td>\n",
       "      <td>0.372988</td>\n",
       "    </tr>\n",
       "    <tr>\n",
       "      <th>134</th>\n",
       "      <td>AB</td>\n",
       "      <td>(DecisionTreeClassifier(class_weight=None, cri...</td>\n",
       "      <td>{'algorithm': 'SAMME', 'n_estimators': 1}</td>\n",
       "      <td>0.089341</td>\n",
       "      <td>0.003379</td>\n",
       "      <td>0.932080</td>\n",
       "      <td>0.000000</td>\n",
       "      <td>0.000000</td>\n",
       "      <td>0.000000</td>\n",
       "      <td>0.500000</td>\n",
       "      <td>0.464000</td>\n",
       "      <td>0.672533</td>\n",
       "      <td>0.339600</td>\n",
       "      <td>0.341578</td>\n",
       "      <td>0.990185</td>\n",
       "      <td>1.000000</td>\n",
       "    </tr>\n",
       "    <tr>\n",
       "      <th>135</th>\n",
       "      <td>AB</td>\n",
       "      <td>(DecisionTreeClassifier(class_weight=None, cri...</td>\n",
       "      <td>{'algorithm': 'SAMME', 'n_estimators': 10}</td>\n",
       "      <td>0.751148</td>\n",
       "      <td>0.017719</td>\n",
       "      <td>0.932080</td>\n",
       "      <td>0.000000</td>\n",
       "      <td>0.000000</td>\n",
       "      <td>0.000000</td>\n",
       "      <td>0.500000</td>\n",
       "      <td>0.442133</td>\n",
       "      <td>0.483733</td>\n",
       "      <td>0.241867</td>\n",
       "      <td>0.325481</td>\n",
       "      <td>0.712210</td>\n",
       "      <td>0.712210</td>\n",
       "    </tr>\n",
       "    <tr>\n",
       "      <th>136</th>\n",
       "      <td>AB</td>\n",
       "      <td>(DecisionTreeClassifier(class_weight=None, cri...</td>\n",
       "      <td>{'algorithm': 'SAMME', 'n_estimators': 100}</td>\n",
       "      <td>7.980726</td>\n",
       "      <td>0.116176</td>\n",
       "      <td>0.934533</td>\n",
       "      <td>0.249006</td>\n",
       "      <td>0.563712</td>\n",
       "      <td>0.159796</td>\n",
       "      <td>0.575392</td>\n",
       "      <td>0.436267</td>\n",
       "      <td>0.331200</td>\n",
       "      <td>0.222667</td>\n",
       "      <td>0.321162</td>\n",
       "      <td>0.487633</td>\n",
       "      <td>0.655673</td>\n",
       "    </tr>\n",
       "    <tr>\n",
       "      <th>137</th>\n",
       "      <td>AB</td>\n",
       "      <td>(DecisionTreeClassifier(class_weight=None, cri...</td>\n",
       "      <td>{'algorithm': 'SAMME', 'n_estimators': 1000}</td>\n",
       "      <td>73.680991</td>\n",
       "      <td>1.109016</td>\n",
       "      <td>0.934347</td>\n",
       "      <td>0.253487</td>\n",
       "      <td>0.556591</td>\n",
       "      <td>0.164115</td>\n",
       "      <td>0.577294</td>\n",
       "      <td>0.436800</td>\n",
       "      <td>0.321867</td>\n",
       "      <td>0.222667</td>\n",
       "      <td>0.321555</td>\n",
       "      <td>0.473891</td>\n",
       "      <td>0.655673</td>\n",
       "    </tr>\n",
       "    <tr>\n",
       "      <th>138</th>\n",
       "      <td>AB</td>\n",
       "      <td>(DecisionTreeClassifier(class_weight=None, cri...</td>\n",
       "      <td>{'algorithm': 'SAMME', 'n_estimators': 10000}</td>\n",
       "      <td>738.126449</td>\n",
       "      <td>13.688784</td>\n",
       "      <td>0.934027</td>\n",
       "      <td>0.251664</td>\n",
       "      <td>0.548090</td>\n",
       "      <td>0.163329</td>\n",
       "      <td>0.576758</td>\n",
       "      <td>0.437333</td>\n",
       "      <td>0.321867</td>\n",
       "      <td>0.223333</td>\n",
       "      <td>0.321947</td>\n",
       "      <td>0.473891</td>\n",
       "      <td>0.657636</td>\n",
       "    </tr>\n",
       "    <tr>\n",
       "      <th>139</th>\n",
       "      <td>AB</td>\n",
       "      <td>(DecisionTreeClassifier(class_weight=None, cri...</td>\n",
       "      <td>{'algorithm': 'SAMME.R', 'n_estimators': 1}</td>\n",
       "      <td>0.121557</td>\n",
       "      <td>0.007054</td>\n",
       "      <td>0.932080</td>\n",
       "      <td>0.000000</td>\n",
       "      <td>0.000000</td>\n",
       "      <td>0.000000</td>\n",
       "      <td>0.500000</td>\n",
       "      <td>0.464000</td>\n",
       "      <td>0.672533</td>\n",
       "      <td>0.339600</td>\n",
       "      <td>0.341578</td>\n",
       "      <td>0.990185</td>\n",
       "      <td>1.000000</td>\n",
       "    </tr>\n",
       "    <tr>\n",
       "      <th>140</th>\n",
       "      <td>AB</td>\n",
       "      <td>(DecisionTreeClassifier(class_weight=None, cri...</td>\n",
       "      <td>{'algorithm': 'SAMME.R', 'n_estimators': 10}</td>\n",
       "      <td>0.908800</td>\n",
       "      <td>0.043946</td>\n",
       "      <td>0.933413</td>\n",
       "      <td>0.171258</td>\n",
       "      <td>0.553648</td>\n",
       "      <td>0.101296</td>\n",
       "      <td>0.547672</td>\n",
       "      <td>0.446400</td>\n",
       "      <td>0.311200</td>\n",
       "      <td>0.217733</td>\n",
       "      <td>0.328622</td>\n",
       "      <td>0.458186</td>\n",
       "      <td>0.641146</td>\n",
       "    </tr>\n",
       "    <tr>\n",
       "      <th>141</th>\n",
       "      <td>AB</td>\n",
       "      <td>(DecisionTreeClassifier(class_weight=None, cri...</td>\n",
       "      <td>{'algorithm': 'SAMME.R', 'n_estimators': 100}</td>\n",
       "      <td>9.203247</td>\n",
       "      <td>0.454195</td>\n",
       "      <td>0.933547</td>\n",
       "      <td>0.253892</td>\n",
       "      <td>0.534678</td>\n",
       "      <td>0.166470</td>\n",
       "      <td>0.577957</td>\n",
       "      <td>0.441600</td>\n",
       "      <td>0.318667</td>\n",
       "      <td>0.223467</td>\n",
       "      <td>0.325088</td>\n",
       "      <td>0.469179</td>\n",
       "      <td>0.658029</td>\n",
       "    </tr>\n",
       "    <tr>\n",
       "      <th>142</th>\n",
       "      <td>AB</td>\n",
       "      <td>(DecisionTreeClassifier(class_weight=None, cri...</td>\n",
       "      <td>{'algorithm': 'SAMME.R', 'n_estimators': 1000}</td>\n",
       "      <td>90.446472</td>\n",
       "      <td>4.106433</td>\n",
       "      <td>0.933680</td>\n",
       "      <td>0.253825</td>\n",
       "      <td>0.538168</td>\n",
       "      <td>0.166078</td>\n",
       "      <td>0.577846</td>\n",
       "      <td>0.435200</td>\n",
       "      <td>0.321867</td>\n",
       "      <td>0.222267</td>\n",
       "      <td>0.320377</td>\n",
       "      <td>0.473891</td>\n",
       "      <td>0.654495</td>\n",
       "    </tr>\n",
       "    <tr>\n",
       "      <th>143</th>\n",
       "      <td>AB</td>\n",
       "      <td>(DecisionTreeClassifier(class_weight=None, cri...</td>\n",
       "      <td>{'algorithm': 'SAMME.R', 'n_estimators': 10000}</td>\n",
       "      <td>1241.838231</td>\n",
       "      <td>44.849677</td>\n",
       "      <td>0.933253</td>\n",
       "      <td>0.255724</td>\n",
       "      <td>0.526961</td>\n",
       "      <td>0.168826</td>\n",
       "      <td>0.578891</td>\n",
       "      <td>0.436267</td>\n",
       "      <td>0.315733</td>\n",
       "      <td>0.219467</td>\n",
       "      <td>0.321162</td>\n",
       "      <td>0.464861</td>\n",
       "      <td>0.646250</td>\n",
       "    </tr>\n",
       "    <tr>\n",
       "      <th>144</th>\n",
       "      <td>BAG</td>\n",
       "      <td>(DecisionTreeClassifier(class_weight=None, cri...</td>\n",
       "      <td>{'max_samples': 0.4, 'n_estimators': 5}</td>\n",
       "      <td>0.316777</td>\n",
       "      <td>0.025080</td>\n",
       "      <td>0.932080</td>\n",
       "      <td>0.000000</td>\n",
       "      <td>0.000000</td>\n",
       "      <td>0.000000</td>\n",
       "      <td>0.500000</td>\n",
       "      <td>0.119467</td>\n",
       "      <td>0.123200</td>\n",
       "      <td>0.120000</td>\n",
       "      <td>0.087947</td>\n",
       "      <td>0.181390</td>\n",
       "      <td>0.353357</td>\n",
       "    </tr>\n",
       "    <tr>\n",
       "      <th>145</th>\n",
       "      <td>BAG</td>\n",
       "      <td>(DecisionTreeClassifier(class_weight=None, cri...</td>\n",
       "      <td>{'max_samples': 0.4, 'n_estimators': 10}</td>\n",
       "      <td>0.696713</td>\n",
       "      <td>0.046665</td>\n",
       "      <td>0.932107</td>\n",
       "      <td>0.000785</td>\n",
       "      <td>1.000000</td>\n",
       "      <td>0.000393</td>\n",
       "      <td>0.500196</td>\n",
       "      <td>0.364267</td>\n",
       "      <td>0.277600</td>\n",
       "      <td>0.206800</td>\n",
       "      <td>0.268159</td>\n",
       "      <td>0.408716</td>\n",
       "      <td>0.608952</td>\n",
       "    </tr>\n",
       "    <tr>\n",
       "      <th>146</th>\n",
       "      <td>BAG</td>\n",
       "      <td>(DecisionTreeClassifier(class_weight=None, cri...</td>\n",
       "      <td>{'max_samples': 0.6, 'n_estimators': 5}</td>\n",
       "      <td>0.356572</td>\n",
       "      <td>0.022729</td>\n",
       "      <td>0.932080</td>\n",
       "      <td>0.000000</td>\n",
       "      <td>0.000000</td>\n",
       "      <td>0.000000</td>\n",
       "      <td>0.500000</td>\n",
       "      <td>0.409600</td>\n",
       "      <td>0.309067</td>\n",
       "      <td>0.215467</td>\n",
       "      <td>0.301531</td>\n",
       "      <td>0.455045</td>\n",
       "      <td>0.634472</td>\n",
       "    </tr>\n",
       "    <tr>\n",
       "      <th>147</th>\n",
       "      <td>BAG</td>\n",
       "      <td>(DecisionTreeClassifier(class_weight=None, cri...</td>\n",
       "      <td>{'max_samples': 0.6, 'n_estimators': 10}</td>\n",
       "      <td>0.907796</td>\n",
       "      <td>0.045451</td>\n",
       "      <td>0.932080</td>\n",
       "      <td>0.000000</td>\n",
       "      <td>0.000000</td>\n",
       "      <td>0.000000</td>\n",
       "      <td>0.500000</td>\n",
       "      <td>0.344000</td>\n",
       "      <td>0.273333</td>\n",
       "      <td>0.192933</td>\n",
       "      <td>0.253239</td>\n",
       "      <td>0.402434</td>\n",
       "      <td>0.568119</td>\n",
       "    </tr>\n",
       "  </tbody>\n",
       "</table>\n",
       "<p>148 rows × 16 columns</p>\n",
       "</div>"
      ],
      "text/plain": [
       "    model_type                                                clf  \\\n",
       "0           RF  (DecisionTreeClassifier(class_weight=None, cri...   \n",
       "1           RF  (DecisionTreeClassifier(class_weight=None, cri...   \n",
       "2           RF  (DecisionTreeClassifier(class_weight=None, cri...   \n",
       "3           RF  (DecisionTreeClassifier(class_weight=None, cri...   \n",
       "4           RF  (DecisionTreeClassifier(class_weight=None, cri...   \n",
       "5           RF  (DecisionTreeClassifier(class_weight=None, cri...   \n",
       "6           RF  (DecisionTreeClassifier(class_weight=None, cri...   \n",
       "7           RF  (DecisionTreeClassifier(class_weight=None, cri...   \n",
       "8           RF  (DecisionTreeClassifier(class_weight=None, cri...   \n",
       "9           RF  (DecisionTreeClassifier(class_weight=None, cri...   \n",
       "10          RF  (DecisionTreeClassifier(class_weight=None, cri...   \n",
       "11          RF  (DecisionTreeClassifier(class_weight=None, cri...   \n",
       "12          RF  (DecisionTreeClassifier(class_weight=None, cri...   \n",
       "13          RF  (DecisionTreeClassifier(class_weight=None, cri...   \n",
       "14          RF  (DecisionTreeClassifier(class_weight=None, cri...   \n",
       "15          RF  (DecisionTreeClassifier(class_weight=None, cri...   \n",
       "16          LR  LogisticRegression(C=10, class_weight=None, du...   \n",
       "17          LR  LogisticRegression(C=10, class_weight=None, du...   \n",
       "18          LR  LogisticRegression(C=10, class_weight=None, du...   \n",
       "19          LR  LogisticRegression(C=10, class_weight=None, du...   \n",
       "20          LR  LogisticRegression(C=10, class_weight=None, du...   \n",
       "21          LR  LogisticRegression(C=10, class_weight=None, du...   \n",
       "22          LR  LogisticRegression(C=10, class_weight=None, du...   \n",
       "23          LR  LogisticRegression(C=10, class_weight=None, du...   \n",
       "24          LR  LogisticRegression(C=10, class_weight=None, du...   \n",
       "25          LR  LogisticRegression(C=10, class_weight=None, du...   \n",
       "26          DT  DecisionTreeClassifier(class_weight=None, crit...   \n",
       "27          DT  DecisionTreeClassifier(class_weight=None, crit...   \n",
       "28          DT  DecisionTreeClassifier(class_weight=None, crit...   \n",
       "29          DT  DecisionTreeClassifier(class_weight=None, crit...   \n",
       "..         ...                                                ...   \n",
       "118        KNN  KNeighborsClassifier(algorithm='kd_tree', leaf...   \n",
       "119        KNN  KNeighborsClassifier(algorithm='kd_tree', leaf...   \n",
       "120        KNN  KNeighborsClassifier(algorithm='kd_tree', leaf...   \n",
       "121        KNN  KNeighborsClassifier(algorithm='kd_tree', leaf...   \n",
       "122        KNN  KNeighborsClassifier(algorithm='kd_tree', leaf...   \n",
       "123        KNN  KNeighborsClassifier(algorithm='kd_tree', leaf...   \n",
       "124        KNN  KNeighborsClassifier(algorithm='kd_tree', leaf...   \n",
       "125        KNN  KNeighborsClassifier(algorithm='kd_tree', leaf...   \n",
       "126        KNN  KNeighborsClassifier(algorithm='kd_tree', leaf...   \n",
       "127        KNN  KNeighborsClassifier(algorithm='kd_tree', leaf...   \n",
       "128        KNN  KNeighborsClassifier(algorithm='kd_tree', leaf...   \n",
       "129        KNN  KNeighborsClassifier(algorithm='kd_tree', leaf...   \n",
       "130        KNN  KNeighborsClassifier(algorithm='kd_tree', leaf...   \n",
       "131        KNN  KNeighborsClassifier(algorithm='kd_tree', leaf...   \n",
       "132        KNN  KNeighborsClassifier(algorithm='kd_tree', leaf...   \n",
       "133        KNN  KNeighborsClassifier(algorithm='kd_tree', leaf...   \n",
       "134         AB  (DecisionTreeClassifier(class_weight=None, cri...   \n",
       "135         AB  (DecisionTreeClassifier(class_weight=None, cri...   \n",
       "136         AB  (DecisionTreeClassifier(class_weight=None, cri...   \n",
       "137         AB  (DecisionTreeClassifier(class_weight=None, cri...   \n",
       "138         AB  (DecisionTreeClassifier(class_weight=None, cri...   \n",
       "139         AB  (DecisionTreeClassifier(class_weight=None, cri...   \n",
       "140         AB  (DecisionTreeClassifier(class_weight=None, cri...   \n",
       "141         AB  (DecisionTreeClassifier(class_weight=None, cri...   \n",
       "142         AB  (DecisionTreeClassifier(class_weight=None, cri...   \n",
       "143         AB  (DecisionTreeClassifier(class_weight=None, cri...   \n",
       "144        BAG  (DecisionTreeClassifier(class_weight=None, cri...   \n",
       "145        BAG  (DecisionTreeClassifier(class_weight=None, cri...   \n",
       "146        BAG  (DecisionTreeClassifier(class_weight=None, cri...   \n",
       "147        BAG  (DecisionTreeClassifier(class_weight=None, cri...   \n",
       "\n",
       "                                            parameters   train_time  \\\n",
       "0    {'max_depth': 5, 'max_features': 'sqrt', 'min_...     0.672108   \n",
       "1    {'max_depth': 5, 'max_features': 'sqrt', 'min_...     5.291078   \n",
       "2    {'max_depth': 5, 'max_features': 'sqrt', 'min_...     0.534235   \n",
       "3    {'max_depth': 5, 'max_features': 'sqrt', 'min_...     5.182057   \n",
       "4    {'max_depth': 5, 'max_features': 'log2', 'min_...     0.651213   \n",
       "5    {'max_depth': 5, 'max_features': 'log2', 'min_...     5.270168   \n",
       "6    {'max_depth': 5, 'max_features': 'log2', 'min_...     0.646718   \n",
       "7    {'max_depth': 5, 'max_features': 'log2', 'min_...     5.179630   \n",
       "8    {'max_depth': 50, 'max_features': 'sqrt', 'min...     1.584396   \n",
       "9    {'max_depth': 50, 'max_features': 'sqrt', 'min...    14.235851   \n",
       "10   {'max_depth': 50, 'max_features': 'sqrt', 'min...     1.485076   \n",
       "11   {'max_depth': 50, 'max_features': 'sqrt', 'min...    13.612428   \n",
       "12   {'max_depth': 50, 'max_features': 'log2', 'min...     1.588504   \n",
       "13   {'max_depth': 50, 'max_features': 'log2', 'min...    14.761968   \n",
       "14   {'max_depth': 50, 'max_features': 'log2', 'min...     1.602592   \n",
       "15   {'max_depth': 50, 'max_features': 'log2', 'min...    14.202596   \n",
       "16                       {'C': 1e-05, 'penalty': 'l1'}     0.306622   \n",
       "17                       {'C': 1e-05, 'penalty': 'l2'}     0.444423   \n",
       "18                       {'C': 0.001, 'penalty': 'l1'}     0.314721   \n",
       "19                       {'C': 0.001, 'penalty': 'l2'}     0.422396   \n",
       "20                         {'C': 0.1, 'penalty': 'l1'}     0.474790   \n",
       "21                         {'C': 0.1, 'penalty': 'l2'}     0.481367   \n",
       "22                           {'C': 1, 'penalty': 'l1'}     0.809055   \n",
       "23                           {'C': 1, 'penalty': 'l2'}     0.465350   \n",
       "24                          {'C': 10, 'penalty': 'l1'}     0.367807   \n",
       "25                          {'C': 10, 'penalty': 'l2'}     0.419323   \n",
       "26   {'criterion': 'gini', 'max_depth': 1, 'max_fea...     0.055423   \n",
       "27   {'criterion': 'gini', 'max_depth': 1, 'max_fea...     0.045138   \n",
       "28   {'criterion': 'gini', 'max_depth': 1, 'max_fea...     0.157075   \n",
       "29   {'criterion': 'gini', 'max_depth': 1, 'max_fea...     0.058023   \n",
       "..                                                 ...          ...   \n",
       "118  {'algorithm': 'ball_tree', 'n_neighbors': 50, ...     0.158745   \n",
       "119  {'algorithm': 'ball_tree', 'n_neighbors': 50, ...     0.147641   \n",
       "120  {'algorithm': 'ball_tree', 'n_neighbors': 100,...     0.144113   \n",
       "121  {'algorithm': 'ball_tree', 'n_neighbors': 100,...     0.143444   \n",
       "122  {'algorithm': 'kd_tree', 'n_neighbors': 1, 'we...     0.318917   \n",
       "123  {'algorithm': 'kd_tree', 'n_neighbors': 1, 'we...     0.195337   \n",
       "124  {'algorithm': 'kd_tree', 'n_neighbors': 5, 'we...     0.230645   \n",
       "125  {'algorithm': 'kd_tree', 'n_neighbors': 5, 'we...     0.194476   \n",
       "126  {'algorithm': 'kd_tree', 'n_neighbors': 10, 'w...     0.196030   \n",
       "127  {'algorithm': 'kd_tree', 'n_neighbors': 10, 'w...     0.199886   \n",
       "128  {'algorithm': 'kd_tree', 'n_neighbors': 25, 'w...     0.190885   \n",
       "129  {'algorithm': 'kd_tree', 'n_neighbors': 25, 'w...     0.186876   \n",
       "130  {'algorithm': 'kd_tree', 'n_neighbors': 50, 'w...     0.203697   \n",
       "131  {'algorithm': 'kd_tree', 'n_neighbors': 50, 'w...     0.199215   \n",
       "132  {'algorithm': 'kd_tree', 'n_neighbors': 100, '...     0.198114   \n",
       "133  {'algorithm': 'kd_tree', 'n_neighbors': 100, '...     0.210839   \n",
       "134          {'algorithm': 'SAMME', 'n_estimators': 1}     0.089341   \n",
       "135         {'algorithm': 'SAMME', 'n_estimators': 10}     0.751148   \n",
       "136        {'algorithm': 'SAMME', 'n_estimators': 100}     7.980726   \n",
       "137       {'algorithm': 'SAMME', 'n_estimators': 1000}    73.680991   \n",
       "138      {'algorithm': 'SAMME', 'n_estimators': 10000}   738.126449   \n",
       "139        {'algorithm': 'SAMME.R', 'n_estimators': 1}     0.121557   \n",
       "140       {'algorithm': 'SAMME.R', 'n_estimators': 10}     0.908800   \n",
       "141      {'algorithm': 'SAMME.R', 'n_estimators': 100}     9.203247   \n",
       "142     {'algorithm': 'SAMME.R', 'n_estimators': 1000}    90.446472   \n",
       "143    {'algorithm': 'SAMME.R', 'n_estimators': 10000}  1241.838231   \n",
       "144            {'max_samples': 0.4, 'n_estimators': 5}     0.316777   \n",
       "145           {'max_samples': 0.4, 'n_estimators': 10}     0.696713   \n",
       "146            {'max_samples': 0.6, 'n_estimators': 5}     0.356572   \n",
       "147           {'max_samples': 0.6, 'n_estimators': 10}     0.907796   \n",
       "\n",
       "     test_time  accuracy  f1_score  precision    recall       auc    p_at_5  \\\n",
       "0     0.107386  0.934187  0.193464   0.576998  0.116215  0.555003  0.442133   \n",
       "1     0.227809  0.934560  0.174293   0.609412  0.101688  0.548470  0.442667   \n",
       "2     0.107933  0.934560  0.203764   0.586916  0.123282  0.558480  0.446933   \n",
       "3     0.224994  0.934453  0.179573   0.599109  0.105614  0.550232  0.440533   \n",
       "4     0.108530  0.932960  0.071640   0.602484  0.038084  0.518126  0.441067   \n",
       "5     0.325451  0.934587  0.176016   0.609302  0.102866  0.549030  0.444267   \n",
       "6     0.110097  0.933840  0.167170   0.576389  0.097762  0.546263  0.445333   \n",
       "7     0.231905  0.934773  0.155387   0.644699  0.088339  0.542396  0.444267   \n",
       "8     0.107834  0.930080  0.216378   0.453066  0.142128  0.564813  0.387200   \n",
       "9     0.536350  0.932293  0.244570   0.504914  0.161366  0.574918  0.411200   \n",
       "10    0.107382  0.931627  0.246326   0.490058  0.164507  0.576017  0.395200   \n",
       "11    0.544288  0.933627  0.241852   0.539402  0.155870  0.573085  0.428800   \n",
       "12    0.106359  0.931600  0.226711   0.488312  0.147625  0.568176  0.381867   \n",
       "13    0.740183  0.932320  0.243743   0.505562  0.160581  0.574569  0.413333   \n",
       "14    0.110832  0.933093  0.253940   0.523284  0.167648  0.578259  0.400000   \n",
       "15    0.548700  0.933493  0.245614   0.534914  0.159403  0.574652  0.427200   \n",
       "16    0.010394  0.932080  0.000000   0.000000  0.000000  0.500000  0.113067   \n",
       "17    0.002940  0.932107  0.018504   0.510638  0.009423  0.504382  0.128533   \n",
       "18    0.006551  0.932213  0.022308   0.547170  0.011386  0.505350  0.130667   \n",
       "19    0.002803  0.932293  0.024587   0.571429  0.012564  0.505939  0.131200   \n",
       "20    0.003714  0.932400  0.028363   0.596774  0.014527  0.506906  0.139200   \n",
       "21    0.002645  0.932293  0.024587   0.571429  0.012564  0.505939  0.131200   \n",
       "22    0.003552  0.932400  0.028363   0.596774  0.014527  0.506906  0.139733   \n",
       "23    0.002686  0.932293  0.024587   0.571429  0.012564  0.505939  0.131200   \n",
       "24    0.002761  0.932400  0.028363   0.596774  0.014527  0.506906  0.139200   \n",
       "25    0.002980  0.932293  0.024587   0.571429  0.012564  0.505939  0.131200   \n",
       "26    0.001889  0.932080  0.000000   0.000000  0.000000  0.500000  0.759467   \n",
       "27    0.002596  0.932080  0.000000   0.000000  0.000000  0.500000  1.000000   \n",
       "28    0.004268  0.932080  0.000000   0.000000  0.000000  0.500000  0.464000   \n",
       "29    0.003444  0.932080  0.000000   0.000000  0.000000  0.500000  0.759467   \n",
       "..         ...       ...       ...        ...       ...       ...       ...   \n",
       "118   7.049642  0.932160  0.004695   0.666667  0.002356  0.501135  0.173333   \n",
       "119   7.086528  0.931040  0.012223   0.225352  0.006282  0.502354  0.156267   \n",
       "120   9.010184  0.932027  0.008557   0.458333  0.004319  0.501973  0.158400   \n",
       "121  10.006683  0.931227  0.009981   0.224138  0.005104  0.501908  0.154133   \n",
       "122   1.630252  0.894293  0.141248   0.157564  0.127994  0.539063  0.173867   \n",
       "123   2.099800  0.894293  0.141248   0.157564  0.127994  0.539063  0.173867   \n",
       "124   2.641843  0.930107  0.051393   0.328704  0.027876  0.511864  0.397867   \n",
       "125   2.402308  0.923120  0.073884   0.203180  0.045151  0.516124  0.157333   \n",
       "126   2.443082  0.932453  0.025394   0.634615  0.012956  0.506206  0.323733   \n",
       "127   2.457021  0.928853  0.046462   0.258964  0.025520  0.510099  0.162667   \n",
       "128   2.882337  0.932320  0.012451   0.695652  0.006282  0.503041  0.258133   \n",
       "129   3.001981  0.930507  0.021037   0.243478  0.010993  0.504252  0.156800   \n",
       "130   3.665291  0.932160  0.004695   0.666667  0.002356  0.501135  0.173333   \n",
       "131   3.601559  0.931040  0.012223   0.225352  0.006282  0.502354  0.156267   \n",
       "132   4.534996  0.932027  0.008557   0.458333  0.004319  0.501973  0.157867   \n",
       "133   4.674965  0.931227  0.009981   0.224138  0.005104  0.501908  0.154133   \n",
       "134   0.003379  0.932080  0.000000   0.000000  0.000000  0.500000  0.464000   \n",
       "135   0.017719  0.932080  0.000000   0.000000  0.000000  0.500000  0.442133   \n",
       "136   0.116176  0.934533  0.249006   0.563712  0.159796  0.575392  0.436267   \n",
       "137   1.109016  0.934347  0.253487   0.556591  0.164115  0.577294  0.436800   \n",
       "138  13.688784  0.934027  0.251664   0.548090  0.163329  0.576758  0.437333   \n",
       "139   0.007054  0.932080  0.000000   0.000000  0.000000  0.500000  0.464000   \n",
       "140   0.043946  0.933413  0.171258   0.553648  0.101296  0.547672  0.446400   \n",
       "141   0.454195  0.933547  0.253892   0.534678  0.166470  0.577957  0.441600   \n",
       "142   4.106433  0.933680  0.253825   0.538168  0.166078  0.577846  0.435200   \n",
       "143  44.849677  0.933253  0.255724   0.526961  0.168826  0.578891  0.436267   \n",
       "144   0.025080  0.932080  0.000000   0.000000  0.000000  0.500000  0.119467   \n",
       "145   0.046665  0.932107  0.000785   1.000000  0.000393  0.500196  0.364267   \n",
       "146   0.022729  0.932080  0.000000   0.000000  0.000000  0.500000  0.409600   \n",
       "147   0.045451  0.932080  0.000000   0.000000  0.000000  0.500000  0.344000   \n",
       "\n",
       "      p_at_10   p_at_20    r_at_5   r_at_10   r_at_20  \n",
       "0    0.326933  0.221067  0.325481  0.481351  0.650962  \n",
       "1    0.324800  0.222667  0.325874  0.478210  0.655673  \n",
       "2    0.320800  0.221200  0.329015  0.472320  0.651355  \n",
       "3    0.323733  0.223333  0.324303  0.476639  0.657636  \n",
       "4    0.324000  0.221333  0.324696  0.477032  0.651747  \n",
       "5    0.326400  0.222800  0.327051  0.480565  0.656066  \n",
       "6    0.320533  0.222400  0.327837  0.471928  0.654888  \n",
       "7    0.323733  0.223067  0.327051  0.476639  0.656851  \n",
       "8    0.338933  0.228400  0.285041  0.499018  0.672556  \n",
       "9    0.300800  0.204800  0.302709  0.442874  0.603062  \n",
       "10   0.289067  0.197867  0.290931  0.425599  0.582646  \n",
       "11   0.305333  0.208667  0.315665  0.449548  0.614448  \n",
       "12   0.331733  0.228533  0.281115  0.488418  0.672949  \n",
       "13   0.298933  0.204400  0.304280  0.440126  0.601885  \n",
       "14   0.290133  0.196533  0.294464  0.427169  0.578720  \n",
       "15   0.305600  0.210000  0.314488  0.449941  0.618375  \n",
       "16   0.117333  0.110933  0.083235  0.172752  0.326659  \n",
       "17   0.127467  0.116000  0.094621  0.187672  0.341578  \n",
       "18   0.127200  0.115600  0.096192  0.187279  0.340400  \n",
       "19   0.127467  0.115600  0.096584  0.187672  0.340400  \n",
       "20   0.130400  0.117867  0.102473  0.191991  0.347075  \n",
       "21   0.127467  0.115600  0.096584  0.187672  0.340400  \n",
       "22   0.130667  0.117733  0.102866  0.192383  0.346682  \n",
       "23   0.127467  0.115600  0.096584  0.187672  0.340400  \n",
       "24   0.130400  0.117867  0.102473  0.191991  0.347075  \n",
       "25   0.127467  0.115600  0.096584  0.187672  0.340400  \n",
       "26   0.379733  0.256000  0.559089  0.559089  0.753828  \n",
       "27   0.529067  0.264533  0.736160  0.778956  0.778956  \n",
       "28   0.672533  0.339600  0.341578  0.990185  1.000000  \n",
       "29   0.379733  0.256000  0.559089  0.559089  0.753828  \n",
       "..        ...       ...       ...       ...       ...  \n",
       "118  0.184000  0.133467  0.127601  0.270907  0.393011  \n",
       "119  0.142133  0.124267  0.115037  0.209266  0.365921  \n",
       "120  0.141067  0.129333  0.116608  0.207695  0.380840  \n",
       "121  0.144800  0.126667  0.113467  0.213192  0.372988  \n",
       "122  0.535200  0.339600  0.127994  0.787986  1.000000  \n",
       "123  0.535200  0.339600  0.127994  0.787986  1.000000  \n",
       "124  0.253600  0.126800  0.292894  0.373380  0.373380  \n",
       "125  0.140533  0.117600  0.115823  0.206910  0.346290  \n",
       "126  0.161867  0.188133  0.238320  0.238320  0.553985  \n",
       "127  0.147467  0.119600  0.119749  0.217118  0.352179  \n",
       "128  0.209867  0.121200  0.190027  0.308991  0.356890  \n",
       "129  0.147733  0.123200  0.115430  0.217511  0.362780  \n",
       "130  0.184000  0.133467  0.127601  0.270907  0.393011  \n",
       "131  0.142133  0.124267  0.115037  0.209266  0.365921  \n",
       "132  0.141067  0.128667  0.116215  0.207695  0.378877  \n",
       "133  0.144800  0.126667  0.113467  0.213192  0.372988  \n",
       "134  0.672533  0.339600  0.341578  0.990185  1.000000  \n",
       "135  0.483733  0.241867  0.325481  0.712210  0.712210  \n",
       "136  0.331200  0.222667  0.321162  0.487633  0.655673  \n",
       "137  0.321867  0.222667  0.321555  0.473891  0.655673  \n",
       "138  0.321867  0.223333  0.321947  0.473891  0.657636  \n",
       "139  0.672533  0.339600  0.341578  0.990185  1.000000  \n",
       "140  0.311200  0.217733  0.328622  0.458186  0.641146  \n",
       "141  0.318667  0.223467  0.325088  0.469179  0.658029  \n",
       "142  0.321867  0.222267  0.320377  0.473891  0.654495  \n",
       "143  0.315733  0.219467  0.321162  0.464861  0.646250  \n",
       "144  0.123200  0.120000  0.087947  0.181390  0.353357  \n",
       "145  0.277600  0.206800  0.268159  0.408716  0.608952  \n",
       "146  0.309067  0.215467  0.301531  0.455045  0.634472  \n",
       "147  0.273333  0.192933  0.253239  0.402434  0.568119  \n",
       "\n",
       "[148 rows x 16 columns]"
      ]
     },
     "execution_count": 7,
     "metadata": {},
     "output_type": "execute_result"
    },
    {
     "data": {
      "text/plain": [
       "<matplotlib.figure.Figure at 0x10eba8b38>"
      ]
     },
     "metadata": {},
     "output_type": "display_data"
    },
    {
     "data": {
      "text/plain": [
       "<matplotlib.figure.Figure at 0x10fd21278>"
      ]
     },
     "metadata": {},
     "output_type": "display_data"
    },
    {
     "data": {
      "text/plain": [
       "<matplotlib.figure.Figure at 0x101f01f98>"
      ]
     },
     "metadata": {},
     "output_type": "display_data"
    },
    {
     "data": {
      "text/plain": [
       "<matplotlib.figure.Figure at 0x10e7f30f0>"
      ]
     },
     "metadata": {},
     "output_type": "display_data"
    },
    {
     "data": {
      "text/plain": [
       "<matplotlib.figure.Figure at 0x10ec087b8>"
      ]
     },
     "metadata": {},
     "output_type": "display_data"
    },
    {
     "data": {
      "text/plain": [
       "<matplotlib.figure.Figure at 0x10e54e4a8>"
      ]
     },
     "metadata": {},
     "output_type": "display_data"
    },
    {
     "data": {
      "text/plain": [
       "<matplotlib.figure.Figure at 0x10fd231d0>"
      ]
     },
     "metadata": {},
     "output_type": "display_data"
    },
    {
     "data": {
      "text/plain": [
       "<matplotlib.figure.Figure at 0x10ee15e80>"
      ]
     },
     "metadata": {},
     "output_type": "display_data"
    },
    {
     "data": {
      "text/plain": [
       "<matplotlib.figure.Figure at 0x10f22cd68>"
      ]
     },
     "metadata": {},
     "output_type": "display_data"
    },
    {
     "data": {
      "text/plain": [
       "<matplotlib.figure.Figure at 0x10ede8cc0>"
      ]
     },
     "metadata": {},
     "output_type": "display_data"
    },
    {
     "data": {
      "text/plain": [
       "<matplotlib.figure.Figure at 0x101baaba8>"
      ]
     },
     "metadata": {},
     "output_type": "display_data"
    },
    {
     "data": {
      "text/plain": [
       "<matplotlib.figure.Figure at 0x1107d1e80>"
      ]
     },
     "metadata": {},
     "output_type": "display_data"
    },
    {
     "data": {
      "text/plain": [
       "<matplotlib.figure.Figure at 0x1120ba908>"
      ]
     },
     "metadata": {},
     "output_type": "display_data"
    },
    {
     "data": {
      "text/plain": [
       "<matplotlib.figure.Figure at 0x1126185f8>"
      ]
     },
     "metadata": {},
     "output_type": "display_data"
    },
    {
     "data": {
      "text/plain": [
       "<matplotlib.figure.Figure at 0x1173bed68>"
      ]
     },
     "metadata": {},
     "output_type": "display_data"
    },
    {
     "data": {
      "text/plain": [
       "<matplotlib.figure.Figure at 0x1109cc080>"
      ]
     },
     "metadata": {},
     "output_type": "display_data"
    },
    {
     "data": {
      "text/plain": [
       "<matplotlib.figure.Figure at 0x112236208>"
      ]
     },
     "metadata": {},
     "output_type": "display_data"
    },
    {
     "data": {
      "text/plain": [
       "<matplotlib.figure.Figure at 0x112286b38>"
      ]
     },
     "metadata": {},
     "output_type": "display_data"
    },
    {
     "data": {
      "text/plain": [
       "<matplotlib.figure.Figure at 0x1158ec668>"
      ]
     },
     "metadata": {},
     "output_type": "display_data"
    },
    {
     "data": {
      "text/plain": [
       "<matplotlib.figure.Figure at 0x1198f8eb8>"
      ]
     },
     "metadata": {},
     "output_type": "display_data"
    },
    {
     "data": {
      "text/plain": [
       "<matplotlib.figure.Figure at 0x11278d470>"
      ]
     },
     "metadata": {},
     "output_type": "display_data"
    },
    {
     "data": {
      "text/plain": [
       "<matplotlib.figure.Figure at 0x119a2e7f0>"
      ]
     },
     "metadata": {},
     "output_type": "display_data"
    },
    {
     "data": {
      "text/plain": [
       "<matplotlib.figure.Figure at 0x1180e38d0>"
      ]
     },
     "metadata": {},
     "output_type": "display_data"
    },
    {
     "data": {
      "text/plain": [
       "<matplotlib.figure.Figure at 0x119f9e320>"
      ]
     },
     "metadata": {},
     "output_type": "display_data"
    },
    {
     "data": {
      "text/plain": [
       "<matplotlib.figure.Figure at 0x11ac33f28>"
      ]
     },
     "metadata": {},
     "output_type": "display_data"
    },
    {
     "data": {
      "text/plain": [
       "<matplotlib.figure.Figure at 0x11a6bf978>"
      ]
     },
     "metadata": {},
     "output_type": "display_data"
    },
    {
     "data": {
      "text/plain": [
       "<matplotlib.figure.Figure at 0x11ac9ad30>"
      ]
     },
     "metadata": {},
     "output_type": "display_data"
    },
    {
     "data": {
      "text/plain": [
       "<matplotlib.figure.Figure at 0x11c699c88>"
      ]
     },
     "metadata": {},
     "output_type": "display_data"
    },
    {
     "data": {
      "text/plain": [
       "<matplotlib.figure.Figure at 0x11f9eb630>"
      ]
     },
     "metadata": {},
     "output_type": "display_data"
    },
    {
     "data": {
      "text/plain": [
       "<matplotlib.figure.Figure at 0x11c7815f8>"
      ]
     },
     "metadata": {},
     "output_type": "display_data"
    },
    {
     "data": {
      "text/plain": [
       "<matplotlib.figure.Figure at 0x11c05b128>"
      ]
     },
     "metadata": {},
     "output_type": "display_data"
    },
    {
     "data": {
      "text/plain": [
       "<matplotlib.figure.Figure at 0x11c781940>"
      ]
     },
     "metadata": {},
     "output_type": "display_data"
    },
    {
     "data": {
      "text/plain": [
       "<matplotlib.figure.Figure at 0x11b8964e0>"
      ]
     },
     "metadata": {},
     "output_type": "display_data"
    },
    {
     "data": {
      "text/plain": [
       "<matplotlib.figure.Figure at 0x11c5811d0>"
      ]
     },
     "metadata": {},
     "output_type": "display_data"
    },
    {
     "data": {
      "text/plain": [
       "<matplotlib.figure.Figure at 0x11bbd5b00>"
      ]
     },
     "metadata": {},
     "output_type": "display_data"
    },
    {
     "data": {
      "text/plain": [
       "<matplotlib.figure.Figure at 0x11fb36c88>"
      ]
     },
     "metadata": {},
     "output_type": "display_data"
    },
    {
     "data": {
      "text/plain": [
       "<matplotlib.figure.Figure at 0x1218deac8>"
      ]
     },
     "metadata": {},
     "output_type": "display_data"
    },
    {
     "data": {
      "text/plain": [
       "<matplotlib.figure.Figure at 0x1212f1ba8>"
      ]
     },
     "metadata": {},
     "output_type": "display_data"
    },
    {
     "data": {
      "text/plain": [
       "<matplotlib.figure.Figure at 0x11be69160>"
      ]
     },
     "metadata": {},
     "output_type": "display_data"
    },
    {
     "data": {
      "text/plain": [
       "<matplotlib.figure.Figure at 0x11be8b2b0>"
      ]
     },
     "metadata": {},
     "output_type": "display_data"
    },
    {
     "data": {
      "text/plain": [
       "<matplotlib.figure.Figure at 0x1234d19e8>"
      ]
     },
     "metadata": {},
     "output_type": "display_data"
    },
    {
     "data": {
      "text/plain": [
       "<matplotlib.figure.Figure at 0x12398f828>"
      ]
     },
     "metadata": {},
     "output_type": "display_data"
    },
    {
     "data": {
      "text/plain": [
       "<matplotlib.figure.Figure at 0x123522a90>"
      ]
     },
     "metadata": {},
     "output_type": "display_data"
    },
    {
     "data": {
      "text/plain": [
       "<matplotlib.figure.Figure at 0x11d71f9e8>"
      ]
     },
     "metadata": {},
     "output_type": "display_data"
    },
    {
     "data": {
      "text/plain": [
       "<matplotlib.figure.Figure at 0x1244282e8>"
      ]
     },
     "metadata": {},
     "output_type": "display_data"
    },
    {
     "data": {
      "text/plain": [
       "<matplotlib.figure.Figure at 0x1235c2780>"
      ]
     },
     "metadata": {},
     "output_type": "display_data"
    },
    {
     "data": {
      "text/plain": [
       "<matplotlib.figure.Figure at 0x1236dc828>"
      ]
     },
     "metadata": {},
     "output_type": "display_data"
    },
    {
     "data": {
      "text/plain": [
       "<matplotlib.figure.Figure at 0x12441e160>"
      ]
     },
     "metadata": {},
     "output_type": "display_data"
    },
    {
     "data": {
      "text/plain": [
       "<matplotlib.figure.Figure at 0x122cc9358>"
      ]
     },
     "metadata": {},
     "output_type": "display_data"
    },
    {
     "data": {
      "text/plain": [
       "<matplotlib.figure.Figure at 0x122d69a90>"
      ]
     },
     "metadata": {},
     "output_type": "display_data"
    },
    {
     "data": {
      "text/plain": [
       "<matplotlib.figure.Figure at 0x122d79f98>"
      ]
     },
     "metadata": {},
     "output_type": "display_data"
    },
    {
     "data": {
      "text/plain": [
       "<matplotlib.figure.Figure at 0x123089ba8>"
      ]
     },
     "metadata": {},
     "output_type": "display_data"
    },
    {
     "data": {
      "text/plain": [
       "<matplotlib.figure.Figure at 0x124953a58>"
      ]
     },
     "metadata": {},
     "output_type": "display_data"
    },
    {
     "data": {
      "text/plain": [
       "<matplotlib.figure.Figure at 0x12498c5f8>"
      ]
     },
     "metadata": {},
     "output_type": "display_data"
    },
    {
     "data": {
      "text/plain": [
       "<matplotlib.figure.Figure at 0x12580e518>"
      ]
     },
     "metadata": {},
     "output_type": "display_data"
    },
    {
     "data": {
      "text/plain": [
       "<matplotlib.figure.Figure at 0x12519c9b0>"
      ]
     },
     "metadata": {},
     "output_type": "display_data"
    },
    {
     "data": {
      "text/plain": [
       "<matplotlib.figure.Figure at 0x125d3ff28>"
      ]
     },
     "metadata": {},
     "output_type": "display_data"
    },
    {
     "data": {
      "text/plain": [
       "<matplotlib.figure.Figure at 0x124149898>"
      ]
     },
     "metadata": {},
     "output_type": "display_data"
    },
    {
     "data": {
      "text/plain": [
       "<matplotlib.figure.Figure at 0x125adaa58>"
      ]
     },
     "metadata": {},
     "output_type": "display_data"
    },
    {
     "data": {
      "text/plain": [
       "<matplotlib.figure.Figure at 0x12540f5f8>"
      ]
     },
     "metadata": {},
     "output_type": "display_data"
    },
    {
     "data": {
      "text/plain": [
       "<matplotlib.figure.Figure at 0x12638acf8>"
      ]
     },
     "metadata": {},
     "output_type": "display_data"
    },
    {
     "data": {
      "text/plain": [
       "<matplotlib.figure.Figure at 0x12639cc18>"
      ]
     },
     "metadata": {},
     "output_type": "display_data"
    },
    {
     "data": {
      "text/plain": [
       "<matplotlib.figure.Figure at 0x126491a20>"
      ]
     },
     "metadata": {},
     "output_type": "display_data"
    },
    {
     "data": {
      "text/plain": [
       "<matplotlib.figure.Figure at 0x126c4de80>"
      ]
     },
     "metadata": {},
     "output_type": "display_data"
    },
    {
     "data": {
      "text/plain": [
       "<matplotlib.figure.Figure at 0x124ffdc88>"
      ]
     },
     "metadata": {},
     "output_type": "display_data"
    },
    {
     "data": {
      "text/plain": [
       "<matplotlib.figure.Figure at 0x1269f7748>"
      ]
     },
     "metadata": {},
     "output_type": "display_data"
    },
    {
     "data": {
      "text/plain": [
       "<matplotlib.figure.Figure at 0x126afe630>"
      ]
     },
     "metadata": {},
     "output_type": "display_data"
    },
    {
     "data": {
      "text/plain": [
       "<matplotlib.figure.Figure at 0x1272eeba8>"
      ]
     },
     "metadata": {},
     "output_type": "display_data"
    },
    {
     "data": {
      "text/plain": [
       "<matplotlib.figure.Figure at 0x127341518>"
      ]
     },
     "metadata": {},
     "output_type": "display_data"
    },
    {
     "data": {
      "text/plain": [
       "<matplotlib.figure.Figure at 0x126a48d30>"
      ]
     },
     "metadata": {},
     "output_type": "display_data"
    },
    {
     "data": {
      "text/plain": [
       "<matplotlib.figure.Figure at 0x1274f4ac8>"
      ]
     },
     "metadata": {},
     "output_type": "display_data"
    },
    {
     "data": {
      "text/plain": [
       "<matplotlib.figure.Figure at 0x1270df7b8>"
      ]
     },
     "metadata": {},
     "output_type": "display_data"
    },
    {
     "data": {
      "text/plain": [
       "<matplotlib.figure.Figure at 0x1270d4ba8>"
      ]
     },
     "metadata": {},
     "output_type": "display_data"
    },
    {
     "data": {
      "text/plain": [
       "<matplotlib.figure.Figure at 0x1283d4da0>"
      ]
     },
     "metadata": {},
     "output_type": "display_data"
    },
    {
     "data": {
      "text/plain": [
       "<matplotlib.figure.Figure at 0x124c102e8>"
      ]
     },
     "metadata": {},
     "output_type": "display_data"
    },
    {
     "data": {
      "text/plain": [
       "<matplotlib.figure.Figure at 0x1283e5710>"
      ]
     },
     "metadata": {},
     "output_type": "display_data"
    },
    {
     "data": {
      "text/plain": [
       "<matplotlib.figure.Figure at 0x12808f828>"
      ]
     },
     "metadata": {},
     "output_type": "display_data"
    },
    {
     "data": {
      "text/plain": [
       "<matplotlib.figure.Figure at 0x1271029b0>"
      ]
     },
     "metadata": {},
     "output_type": "display_data"
    },
    {
     "data": {
      "text/plain": [
       "<matplotlib.figure.Figure at 0x128476550>"
      ]
     },
     "metadata": {},
     "output_type": "display_data"
    },
    {
     "data": {
      "text/plain": [
       "<matplotlib.figure.Figure at 0x128e51f28>"
      ]
     },
     "metadata": {},
     "output_type": "display_data"
    },
    {
     "data": {
      "text/plain": [
       "<matplotlib.figure.Figure at 0x128e20c18>"
      ]
     },
     "metadata": {},
     "output_type": "display_data"
    },
    {
     "data": {
      "text/plain": [
       "<matplotlib.figure.Figure at 0x128c62cf8>"
      ]
     },
     "metadata": {},
     "output_type": "display_data"
    },
    {
     "data": {
      "text/plain": [
       "<matplotlib.figure.Figure at 0x127bbce10>"
      ]
     },
     "metadata": {},
     "output_type": "display_data"
    },
    {
     "data": {
      "text/plain": [
       "<matplotlib.figure.Figure at 0x128e9bbe0>"
      ]
     },
     "metadata": {},
     "output_type": "display_data"
    },
    {
     "data": {
      "text/plain": [
       "<matplotlib.figure.Figure at 0x126198320>"
      ]
     },
     "metadata": {},
     "output_type": "display_data"
    },
    {
     "data": {
      "text/plain": [
       "<matplotlib.figure.Figure at 0x128ac2898>"
      ]
     },
     "metadata": {},
     "output_type": "display_data"
    },
    {
     "data": {
      "text/plain": [
       "<matplotlib.figure.Figure at 0x126c87c18>"
      ]
     },
     "metadata": {},
     "output_type": "display_data"
    },
    {
     "data": {
      "text/plain": [
       "<matplotlib.figure.Figure at 0x127a37208>"
      ]
     },
     "metadata": {},
     "output_type": "display_data"
    },
    {
     "data": {
      "text/plain": [
       "<matplotlib.figure.Figure at 0x1261c8710>"
      ]
     },
     "metadata": {},
     "output_type": "display_data"
    },
    {
     "data": {
      "text/plain": [
       "<matplotlib.figure.Figure at 0x127a4b908>"
      ]
     },
     "metadata": {},
     "output_type": "display_data"
    },
    {
     "data": {
      "text/plain": [
       "<matplotlib.figure.Figure at 0x1297de2e8>"
      ]
     },
     "metadata": {},
     "output_type": "display_data"
    },
    {
     "data": {
      "text/plain": [
       "<matplotlib.figure.Figure at 0x127a8ae10>"
      ]
     },
     "metadata": {},
     "output_type": "display_data"
    },
    {
     "data": {
      "text/plain": [
       "<matplotlib.figure.Figure at 0x127a8ad30>"
      ]
     },
     "metadata": {},
     "output_type": "display_data"
    },
    {
     "data": {
      "text/plain": [
       "<matplotlib.figure.Figure at 0x124dbf630>"
      ]
     },
     "metadata": {},
     "output_type": "display_data"
    },
    {
     "data": {
      "text/plain": [
       "<matplotlib.figure.Figure at 0x12a6da780>"
      ]
     },
     "metadata": {},
     "output_type": "display_data"
    },
    {
     "data": {
      "text/plain": [
       "<matplotlib.figure.Figure at 0x12a863898>"
      ]
     },
     "metadata": {},
     "output_type": "display_data"
    },
    {
     "data": {
      "text/plain": [
       "<matplotlib.figure.Figure at 0x12a859208>"
      ]
     },
     "metadata": {},
     "output_type": "display_data"
    },
    {
     "data": {
      "text/plain": [
       "<matplotlib.figure.Figure at 0x12b49c630>"
      ]
     },
     "metadata": {},
     "output_type": "display_data"
    },
    {
     "data": {
      "text/plain": [
       "<matplotlib.figure.Figure at 0x12af33518>"
      ]
     },
     "metadata": {},
     "output_type": "display_data"
    },
    {
     "data": {
      "text/plain": [
       "<matplotlib.figure.Figure at 0x128eec358>"
      ]
     },
     "metadata": {},
     "output_type": "display_data"
    },
    {
     "data": {
      "text/plain": [
       "<matplotlib.figure.Figure at 0x12a762cc0>"
      ]
     },
     "metadata": {},
     "output_type": "display_data"
    },
    {
     "data": {
      "text/plain": [
       "<matplotlib.figure.Figure at 0x128ed8ac8>"
      ]
     },
     "metadata": {},
     "output_type": "display_data"
    },
    {
     "data": {
      "text/plain": [
       "<matplotlib.figure.Figure at 0x12a264f60>"
      ]
     },
     "metadata": {},
     "output_type": "display_data"
    },
    {
     "data": {
      "text/plain": [
       "<matplotlib.figure.Figure at 0x12ce68908>"
      ]
     },
     "metadata": {},
     "output_type": "display_data"
    },
    {
     "data": {
      "text/plain": [
       "<matplotlib.figure.Figure at 0x12b4f1748>"
      ]
     },
     "metadata": {},
     "output_type": "display_data"
    },
    {
     "data": {
      "text/plain": [
       "<matplotlib.figure.Figure at 0x12c0e8208>"
      ]
     },
     "metadata": {},
     "output_type": "display_data"
    },
    {
     "data": {
      "text/plain": [
       "<matplotlib.figure.Figure at 0x1299e0a58>"
      ]
     },
     "metadata": {},
     "output_type": "display_data"
    },
    {
     "data": {
      "text/plain": [
       "<matplotlib.figure.Figure at 0x12cda1cc0>"
      ]
     },
     "metadata": {},
     "output_type": "display_data"
    },
    {
     "data": {
      "text/plain": [
       "<matplotlib.figure.Figure at 0x129e04b38>"
      ]
     },
     "metadata": {},
     "output_type": "display_data"
    },
    {
     "data": {
      "text/plain": [
       "<matplotlib.figure.Figure at 0x12be23048>"
      ]
     },
     "metadata": {},
     "output_type": "display_data"
    },
    {
     "data": {
      "text/plain": [
       "<matplotlib.figure.Figure at 0x12d0c0278>"
      ]
     },
     "metadata": {},
     "output_type": "display_data"
    },
    {
     "data": {
      "text/plain": [
       "<matplotlib.figure.Figure at 0x12be914a8>"
      ]
     },
     "metadata": {},
     "output_type": "display_data"
    },
    {
     "data": {
      "text/plain": [
       "<matplotlib.figure.Figure at 0x12d5eb048>"
      ]
     },
     "metadata": {},
     "output_type": "display_data"
    },
    {
     "data": {
      "text/plain": [
       "<matplotlib.figure.Figure at 0x12bca4438>"
      ]
     },
     "metadata": {},
     "output_type": "display_data"
    },
    {
     "data": {
      "text/plain": [
       "<matplotlib.figure.Figure at 0x12c994860>"
      ]
     },
     "metadata": {},
     "output_type": "display_data"
    },
    {
     "data": {
      "text/plain": [
       "<matplotlib.figure.Figure at 0x12d26db00>"
      ]
     },
     "metadata": {},
     "output_type": "display_data"
    },
    {
     "data": {
      "text/plain": [
       "<matplotlib.figure.Figure at 0x12d7374e0>"
      ]
     },
     "metadata": {},
     "output_type": "display_data"
    },
    {
     "data": {
      "text/plain": [
       "<matplotlib.figure.Figure at 0x12dd61c88>"
      ]
     },
     "metadata": {},
     "output_type": "display_data"
    },
    {
     "data": {
      "text/plain": [
       "<matplotlib.figure.Figure at 0x12d630a20>"
      ]
     },
     "metadata": {},
     "output_type": "display_data"
    },
    {
     "data": {
      "text/plain": [
       "<matplotlib.figure.Figure at 0x12f145470>"
      ]
     },
     "metadata": {},
     "output_type": "display_data"
    },
    {
     "data": {
      "text/plain": [
       "<matplotlib.figure.Figure at 0x12dda6438>"
      ]
     },
     "metadata": {},
     "output_type": "display_data"
    },
    {
     "data": {
      "text/plain": [
       "<matplotlib.figure.Figure at 0x12ee4def0>"
      ]
     },
     "metadata": {},
     "output_type": "display_data"
    },
    {
     "data": {
      "text/plain": [
       "<matplotlib.figure.Figure at 0x133625400>"
      ]
     },
     "metadata": {},
     "output_type": "display_data"
    },
    {
     "data": {
      "text/plain": [
       "<matplotlib.figure.Figure at 0x12ee66a90>"
      ]
     },
     "metadata": {},
     "output_type": "display_data"
    },
    {
     "data": {
      "text/plain": [
       "<matplotlib.figure.Figure at 0x12df76588>"
      ]
     },
     "metadata": {},
     "output_type": "display_data"
    },
    {
     "data": {
      "text/plain": [
       "<matplotlib.figure.Figure at 0x12c93ffd0>"
      ]
     },
     "metadata": {},
     "output_type": "display_data"
    },
    {
     "data": {
      "text/plain": [
       "<matplotlib.figure.Figure at 0x12ee9cf60>"
      ]
     },
     "metadata": {},
     "output_type": "display_data"
    },
    {
     "data": {
      "text/plain": [
       "<matplotlib.figure.Figure at 0x10e5a8cf8>"
      ]
     },
     "metadata": {},
     "output_type": "display_data"
    },
    {
     "data": {
      "text/plain": [
       "<matplotlib.figure.Figure at 0x12f440390>"
      ]
     },
     "metadata": {},
     "output_type": "display_data"
    },
    {
     "data": {
      "text/plain": [
       "<matplotlib.figure.Figure at 0x12df9fd30>"
      ]
     },
     "metadata": {},
     "output_type": "display_data"
    },
    {
     "data": {
      "text/plain": [
       "<matplotlib.figure.Figure at 0x12f62ef60>"
      ]
     },
     "metadata": {},
     "output_type": "display_data"
    },
    {
     "data": {
      "text/plain": [
       "<matplotlib.figure.Figure at 0x12f378a90>"
      ]
     },
     "metadata": {},
     "output_type": "display_data"
    },
    {
     "data": {
      "text/plain": [
       "<matplotlib.figure.Figure at 0x1304d9da0>"
      ]
     },
     "metadata": {},
     "output_type": "display_data"
    },
    {
     "data": {
      "text/plain": [
       "<matplotlib.figure.Figure at 0x12f693e48>"
      ]
     },
     "metadata": {},
     "output_type": "display_data"
    },
    {
     "data": {
      "text/plain": [
       "<matplotlib.figure.Figure at 0x1304eca58>"
      ]
     },
     "metadata": {},
     "output_type": "display_data"
    },
    {
     "data": {
      "text/plain": [
       "<matplotlib.figure.Figure at 0x1303dc9b0>"
      ]
     },
     "metadata": {},
     "output_type": "display_data"
    },
    {
     "data": {
      "text/plain": [
       "<matplotlib.figure.Figure at 0x12e60c7b8>"
      ]
     },
     "metadata": {},
     "output_type": "display_data"
    },
    {
     "data": {
      "text/plain": [
       "<matplotlib.figure.Figure at 0x12e604f98>"
      ]
     },
     "metadata": {},
     "output_type": "display_data"
    },
    {
     "data": {
      "text/plain": [
       "<matplotlib.figure.Figure at 0x1329d70f0>"
      ]
     },
     "metadata": {},
     "output_type": "display_data"
    },
    {
     "data": {
      "text/plain": [
       "<matplotlib.figure.Figure at 0x12fcb7f28>"
      ]
     },
     "metadata": {},
     "output_type": "display_data"
    },
    {
     "data": {
      "text/plain": [
       "<matplotlib.figure.Figure at 0x130df2cf8>"
      ]
     },
     "metadata": {},
     "output_type": "display_data"
    },
    {
     "data": {
      "text/plain": [
       "<matplotlib.figure.Figure at 0x13334add8>"
      ]
     },
     "metadata": {},
     "output_type": "display_data"
    },
    {
     "data": {
      "text/plain": [
       "<matplotlib.figure.Figure at 0x1329caf28>"
      ]
     },
     "metadata": {},
     "output_type": "display_data"
    },
    {
     "data": {
      "text/plain": [
       "<matplotlib.figure.Figure at 0x1335c16a0>"
      ]
     },
     "metadata": {},
     "output_type": "display_data"
    },
    {
     "data": {
      "text/plain": [
       "<matplotlib.figure.Figure at 0x13496b588>"
      ]
     },
     "metadata": {},
     "output_type": "display_data"
    },
    {
     "data": {
      "text/plain": [
       "<matplotlib.figure.Figure at 0x132d957f0>"
      ]
     },
     "metadata": {},
     "output_type": "display_data"
    },
    {
     "data": {
      "text/plain": [
       "<matplotlib.figure.Figure at 0x134851ef0>"
      ]
     },
     "metadata": {},
     "output_type": "display_data"
    },
    {
     "data": {
      "text/plain": [
       "<matplotlib.figure.Figure at 0x134174908>"
      ]
     },
     "metadata": {},
     "output_type": "display_data"
    }
   ],
   "source": [
    "X = np.array(['RevolvingUtilizationOfUnsecuredLines', 'DebtRatio', 'age', 'MonthlyIncome', 'NumberOfTimes90DaysLate'])\n",
    "y = 'SeriousDlqin2yrs'\n",
    "models_to_run=['RF','LR','DT','KNN','AB','BAG']\n",
    "grid_size = 'small'\n",
    "\n",
    "df = read_data('credit-data.csv', 'csv')\n",
    "df['SeriousDlqin2yrs'] = df['SeriousDlqin2yrs'].astype(np.bool)\n",
    "fill_null(df, ['MonthlyIncome'], 'mean')\n",
    "clfs, grid = define_clfs_params(grid_size)\n",
    "clf_loop(models_to_run, clfs, grid, df[X], df[y], 0.25)"
   ]
  },
  {
   "cell_type": "code",
   "execution_count": 14,
   "metadata": {
    "collapsed": true
   },
   "outputs": [],
   "source": [
    "result = pd.read_csv('clf_evaluations.csv', index_col=0)\n",
    "METRICS = ['auc', 'f1_score','precision','recall','accuracy','train_time']"
   ]
  },
  {
   "cell_type": "code",
   "execution_count": 15,
   "metadata": {
    "collapsed": true
   },
   "outputs": [],
   "source": [
    "def select_best(result, metric):\n",
    "    best_models_by_metric = result.sort(metric, ascending=False).head(10)\n",
    "    return best_models_by_metric"
   ]
  },
  {
   "cell_type": "code",
   "execution_count": 22,
   "metadata": {
    "collapsed": false
   },
   "outputs": [
    {
     "name": "stdout",
     "output_type": "stream",
     "text": [
      "   model_type       auc\n",
      "96         DT  0.590677\n",
      "51         DT  0.589102\n",
      "56         DT  0.588999\n",
      "53         DT  0.588304\n",
      "92         DT  0.588154\n",
      "87         DT  0.587312\n",
      "54         DT  0.587006\n",
      "91         DT  0.586968\n",
      "93         DT  0.586758\n",
      "50         DT  0.586452\n",
      "    model_type  f1_score\n",
      "143         AB  0.255724\n",
      "76          DT  0.255281\n",
      "14          RF  0.253940\n",
      "141         AB  0.253892\n",
      "142         AB  0.253825\n",
      "137         AB  0.253487\n",
      "138         AB  0.251664\n",
      "42          DT  0.250815\n",
      "46          DT  0.249744\n",
      "136         AB  0.249006\n",
      "    model_type  precision\n",
      "145        BAG   1.000000\n",
      "128        KNN   0.695652\n",
      "104        KNN   0.695652\n",
      "116        KNN   0.680000\n",
      "106        KNN   0.666667\n",
      "130        KNN   0.666667\n",
      "118        KNN   0.666667\n",
      "32          DT   0.666667\n",
      "7           RF   0.644699\n",
      "114        KNN   0.634615\n",
      "   model_type    recall\n",
      "56         DT  0.233216\n",
      "53         DT  0.231252\n",
      "92         DT  0.230467\n",
      "50         DT  0.230467\n",
      "95         DT  0.226148\n",
      "89         DT  0.225756\n",
      "96         DT  0.225756\n",
      "86         DT  0.224185\n",
      "51         DT  0.223007\n",
      "87         DT  0.221830\n",
      "    model_type  accuracy\n",
      "7           RF  0.934773\n",
      "5           RF  0.934587\n",
      "2           RF  0.934560\n",
      "1           RF  0.934560\n",
      "136         AB  0.934533\n",
      "37          DT  0.934480\n",
      "3           RF  0.934453\n",
      "137         AB  0.934347\n",
      "70          DT  0.934320\n",
      "33          DT  0.934267\n",
      "    model_type   train_time\n",
      "143         AB  1241.838231\n",
      "138         AB   738.126449\n",
      "142         AB    90.446472\n",
      "137         AB    73.680991\n",
      "13          RF    14.761968\n",
      "9           RF    14.235851\n",
      "15          RF    14.202596\n",
      "11          RF    13.612428\n",
      "141         AB     9.203247\n",
      "136         AB     7.980726\n"
     ]
    },
    {
     "name": "stderr",
     "output_type": "stream",
     "text": [
      "/anaconda/lib/python3.6/site-packages/ipykernel/__main__.py:2: FutureWarning: sort(columns=....) is deprecated, use sort_values(by=.....)\n",
      "  from ipykernel import kernelapp as app\n"
     ]
    }
   ],
   "source": [
    "for metric in METRICS:\n",
    "    print(select_best(result, metric)[['model_type', metric]])\n"
   ]
  },
  {
   "cell_type": "code",
   "execution_count": null,
   "metadata": {
    "collapsed": true
   },
   "outputs": [],
   "source": []
  }
 ],
 "metadata": {
  "kernelspec": {
   "display_name": "Python 3",
   "language": "python",
   "name": "python3"
  },
  "language_info": {
   "codemirror_mode": {
    "name": "ipython",
    "version": 3
   },
   "file_extension": ".py",
   "mimetype": "text/x-python",
   "name": "python",
   "nbconvert_exporter": "python",
   "pygments_lexer": "ipython3",
   "version": "3.6.0"
  }
 },
 "nbformat": 4,
 "nbformat_minor": 2
}
